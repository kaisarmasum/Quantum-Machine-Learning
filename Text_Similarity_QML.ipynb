{
  "nbformat": 4,
  "nbformat_minor": 0,
  "metadata": {
    "colab": {
      "provenance": [],
      "gpuType": "T4",
      "authorship_tag": "ABX9TyOmfJezbwY5p4+Up/26E1/W",
      "include_colab_link": true
    },
    "kernelspec": {
      "name": "python3",
      "display_name": "Python 3"
    },
    "language_info": {
      "name": "python"
    },
    "accelerator": "GPU"
  },
  "cells": [
    {
      "cell_type": "markdown",
      "metadata": {
        "id": "view-in-github",
        "colab_type": "text"
      },
      "source": [
        "<a href=\"https://colab.research.google.com/github/kaisarmasum/Quantum-Machine-Learning/blob/main/Text_Similarity_QML.ipynb\" target=\"_parent\"><img src=\"https://colab.research.google.com/assets/colab-badge.svg\" alt=\"Open In Colab\"/></a>"
      ]
    },
    {
      "cell_type": "code",
      "source": [
        "!pip install PennyLane"
      ],
      "metadata": {
        "colab": {
          "base_uri": "https://localhost:8080/"
        },
        "id": "aX0BJhdb5j1E",
        "outputId": "58fe26bc-e42d-4418-ed7c-1bb7d9b9a1da"
      },
      "execution_count": null,
      "outputs": [
        {
          "output_type": "stream",
          "name": "stdout",
          "text": [
            "Collecting PennyLane\n",
            "  Downloading PennyLane-0.31.0-py3-none-any.whl (1.4 MB)\n",
            "\u001b[2K     \u001b[90m━━━━━━━━━━━━━━━━━━━━━━━━━━━━━━━━━━━━━━━━\u001b[0m \u001b[32m1.4/1.4 MB\u001b[0m \u001b[31m14.0 MB/s\u001b[0m eta \u001b[36m0:00:00\u001b[0m\n",
            "\u001b[?25hRequirement already satisfied: numpy<1.24 in /usr/local/lib/python3.10/dist-packages (from PennyLane) (1.22.4)\n",
            "Collecting scipy<=1.10 (from PennyLane)\n",
            "  Downloading scipy-1.10.0-cp310-cp310-manylinux_2_17_x86_64.manylinux2014_x86_64.whl (34.4 MB)\n",
            "\u001b[2K     \u001b[90m━━━━━━━━━━━━━━━━━━━━━━━━━━━━━━━━━━━━━━━━\u001b[0m \u001b[32m34.4/34.4 MB\u001b[0m \u001b[31m17.1 MB/s\u001b[0m eta \u001b[36m0:00:00\u001b[0m\n",
            "\u001b[?25hRequirement already satisfied: networkx in /usr/local/lib/python3.10/dist-packages (from PennyLane) (3.1)\n",
            "Collecting rustworkx (from PennyLane)\n",
            "  Downloading rustworkx-0.13.0-cp310-cp310-manylinux_2_17_x86_64.manylinux2014_x86_64.whl (1.9 MB)\n",
            "\u001b[2K     \u001b[90m━━━━━━━━━━━━━━━━━━━━━━━━━━━━━━━━━━━━━━━━\u001b[0m \u001b[32m1.9/1.9 MB\u001b[0m \u001b[31m92.6 MB/s\u001b[0m eta \u001b[36m0:00:00\u001b[0m\n",
            "\u001b[?25hCollecting autograd<=1.5 (from PennyLane)\n",
            "  Downloading autograd-1.5-py3-none-any.whl (48 kB)\n",
            "\u001b[2K     \u001b[90m━━━━━━━━━━━━━━━━━━━━━━━━━━━━━━━━━━━━━━━━\u001b[0m \u001b[32m48.9/48.9 kB\u001b[0m \u001b[31m6.4 MB/s\u001b[0m eta \u001b[36m0:00:00\u001b[0m\n",
            "\u001b[?25hRequirement already satisfied: toml in /usr/local/lib/python3.10/dist-packages (from PennyLane) (0.10.2)\n",
            "Requirement already satisfied: appdirs in /usr/local/lib/python3.10/dist-packages (from PennyLane) (1.4.4)\n",
            "Collecting semantic-version>=2.7 (from PennyLane)\n",
            "  Downloading semantic_version-2.10.0-py2.py3-none-any.whl (15 kB)\n",
            "Collecting autoray>=0.3.1 (from PennyLane)\n",
            "  Downloading autoray-0.6.6-py3-none-any.whl (54 kB)\n",
            "\u001b[2K     \u001b[90m━━━━━━━━━━━━━━━━━━━━━━━━━━━━━━━━━━━━━━━━\u001b[0m \u001b[32m54.7/54.7 kB\u001b[0m \u001b[31m7.4 MB/s\u001b[0m eta \u001b[36m0:00:00\u001b[0m\n",
            "\u001b[?25hRequirement already satisfied: cachetools in /usr/local/lib/python3.10/dist-packages (from PennyLane) (5.3.1)\n",
            "Collecting pennylane-lightning>=0.31 (from PennyLane)\n",
            "  Downloading PennyLane_Lightning-0.31.0-cp310-cp310-manylinux_2_17_x86_64.manylinux2014_x86_64.whl (16.6 MB)\n",
            "\u001b[2K     \u001b[90m━━━━━━━━━━━━━━━━━━━━━━━━━━━━━━━━━━━━━━━━\u001b[0m \u001b[32m16.6/16.6 MB\u001b[0m \u001b[31m71.8 MB/s\u001b[0m eta \u001b[36m0:00:00\u001b[0m\n",
            "\u001b[?25hRequirement already satisfied: requests in /usr/local/lib/python3.10/dist-packages (from PennyLane) (2.27.1)\n",
            "Requirement already satisfied: future>=0.15.2 in /usr/local/lib/python3.10/dist-packages (from autograd<=1.5->PennyLane) (0.18.3)\n",
            "Requirement already satisfied: urllib3<1.27,>=1.21.1 in /usr/local/lib/python3.10/dist-packages (from requests->PennyLane) (1.26.16)\n",
            "Requirement already satisfied: certifi>=2017.4.17 in /usr/local/lib/python3.10/dist-packages (from requests->PennyLane) (2023.7.22)\n",
            "Requirement already satisfied: charset-normalizer~=2.0.0 in /usr/local/lib/python3.10/dist-packages (from requests->PennyLane) (2.0.12)\n",
            "Requirement already satisfied: idna<4,>=2.5 in /usr/local/lib/python3.10/dist-packages (from requests->PennyLane) (3.4)\n",
            "Installing collected packages: semantic-version, scipy, rustworkx, autoray, autograd, pennylane-lightning, PennyLane\n",
            "  Attempting uninstall: scipy\n",
            "    Found existing installation: scipy 1.10.1\n",
            "    Uninstalling scipy-1.10.1:\n",
            "      Successfully uninstalled scipy-1.10.1\n",
            "  Attempting uninstall: autograd\n",
            "    Found existing installation: autograd 1.6.2\n",
            "    Uninstalling autograd-1.6.2:\n",
            "      Successfully uninstalled autograd-1.6.2\n",
            "Successfully installed PennyLane-0.31.0 autograd-1.5 autoray-0.6.6 pennylane-lightning-0.31.0 rustworkx-0.13.0 scipy-1.10.0 semantic-version-2.10.0\n"
          ]
        }
      ]
    },
    {
      "cell_type": "code",
      "source": [
        "import argparse\n",
        "import string\n",
        "\n",
        "from sklearn.model_selection import train_test_split\n",
        "\n",
        "import torch\n",
        "from torch import nn\n",
        "from torch.autograd import Variable\n",
        "from torch.optim import SGD\n",
        "import torch.nn.functional as F\n",
        "\n",
        "import pennylane as qml"
      ],
      "metadata": {
        "id": "w4sFBy8G9Owy"
      },
      "execution_count": null,
      "outputs": []
    },
    {
      "cell_type": "code",
      "source": [],
      "metadata": {
        "id": "TmRI-BJCMg3a"
      },
      "execution_count": null,
      "outputs": []
    },
    {
      "cell_type": "code",
      "source": [
        "n_qubits = 4\n",
        "dev = qml.device(\"default.qubit\", wires=n_qubits)\n",
        "\n",
        "@qml.qnode(dev)\n",
        "def qnode(inputs, weights):\n",
        "    qml.templates.AngleEmbedding(inputs, wires=range(n_qubits))\n",
        "    qml.templates.BasicEntanglerLayers(weights, wires=range(n_qubits))\n",
        "    return [qml.expval(qml.PauliZ(wires=i)) for i in range(n_qubits)]\n",
        "\n",
        "class QCBOW(nn.Module):\n",
        "    def __init__(self, vocab_size, embedding_size, context_size, hidden_size=512, n_qlayers=2, n_qubits=8):\n",
        "        super(QCBOW, self).__init__()\n",
        "        self.vocab_size = vocab_size\n",
        "        self.embedding_size = embedding_size\n",
        "        self.context_size = context_size\n",
        "        self.hidden_size = hidden_size\n",
        "        self.embeddings = nn.Embedding(self.vocab_size, self.embedding_size)\n",
        "        # dressed quantum layer\n",
        "        self.lin1 = nn.Linear(self.context_size * 2 * self.embedding_size, n_qubits)\n",
        "        self.weight_shapes = {\"weights\": (n_qlayers, n_qubits)}\n",
        "        self.qlayer = qml.qnn.TorchLayer(qnode, self.weight_shapes)\n",
        "        self.lin2 = nn.Linear(n_qubits, self.vocab_size)\n",
        "\n",
        "\n",
        "    def forward(self, inp):\n",
        "        out = self.embeddings(inp).view(1, -1)\n",
        "        out = out.view(1, -1)\n",
        "        out = self.lin1(out)\n",
        "        out = F.relu(out)\n",
        "        out = self.qlayer(out)\n",
        "        out = self.lin2(out)\n",
        "        out = F.log_softmax(out, dim=1)\n",
        "        return out\n",
        "\n",
        "    def get_word_vector(self, word_idx):\n",
        "        word = Variable(torch.LongTensor([word_idx]))\n",
        "        return self.embeddings(word).view(1, -1)"
      ],
      "metadata": {
        "id": "RSDU9fqfMuve"
      },
      "execution_count": null,
      "outputs": []
    },
    {
      "cell_type": "code",
      "source": [
        "def train_cbow(cbow, data, unique_vocab, word_to_idx, n_epochs=20, lr=0.01):\n",
        "\n",
        "    nll_loss = nn.NLLLoss()  # loss function\n",
        "    optimizer = SGD(cbow.parameters(), lr=lr)\n",
        "\n",
        "    print(\"Starting model training...\")\n",
        "\n",
        "    history = {\n",
        "        'epoch': [],\n",
        "        'loss': []\n",
        "    }\n",
        "    for iepoch in range(n_epochs):\n",
        "        total_loss = 0\n",
        "        for context, target in data:\n",
        "            inp_var = Variable(torch.LongTensor([word_to_idx[word] for word in context]))\n",
        "            target_var = Variable(torch.LongTensor([word_to_idx[target]]))\n",
        "\n",
        "            cbow.zero_grad()\n",
        "            log_prob = cbow(inp_var)\n",
        "            loss = nll_loss(log_prob, target_var)\n",
        "            loss.backward()\n",
        "            optimizer.step()\n",
        "            total_loss += loss.data\n",
        "\n",
        "        loss_avg = float(total_loss / len(data))\n",
        "        print(\"{}/{} loss {:.2f}\".format(iepoch, n_epochs, loss_avg))\n",
        "        history['loss'].append(loss_avg)\n",
        "        history['epoch'].append(iepoch)\n",
        "    return history"
      ],
      "metadata": {
        "id": "jol9pFe6MzmC"
      },
      "execution_count": null,
      "outputs": []
    },
    {
      "cell_type": "code",
      "source": [
        "def test_cbow(cbow, unique_vocab, word_to_idx):\n",
        "    # test word similarity\n",
        "    word_1 = unique_vocab[2]\n",
        "    word_2 = unique_vocab[3]\n",
        "\n",
        "    word_1_vec = cbow.get_word_vector(word_to_idx[word_1])[0]\n",
        "    word_2_vec = cbow.get_word_vector(word_to_idx[word_2])[0]\n",
        "\n",
        "    word_similarity = (word_1_vec.dot(word_2_vec) / (torch.norm(word_1_vec) * torch.norm(word_2_vec))).data.numpy()\n",
        "    print(\"Similarity between '{}' & '{}' : {:0.4f}\".format(word_1, word_2, word_similarity))"
      ],
      "metadata": {
        "id": "frG4LAnrM20B"
      },
      "execution_count": null,
      "outputs": []
    },
    {
      "cell_type": "code",
      "source": [
        "corpus_text = \"This tutorial will walk you through the key ideas of deep learning programming using Pytorch.\" \\\n",
        "              \" Many of the concepts (such as the computation graph abstraction and autograd) \" \\\n",
        "              \"are not unique to Pytorch and are relevant to any deep learning tool kit out there.\""
      ],
      "metadata": {
        "id": "_RUmezk3M6D0"
      },
      "execution_count": null,
      "outputs": []
    },
    {
      "cell_type": "code",
      "source": [
        "corpus_text"
      ],
      "metadata": {
        "colab": {
          "base_uri": "https://localhost:8080/",
          "height": 53
        },
        "id": "Datrv2K_SWtQ",
        "outputId": "40ba665c-d97c-4e2f-fd15-207f341eed0f"
      },
      "execution_count": null,
      "outputs": [
        {
          "output_type": "execute_result",
          "data": {
            "text/plain": [
              "'This tutorial will walk you through the key ideas of deep learning programming using Pytorch. Many of the concepts (such as the computation graph abstraction and autograd) are not unique to Pytorch and are relevant to any deep learning tool kit out there.'"
            ],
            "application/vnd.google.colaboratory.intrinsic+json": {
              "type": "string"
            }
          },
          "metadata": {},
          "execution_count": 21
        }
      ]
    },
    {
      "cell_type": "code",
      "source": [
        "def main(corpus_text, context_size, embed_dim, n_epochs=20, lr=0.01):\n",
        "    # consider 2*context_size as context window where middle word as target\n",
        "    corpus_text = corpus_text.split(' ')\n",
        "    for i in range(len(corpus_text)):\n",
        "        sentence = corpus_text[i]\n",
        "        cleaned_sentence = sentence.translate(str.maketrans('', '', string.punctuation))\n",
        "        cleaned_sentence = cleaned_sentence.lower()\n",
        "        corpus_text[i] = cleaned_sentence\n",
        "    unique_vocab = list(set(corpus_text))\n",
        "    unique_vocab = sorted(unique_vocab)\n",
        "    vocab_size = len(unique_vocab)\n",
        "    print(f\"There are {vocab_size} unique words in the vocabulary\")\n",
        "    # mapping to index\n",
        "    word_to_idx = {w: i for i, w in enumerate(unique_vocab)}\n",
        "    print(word_to_idx)\n",
        "\n",
        "    data = list()\n",
        "    for i in range(context_size, len(corpus_text) - context_size):\n",
        "        data_context = list()\n",
        "        for j in range(context_size):\n",
        "            data_context.append(corpus_text[i - context_size + j])\n",
        "\n",
        "        for j in range(1, context_size + 1):\n",
        "            data_context.append(corpus_text[i + j])\n",
        "        data_target = corpus_text[i]\n",
        "        data.append((data_context, data_target))\n",
        "\n",
        "    print(\"Some data: \",data[:3])\n",
        "\n",
        "    train_data, test_data = train_test_split(data, test_size=0.2)\n",
        "    print(f\"Training set size: {len(train_data)}\")\n",
        "    print(f\"Test set size: {len(test_data)}\")\n",
        "    # define and train model\n",
        "    #cbow = CBOW(vocab_size, embed_dim, context_size)\n",
        "    cbow = QCBOW(vocab_size, embed_dim, context_size, n_qlayers=2, n_qubits=4)\n",
        "    history = train_cbow(cbow, train_data, unique_vocab, word_to_idx, n_epochs, lr)\n",
        "\n",
        "    # get two words similarity\n",
        "    test_cbow(cbow, unique_vocab, word_to_idx)\n",
        "\n",
        "    return history"
      ],
      "metadata": {
        "id": "VjTsKjjFM8lU"
      },
      "execution_count": null,
      "outputs": []
    },
    {
      "cell_type": "code",
      "source": [
        "context_size = 3\n",
        "embed_dim = 32\n",
        "n_epochs = 50\n",
        "lr = 0.1\n",
        "history = main(corpus_text, context_size, embed_dim, n_epochs, lr=lr)"
      ],
      "metadata": {
        "colab": {
          "base_uri": "https://localhost:8080/"
        },
        "id": "oZ4M7LtnNFrI",
        "outputId": "a0791af6-8137-46de-d42a-e1ac269b99e4"
      },
      "execution_count": null,
      "outputs": [
        {
          "output_type": "stream",
          "name": "stdout",
          "text": [
            "There are 34 unique words in the vocabulary\n",
            "{'abstraction': 0, 'and': 1, 'any': 2, 'are': 3, 'as': 4, 'autograd': 5, 'computation': 6, 'concepts': 7, 'deep': 8, 'graph': 9, 'ideas': 10, 'key': 11, 'kit': 12, 'learning': 13, 'many': 14, 'not': 15, 'of': 16, 'out': 17, 'programming': 18, 'pytorch': 19, 'relevant': 20, 'such': 21, 'the': 22, 'there': 23, 'this': 24, 'through': 25, 'to': 26, 'tool': 27, 'tutorial': 28, 'unique': 29, 'using': 30, 'walk': 31, 'will': 32, 'you': 33}\n",
            "Some data:  [(['this', 'tutorial', 'will', 'you', 'through', 'the'], 'walk'), (['tutorial', 'will', 'walk', 'through', 'the', 'key'], 'you'), (['will', 'walk', 'you', 'the', 'key', 'ideas'], 'through')]\n",
            "Training set size: 29\n",
            "Test set size: 8\n",
            "Starting model training...\n",
            "0/50 loss 3.57\n",
            "1/50 loss 3.50\n",
            "2/50 loss 3.44\n",
            "3/50 loss 3.36\n",
            "4/50 loss 3.31\n",
            "5/50 loss 3.33\n",
            "6/50 loss 3.31\n",
            "7/50 loss 3.25\n",
            "8/50 loss 3.23\n",
            "9/50 loss 3.21\n",
            "10/50 loss 3.26\n",
            "11/50 loss 3.19\n",
            "12/50 loss 3.15\n",
            "13/50 loss 3.10\n",
            "14/50 loss 3.14\n",
            "15/50 loss 3.18\n",
            "16/50 loss 3.14\n",
            "17/50 loss 3.12\n",
            "18/50 loss 3.14\n",
            "19/50 loss 3.14\n",
            "20/50 loss 3.13\n",
            "21/50 loss 3.13\n",
            "22/50 loss 3.04\n",
            "23/50 loss 3.01\n",
            "24/50 loss 3.07\n",
            "25/50 loss 3.10\n",
            "26/50 loss 3.13\n",
            "27/50 loss 3.03\n",
            "28/50 loss 3.03\n",
            "29/50 loss 3.00\n",
            "30/50 loss 2.96\n",
            "31/50 loss 2.95\n",
            "32/50 loss 2.97\n",
            "33/50 loss 3.03\n",
            "34/50 loss 2.99\n",
            "35/50 loss 2.93\n",
            "36/50 loss 2.91\n",
            "37/50 loss 3.03\n",
            "38/50 loss 2.84\n",
            "39/50 loss 2.93\n",
            "40/50 loss 2.89\n",
            "41/50 loss 2.92\n",
            "42/50 loss 2.97\n",
            "43/50 loss 2.93\n",
            "44/50 loss 3.00\n",
            "45/50 loss 2.82\n",
            "46/50 loss 2.94\n",
            "47/50 loss 2.87\n",
            "48/50 loss 2.99\n",
            "49/50 loss 2.92\n",
            "Similarity between 'any' & 'are' : 0.0537\n"
          ]
        }
      ]
    },
    {
      "cell_type": "code",
      "source": [
        "import seaborn as sns\n",
        "sns.lineplot(data=history, x='epoch', y='loss')"
      ],
      "metadata": {
        "colab": {
          "base_uri": "https://localhost:8080/",
          "height": 470
        },
        "id": "vzPuRCxWNIsL",
        "outputId": "98ca2474-3db5-49c0-c5d2-eb0b4e6d5a7d"
      },
      "execution_count": null,
      "outputs": [
        {
          "output_type": "execute_result",
          "data": {
            "text/plain": [
              "<Axes: xlabel='epoch', ylabel='loss'>"
            ]
          },
          "metadata": {},
          "execution_count": 26
        },
        {
          "output_type": "display_data",
          "data": {
            "text/plain": [
              "<Figure size 640x480 with 1 Axes>"
            ],
            "image/png": "[encoded data removed]"
          },
          "metadata": {}
        }
      ]
    },
    {
      "cell_type": "code",
      "source": [],
      "metadata": {
        "id": "ss99D0AnNPol"
      },
      "execution_count": null,
      "outputs": []
    }
  ]
}