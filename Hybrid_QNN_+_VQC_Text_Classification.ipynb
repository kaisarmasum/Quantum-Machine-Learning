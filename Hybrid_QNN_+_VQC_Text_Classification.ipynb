{
  "cells": [
    {
      "cell_type": "markdown",
      "metadata": {
        "id": "view-in-github",
        "colab_type": "text"
      },
      "source": [
        "<a href=\"https://colab.research.google.com/github/kaisarmasum/Quantum-Machine-Learning/blob/main/Hybrid_QNN_%2B_VQC_Text_Classification.ipynb\" target=\"_parent\"><img src=\"https://colab.research.google.com/assets/colab-badge.svg\" alt=\"Open In Colab\"/></a>"
      ]
    },
    {
      "cell_type": "code",
      "execution_count": null,
      "id": "15643709-facf-4399-84f9-13c622ac001e",
      "metadata": {
        "tags": [],
        "id": "15643709-facf-4399-84f9-13c622ac001e"
      },
      "outputs": [],
      "source": [
        "import tensorflow as tf\n",
        "import numpy as np\n",
        "import pandas as pd\n",
        "import matplotlib.pyplot as plt\n",
        "np.random.seed(32)\n",
        "\n",
        "from sklearn.model_selection import train_test_split\n",
        "from sklearn.metrics import roc_auc_score\n",
        "from sklearn.manifold import TSNE\n",
        "\n",
        "from keras.preprocessing.text import Tokenizer\n",
        "from keras.preprocessing.sequence import pad_sequences\n",
        "from keras.layers import LSTM, Conv1D, MaxPooling1D, Dropout\n",
        "%matplotlib inline"
      ]
    },
    {
      "cell_type": "code",
      "execution_count": null,
      "id": "23701da2-66f1-4c99-a078-b8573273aabc",
      "metadata": {
        "tags": [],
        "id": "23701da2-66f1-4c99-a078-b8573273aabc"
      },
      "outputs": [],
      "source": [
        "import pandas as pd\n",
        "#df =  pd.read_csv(\"Twitter.csv\",sep=\"\\t\")\n",
        "#df = pd.read_csv(\"spamdata.csv\")\n",
        "#df = pd.read_fwf(\"/content/sst2.txt\", sep=\" \", header=None)\n",
        "df = pd.read_csv(\"IMDB.csv\")"
      ]
    },
    {
      "cell_type": "code",
      "execution_count": null,
      "id": "c646095f-fa43-40f3-a36a-79a1eb9bb28e",
      "metadata": {
        "tags": [],
        "colab": {
          "base_uri": "https://localhost:8080/"
        },
        "id": "c646095f-fa43-40f3-a36a-79a1eb9bb28e",
        "outputId": "bb1c1e3d-381f-4016-9502-2d601cb094fc"
      },
      "outputs": [
        {
          "output_type": "execute_result",
          "data": {
            "text/plain": [
              "5000"
            ]
          },
          "metadata": {},
          "execution_count": 3
        }
      ],
      "source": [
        "len(df)"
      ]
    },
    {
      "cell_type": "code",
      "source": [
        "#df.columns = [\"label\", \"text\"]\n",
        "df.head()"
      ],
      "metadata": {
        "colab": {
          "base_uri": "https://localhost:8080/",
          "height": 206
        },
        "id": "guWnxuCwqPq3",
        "outputId": "c178cb85-162d-4707-cce5-7a108314bc88"
      },
      "id": "guWnxuCwqPq3",
      "execution_count": null,
      "outputs": [
        {
          "output_type": "execute_result",
          "data": {
            "text/plain": [
              "                                              review sentiment\n",
              "0  One of the other reviewers has mentioned that ...  positive\n",
              "1  A wonderful little production. <br /><br />The...  positive\n",
              "2  I thought this was a wonderful way to spend ti...  positive\n",
              "3  Basically there's a family where a little boy ...  negative\n",
              "4  Petter Mattei's \"Love in the Time of Money\" is...  positive"
            ],
            "text/html": [
              "\n",
              "  <div id=\"df-2db8bb41-7c91-42dc-87d3-4a2f7f9cf0b8\" class=\"colab-df-container\">\n",
              "    <div>\n",
              "<style scoped>\n",
              "    .dataframe tbody tr th:only-of-type {\n",
              "        vertical-align: middle;\n",
              "    }\n",
              "\n",
              "    .dataframe tbody tr th {\n",
              "        vertical-align: top;\n",
              "    }\n",
              "\n",
              "    .dataframe thead th {\n",
              "        text-align: right;\n",
              "    }\n",
              "</style>\n",
              "<table border=\"1\" class=\"dataframe\">\n",
              "  <thead>\n",
              "    <tr style=\"text-align: right;\">\n",
              "      <th></th>\n",
              "      <th>review</th>\n",
              "      <th>sentiment</th>\n",
              "    </tr>\n",
              "  </thead>\n",
              "  <tbody>\n",
              "    <tr>\n",
              "      <th>0</th>\n",
              "      <td>One of the other reviewers has mentioned that ...</td>\n",
              "      <td>positive</td>\n",
              "    </tr>\n",
              "    <tr>\n",
              "      <th>1</th>\n",
              "      <td>A wonderful little production. &lt;br /&gt;&lt;br /&gt;The...</td>\n",
              "      <td>positive</td>\n",
              "    </tr>\n",
              "    <tr>\n",
              "      <th>2</th>\n",
              "      <td>I thought this was a wonderful way to spend ti...</td>\n",
              "      <td>positive</td>\n",
              "    </tr>\n",
              "    <tr>\n",
              "      <th>3</th>\n",
              "      <td>Basically there's a family where a little boy ...</td>\n",
              "      <td>negative</td>\n",
              "    </tr>\n",
              "    <tr>\n",
              "      <th>4</th>\n",
              "      <td>Petter Mattei's \"Love in the Time of Money\" is...</td>\n",
              "      <td>positive</td>\n",
              "    </tr>\n",
              "  </tbody>\n",
              "</table>\n",
              "</div>\n",
              "    <div class=\"colab-df-buttons\">\n",
              "\n",
              "  <div class=\"colab-df-container\">\n",
              "    <button class=\"colab-df-convert\" onclick=\"convertToInteractive('df-2db8bb41-7c91-42dc-87d3-4a2f7f9cf0b8')\"\n",
              "            title=\"Convert this dataframe to an interactive table.\"\n",
              "            style=\"display:none;\">\n",
              "\n",
              "  <svg xmlns=\"http://www.w3.org/2000/svg\" height=\"24px\" viewBox=\"0 -960 960 960\">\n",
              "    <path d=\"M120-120v-720h720v720H120Zm60-500h600v-160H180v160Zm220 220h160v-160H400v160Zm0 220h160v-160H400v160ZM180-400h160v-160H180v160Zm440 0h160v-160H620v160ZM180-180h160v-160H180v160Zm440 0h160v-160H620v160Z\"/>\n",
              "  </svg>\n",
              "    </button>\n",
              "\n",
              "  <style>\n",
              "    .colab-df-container {\n",
              "      display:flex;\n",
              "      gap: 12px;\n",
              "    }\n",
              "\n",
              "    .colab-df-convert {\n",
              "      background-color: #E8F0FE;\n",
              "      border: none;\n",
              "      border-radius: 50%;\n",
              "      cursor: pointer;\n",
              "      display: none;\n",
              "      fill: #1967D2;\n",
              "      height: 32px;\n",
              "      padding: 0 0 0 0;\n",
              "      width: 32px;\n",
              "    }\n",
              "\n",
              "    .colab-df-convert:hover {\n",
              "      background-color: #E2EBFA;\n",
              "      box-shadow: 0px 1px 2px rgba(60, 64, 67, 0.3), 0px 1px 3px 1px rgba(60, 64, 67, 0.15);\n",
              "      fill: #174EA6;\n",
              "    }\n",
              "\n",
              "    .colab-df-buttons div {\n",
              "      margin-bottom: 4px;\n",
              "    }\n",
              "\n",
              "    [theme=dark] .colab-df-convert {\n",
              "      background-color: #3B4455;\n",
              "      fill: #D2E3FC;\n",
              "    }\n",
              "\n",
              "    [theme=dark] .colab-df-convert:hover {\n",
              "      background-color: #434B5C;\n",
              "      box-shadow: 0px 1px 3px 1px rgba(0, 0, 0, 0.15);\n",
              "      filter: drop-shadow(0px 1px 2px rgba(0, 0, 0, 0.3));\n",
              "      fill: #FFFFFF;\n",
              "    }\n",
              "  </style>\n",
              "\n",
              "    <script>\n",
              "      const buttonEl =\n",
              "        document.querySelector('#df-2db8bb41-7c91-42dc-87d3-4a2f7f9cf0b8 button.colab-df-convert');\n",
              "      buttonEl.style.display =\n",
              "        google.colab.kernel.accessAllowed ? 'block' : 'none';\n",
              "\n",
              "      async function convertToInteractive(key) {\n",
              "        const element = document.querySelector('#df-2db8bb41-7c91-42dc-87d3-4a2f7f9cf0b8');\n",
              "        const dataTable =\n",
              "          await google.colab.kernel.invokeFunction('convertToInteractive',\n",
              "                                                    [key], {});\n",
              "        if (!dataTable) return;\n",
              "\n",
              "        const docLinkHtml = 'Like what you see? Visit the ' +\n",
              "          '<a target=\"_blank\" href=https://colab.research.google.com/notebooks/data_table.ipynb>data table notebook</a>'\n",
              "          + ' to learn more about interactive tables.';\n",
              "        element.innerHTML = '';\n",
              "        dataTable['output_type'] = 'display_data';\n",
              "        await google.colab.output.renderOutput(dataTable, element);\n",
              "        const docLink = document.createElement('div');\n",
              "        docLink.innerHTML = docLinkHtml;\n",
              "        element.appendChild(docLink);\n",
              "      }\n",
              "    </script>\n",
              "  </div>\n",
              "\n",
              "\n",
              "<div id=\"df-eef71d20-643e-41db-b099-b2cd5a2cd3a2\">\n",
              "  <button class=\"colab-df-quickchart\" onclick=\"quickchart('df-eef71d20-643e-41db-b099-b2cd5a2cd3a2')\"\n",
              "            title=\"Suggest charts\"\n",
              "            style=\"display:none;\">\n",
              "\n",
              "<svg xmlns=\"http://www.w3.org/2000/svg\" height=\"24px\"viewBox=\"0 0 24 24\"\n",
              "     width=\"24px\">\n",
              "    <g>\n",
              "        <path d=\"M19 3H5c-1.1 0-2 .9-2 2v14c0 1.1.9 2 2 2h14c1.1 0 2-.9 2-2V5c0-1.1-.9-2-2-2zM9 17H7v-7h2v7zm4 0h-2V7h2v10zm4 0h-2v-4h2v4z\"/>\n",
              "    </g>\n",
              "</svg>\n",
              "  </button>\n",
              "\n",
              "<style>\n",
              "  .colab-df-quickchart {\n",
              "      --bg-color: #E8F0FE;\n",
              "      --fill-color: #1967D2;\n",
              "      --hover-bg-color: #E2EBFA;\n",
              "      --hover-fill-color: #174EA6;\n",
              "      --disabled-fill-color: #AAA;\n",
              "      --disabled-bg-color: #DDD;\n",
              "  }\n",
              "\n",
              "  [theme=dark] .colab-df-quickchart {\n",
              "      --bg-color: #3B4455;\n",
              "      --fill-color: #D2E3FC;\n",
              "      --hover-bg-color: #434B5C;\n",
              "      --hover-fill-color: #FFFFFF;\n",
              "      --disabled-bg-color: #3B4455;\n",
              "      --disabled-fill-color: #666;\n",
              "  }\n",
              "\n",
              "  .colab-df-quickchart {\n",
              "    background-color: var(--bg-color);\n",
              "    border: none;\n",
              "    border-radius: 50%;\n",
              "    cursor: pointer;\n",
              "    display: none;\n",
              "    fill: var(--fill-color);\n",
              "    height: 32px;\n",
              "    padding: 0;\n",
              "    width: 32px;\n",
              "  }\n",
              "\n",
              "  .colab-df-quickchart:hover {\n",
              "    background-color: var(--hover-bg-color);\n",
              "    box-shadow: 0 1px 2px rgba(60, 64, 67, 0.3), 0 1px 3px 1px rgba(60, 64, 67, 0.15);\n",
              "    fill: var(--button-hover-fill-color);\n",
              "  }\n",
              "\n",
              "  .colab-df-quickchart-complete:disabled,\n",
              "  .colab-df-quickchart-complete:disabled:hover {\n",
              "    background-color: var(--disabled-bg-color);\n",
              "    fill: var(--disabled-fill-color);\n",
              "    box-shadow: none;\n",
              "  }\n",
              "\n",
              "  .colab-df-spinner {\n",
              "    border: 2px solid var(--fill-color);\n",
              "    border-color: transparent;\n",
              "    border-bottom-color: var(--fill-color);\n",
              "    animation:\n",
              "      spin 1s steps(1) infinite;\n",
              "  }\n",
              "\n",
              "  @keyframes spin {\n",
              "    0% {\n",
              "      border-color: transparent;\n",
              "      border-bottom-color: var(--fill-color);\n",
              "      border-left-color: var(--fill-color);\n",
              "    }\n",
              "    20% {\n",
              "      border-color: transparent;\n",
              "      border-left-color: var(--fill-color);\n",
              "      border-top-color: var(--fill-color);\n",
              "    }\n",
              "    30% {\n",
              "      border-color: transparent;\n",
              "      border-left-color: var(--fill-color);\n",
              "      border-top-color: var(--fill-color);\n",
              "      border-right-color: var(--fill-color);\n",
              "    }\n",
              "    40% {\n",
              "      border-color: transparent;\n",
              "      border-right-color: var(--fill-color);\n",
              "      border-top-color: var(--fill-color);\n",
              "    }\n",
              "    60% {\n",
              "      border-color: transparent;\n",
              "      border-right-color: var(--fill-color);\n",
              "    }\n",
              "    80% {\n",
              "      border-color: transparent;\n",
              "      border-right-color: var(--fill-color);\n",
              "      border-bottom-color: var(--fill-color);\n",
              "    }\n",
              "    90% {\n",
              "      border-color: transparent;\n",
              "      border-bottom-color: var(--fill-color);\n",
              "    }\n",
              "  }\n",
              "</style>\n",
              "\n",
              "  <script>\n",
              "    async function quickchart(key) {\n",
              "      const quickchartButtonEl =\n",
              "        document.querySelector('#' + key + ' button');\n",
              "      quickchartButtonEl.disabled = true;  // To prevent multiple clicks.\n",
              "      quickchartButtonEl.classList.add('colab-df-spinner');\n",
              "      try {\n",
              "        const charts = await google.colab.kernel.invokeFunction(\n",
              "            'suggestCharts', [key], {});\n",
              "      } catch (error) {\n",
              "        console.error('Error during call to suggestCharts:', error);\n",
              "      }\n",
              "      quickchartButtonEl.classList.remove('colab-df-spinner');\n",
              "      quickchartButtonEl.classList.add('colab-df-quickchart-complete');\n",
              "    }\n",
              "    (() => {\n",
              "      let quickchartButtonEl =\n",
              "        document.querySelector('#df-eef71d20-643e-41db-b099-b2cd5a2cd3a2 button');\n",
              "      quickchartButtonEl.style.display =\n",
              "        google.colab.kernel.accessAllowed ? 'block' : 'none';\n",
              "    })();\n",
              "  </script>\n",
              "</div>\n",
              "    </div>\n",
              "  </div>\n"
            ],
            "application/vnd.google.colaboratory.intrinsic+json": {
              "type": "dataframe",
              "variable_name": "df",
              "summary": "{\n  \"name\": \"df\",\n  \"rows\": 5000,\n  \"fields\": [\n    {\n      \"column\": \"review\",\n      \"properties\": {\n        \"dtype\": \"string\",\n        \"num_unique_values\": 4997,\n        \"samples\": [\n          \"We brought this film as a joke for a friend, and could of been our worst joke to play. The film is barely watchable, and the acting is dire. The worst child actor ever used and Hasslehoff giving a substandard performance. The plot is disgraceful and at points we was so bored we was wondering what the hell was going on. It tries to be gruesome in places but is just laughable.<br /><br />Just terrible\",\n          \"The movie is really about choices. In the oppressed state of affairs as seen in Fire, where good women had to be obedient and do what was correct in the eyes of tradition, there seemed few options for Radha and Sita. However, granted that it was not their only option. What is life without desire, Radha questions Ashok. Yes, it's true that life provides us with a number of options but how many we can take depends on a number of external factors. When your world is confined to a small Indian household, being a dutiful daughter-in-law to a silent but observant still powerful matriarch, a dutiful wife of 13 years to a man who has taken a vow of celibacy due to your not being able to have a child, a man who only wants you lying next to him to prove his strength in eliminating his desires. I felt the ladies had little choice but to find solace in each other's company. I guess the fact that so many women applauded Ms Mehta's work, was because it provided them with an option to think for themselves. An option to do what was perhaps unacceptable. The lesbian scenes I felt was merely to put that point across. Every scene in the movie from the first at the Taj Mahal to the last at the Mosque, is etched in my mind. How frustrating to be a prisoner of your feelings and desires. To feel that you had to forgo the human touch to be a dutiful wife just because it is expected of you. To have to suppress any desire you might have and to crave for the human touch. What then is the meaning of our existence one wonders. In the scene where Sita is crying alone in the room and Radha comes in to comfort her, their lips accidentally brush against each others and it awakens a feeling in them. Something they have both been deprived of.<br /><br />Bravo to Ms Mehta in translating her vision so clearly. I especially like the flashbacks to the young Radha trying to 'see' for the ocean. It is a metaphor for freedom. Freedom to choose, freedom to transport ourselves to places we would normally be unable to reach. In those scenes, it is gently told to us that her sense of duty has also been passed down from her mother who I assume lives within the rich Indian traditions of duty in marriage. The movie is beautifully filmed and enhanced by the musical score by A.R. Rahman. Since the film, I have become ardent fans of the two lead actresses and the director. I look forward to more of Ms Deepa's future productions.\",\n          \"2005 was one of the best year for movies. We had so many wonderful movies, like Batman Begins, Sin City, Corpse Bride, A History of Violence.....Coming up we also got Brokeback Mountain, King Kong....But if this year the only great movie that came out was Everything Is Illuminated, then we wouldn't miss all this year has brought. The first movie as a director of the talented Liev Schreiber is a delightful, heart-warming, touching drama that also brings one of Elijah Wood's best roles. He is perfect as Jonathan, a curious man that heads for Ukraine to find the woman who saved his Grandfather in World War II. Liev Schreiber, who also writes the movie, conducts a masterpiece, with memorable scenes and (a lot of) funny quotes. This here is a genuine mixture of Comedy with Drama, bringing a movie that will be commented years from now. A serious Oscar contender, Everything is Illuminated is a powerful, original, and, why not say, illuminated movie. But there's one thing you should remember while entering the movie: leave normal behind. This is special.------9/10\"\n        ],\n        \"semantic_type\": \"\",\n        \"description\": \"\"\n      }\n    },\n    {\n      \"column\": \"sentiment\",\n      \"properties\": {\n        \"dtype\": \"category\",\n        \"num_unique_values\": 2,\n        \"samples\": [\n          \"negative\",\n          \"positive\"\n        ],\n        \"semantic_type\": \"\",\n        \"description\": \"\"\n      }\n    }\n  ]\n}"
            }
          },
          "metadata": {},
          "execution_count": 4
        }
      ]
    },
    {
      "cell_type": "code",
      "source": [
        "\"\"\"df = df.drop(\"News Type\", axis=1)\n",
        "df.head()\"\"\""
      ],
      "metadata": {
        "colab": {
          "base_uri": "https://localhost:8080/",
          "height": 36
        },
        "id": "AiU0V2XYUcAL",
        "outputId": "6a2d454b-8116-4d31-c158-148d1c6fd6ea"
      },
      "id": "AiU0V2XYUcAL",
      "execution_count": null,
      "outputs": [
        {
          "output_type": "execute_result",
          "data": {
            "text/plain": [
              "'df = df.drop(\"News Type\", axis=1)\\ndf.head()'"
            ],
            "application/vnd.google.colaboratory.intrinsic+json": {
              "type": "string"
            }
          },
          "metadata": {},
          "execution_count": 5
        }
      ]
    },
    {
      "cell_type": "code",
      "source": [
        "from sklearn.preprocessing import LabelEncoder\n",
        "l = LabelEncoder()\n",
        "df.sentiment = l.fit_transform(df.sentiment)"
      ],
      "metadata": {
        "id": "eIBL_s5nVPwq"
      },
      "id": "eIBL_s5nVPwq",
      "execution_count": null,
      "outputs": []
    },
    {
      "cell_type": "code",
      "source": [
        "df.head()"
      ],
      "metadata": {
        "colab": {
          "base_uri": "https://localhost:8080/",
          "height": 206
        },
        "id": "cKOF65zEV1xP",
        "outputId": "ea5077ea-4f98-4ad2-b84c-f3162e14b596"
      },
      "id": "cKOF65zEV1xP",
      "execution_count": null,
      "outputs": [
        {
          "output_type": "execute_result",
          "data": {
            "text/plain": [
              "                                              review  sentiment\n",
              "0  One of the other reviewers has mentioned that ...          1\n",
              "1  A wonderful little production. <br /><br />The...          1\n",
              "2  I thought this was a wonderful way to spend ti...          1\n",
              "3  Basically there's a family where a little boy ...          0\n",
              "4  Petter Mattei's \"Love in the Time of Money\" is...          1"
            ],
            "text/html": [
              "\n",
              "  <div id=\"df-9fa0d1cc-9d9a-4ded-b5a2-39f3697fccc3\" class=\"colab-df-container\">\n",
              "    <div>\n",
              "<style scoped>\n",
              "    .dataframe tbody tr th:only-of-type {\n",
              "        vertical-align: middle;\n",
              "    }\n",
              "\n",
              "    .dataframe tbody tr th {\n",
              "        vertical-align: top;\n",
              "    }\n",
              "\n",
              "    .dataframe thead th {\n",
              "        text-align: right;\n",
              "    }\n",
              "</style>\n",
              "<table border=\"1\" class=\"dataframe\">\n",
              "  <thead>\n",
              "    <tr style=\"text-align: right;\">\n",
              "      <th></th>\n",
              "      <th>review</th>\n",
              "      <th>sentiment</th>\n",
              "    </tr>\n",
              "  </thead>\n",
              "  <tbody>\n",
              "    <tr>\n",
              "      <th>0</th>\n",
              "      <td>One of the other reviewers has mentioned that ...</td>\n",
              "      <td>1</td>\n",
              "    </tr>\n",
              "    <tr>\n",
              "      <th>1</th>\n",
              "      <td>A wonderful little production. &lt;br /&gt;&lt;br /&gt;The...</td>\n",
              "      <td>1</td>\n",
              "    </tr>\n",
              "    <tr>\n",
              "      <th>2</th>\n",
              "      <td>I thought this was a wonderful way to spend ti...</td>\n",
              "      <td>1</td>\n",
              "    </tr>\n",
              "    <tr>\n",
              "      <th>3</th>\n",
              "      <td>Basically there's a family where a little boy ...</td>\n",
              "      <td>0</td>\n",
              "    </tr>\n",
              "    <tr>\n",
              "      <th>4</th>\n",
              "      <td>Petter Mattei's \"Love in the Time of Money\" is...</td>\n",
              "      <td>1</td>\n",
              "    </tr>\n",
              "  </tbody>\n",
              "</table>\n",
              "</div>\n",
              "    <div class=\"colab-df-buttons\">\n",
              "\n",
              "  <div class=\"colab-df-container\">\n",
              "    <button class=\"colab-df-convert\" onclick=\"convertToInteractive('df-9fa0d1cc-9d9a-4ded-b5a2-39f3697fccc3')\"\n",
              "            title=\"Convert this dataframe to an interactive table.\"\n",
              "            style=\"display:none;\">\n",
              "\n",
              "  <svg xmlns=\"http://www.w3.org/2000/svg\" height=\"24px\" viewBox=\"0 -960 960 960\">\n",
              "    <path d=\"M120-120v-720h720v720H120Zm60-500h600v-160H180v160Zm220 220h160v-160H400v160Zm0 220h160v-160H400v160ZM180-400h160v-160H180v160Zm440 0h160v-160H620v160ZM180-180h160v-160H180v160Zm440 0h160v-160H620v160Z\"/>\n",
              "  </svg>\n",
              "    </button>\n",
              "\n",
              "  <style>\n",
              "    .colab-df-container {\n",
              "      display:flex;\n",
              "      gap: 12px;\n",
              "    }\n",
              "\n",
              "    .colab-df-convert {\n",
              "      background-color: #E8F0FE;\n",
              "      border: none;\n",
              "      border-radius: 50%;\n",
              "      cursor: pointer;\n",
              "      display: none;\n",
              "      fill: #1967D2;\n",
              "      height: 32px;\n",
              "      padding: 0 0 0 0;\n",
              "      width: 32px;\n",
              "    }\n",
              "\n",
              "    .colab-df-convert:hover {\n",
              "      background-color: #E2EBFA;\n",
              "      box-shadow: 0px 1px 2px rgba(60, 64, 67, 0.3), 0px 1px 3px 1px rgba(60, 64, 67, 0.15);\n",
              "      fill: #174EA6;\n",
              "    }\n",
              "\n",
              "    .colab-df-buttons div {\n",
              "      margin-bottom: 4px;\n",
              "    }\n",
              "\n",
              "    [theme=dark] .colab-df-convert {\n",
              "      background-color: #3B4455;\n",
              "      fill: #D2E3FC;\n",
              "    }\n",
              "\n",
              "    [theme=dark] .colab-df-convert:hover {\n",
              "      background-color: #434B5C;\n",
              "      box-shadow: 0px 1px 3px 1px rgba(0, 0, 0, 0.15);\n",
              "      filter: drop-shadow(0px 1px 2px rgba(0, 0, 0, 0.3));\n",
              "      fill: #FFFFFF;\n",
              "    }\n",
              "  </style>\n",
              "\n",
              "    <script>\n",
              "      const buttonEl =\n",
              "        document.querySelector('#df-9fa0d1cc-9d9a-4ded-b5a2-39f3697fccc3 button.colab-df-convert');\n",
              "      buttonEl.style.display =\n",
              "        google.colab.kernel.accessAllowed ? 'block' : 'none';\n",
              "\n",
              "      async function convertToInteractive(key) {\n",
              "        const element = document.querySelector('#df-9fa0d1cc-9d9a-4ded-b5a2-39f3697fccc3');\n",
              "        const dataTable =\n",
              "          await google.colab.kernel.invokeFunction('convertToInteractive',\n",
              "                                                    [key], {});\n",
              "        if (!dataTable) return;\n",
              "\n",
              "        const docLinkHtml = 'Like what you see? Visit the ' +\n",
              "          '<a target=\"_blank\" href=https://colab.research.google.com/notebooks/data_table.ipynb>data table notebook</a>'\n",
              "          + ' to learn more about interactive tables.';\n",
              "        element.innerHTML = '';\n",
              "        dataTable['output_type'] = 'display_data';\n",
              "        await google.colab.output.renderOutput(dataTable, element);\n",
              "        const docLink = document.createElement('div');\n",
              "        docLink.innerHTML = docLinkHtml;\n",
              "        element.appendChild(docLink);\n",
              "      }\n",
              "    </script>\n",
              "  </div>\n",
              "\n",
              "\n",
              "<div id=\"df-69de332d-4bc5-4b8a-b2fc-5bc544551810\">\n",
              "  <button class=\"colab-df-quickchart\" onclick=\"quickchart('df-69de332d-4bc5-4b8a-b2fc-5bc544551810')\"\n",
              "            title=\"Suggest charts\"\n",
              "            style=\"display:none;\">\n",
              "\n",
              "<svg xmlns=\"http://www.w3.org/2000/svg\" height=\"24px\"viewBox=\"0 0 24 24\"\n",
              "     width=\"24px\">\n",
              "    <g>\n",
              "        <path d=\"M19 3H5c-1.1 0-2 .9-2 2v14c0 1.1.9 2 2 2h14c1.1 0 2-.9 2-2V5c0-1.1-.9-2-2-2zM9 17H7v-7h2v7zm4 0h-2V7h2v10zm4 0h-2v-4h2v4z\"/>\n",
              "    </g>\n",
              "</svg>\n",
              "  </button>\n",
              "\n",
              "<style>\n",
              "  .colab-df-quickchart {\n",
              "      --bg-color: #E8F0FE;\n",
              "      --fill-color: #1967D2;\n",
              "      --hover-bg-color: #E2EBFA;\n",
              "      --hover-fill-color: #174EA6;\n",
              "      --disabled-fill-color: #AAA;\n",
              "      --disabled-bg-color: #DDD;\n",
              "  }\n",
              "\n",
              "  [theme=dark] .colab-df-quickchart {\n",
              "      --bg-color: #3B4455;\n",
              "      --fill-color: #D2E3FC;\n",
              "      --hover-bg-color: #434B5C;\n",
              "      --hover-fill-color: #FFFFFF;\n",
              "      --disabled-bg-color: #3B4455;\n",
              "      --disabled-fill-color: #666;\n",
              "  }\n",
              "\n",
              "  .colab-df-quickchart {\n",
              "    background-color: var(--bg-color);\n",
              "    border: none;\n",
              "    border-radius: 50%;\n",
              "    cursor: pointer;\n",
              "    display: none;\n",
              "    fill: var(--fill-color);\n",
              "    height: 32px;\n",
              "    padding: 0;\n",
              "    width: 32px;\n",
              "  }\n",
              "\n",
              "  .colab-df-quickchart:hover {\n",
              "    background-color: var(--hover-bg-color);\n",
              "    box-shadow: 0 1px 2px rgba(60, 64, 67, 0.3), 0 1px 3px 1px rgba(60, 64, 67, 0.15);\n",
              "    fill: var(--button-hover-fill-color);\n",
              "  }\n",
              "\n",
              "  .colab-df-quickchart-complete:disabled,\n",
              "  .colab-df-quickchart-complete:disabled:hover {\n",
              "    background-color: var(--disabled-bg-color);\n",
              "    fill: var(--disabled-fill-color);\n",
              "    box-shadow: none;\n",
              "  }\n",
              "\n",
              "  .colab-df-spinner {\n",
              "    border: 2px solid var(--fill-color);\n",
              "    border-color: transparent;\n",
              "    border-bottom-color: var(--fill-color);\n",
              "    animation:\n",
              "      spin 1s steps(1) infinite;\n",
              "  }\n",
              "\n",
              "  @keyframes spin {\n",
              "    0% {\n",
              "      border-color: transparent;\n",
              "      border-bottom-color: var(--fill-color);\n",
              "      border-left-color: var(--fill-color);\n",
              "    }\n",
              "    20% {\n",
              "      border-color: transparent;\n",
              "      border-left-color: var(--fill-color);\n",
              "      border-top-color: var(--fill-color);\n",
              "    }\n",
              "    30% {\n",
              "      border-color: transparent;\n",
              "      border-left-color: var(--fill-color);\n",
              "      border-top-color: var(--fill-color);\n",
              "      border-right-color: var(--fill-color);\n",
              "    }\n",
              "    40% {\n",
              "      border-color: transparent;\n",
              "      border-right-color: var(--fill-color);\n",
              "      border-top-color: var(--fill-color);\n",
              "    }\n",
              "    60% {\n",
              "      border-color: transparent;\n",
              "      border-right-color: var(--fill-color);\n",
              "    }\n",
              "    80% {\n",
              "      border-color: transparent;\n",
              "      border-right-color: var(--fill-color);\n",
              "      border-bottom-color: var(--fill-color);\n",
              "    }\n",
              "    90% {\n",
              "      border-color: transparent;\n",
              "      border-bottom-color: var(--fill-color);\n",
              "    }\n",
              "  }\n",
              "</style>\n",
              "\n",
              "  <script>\n",
              "    async function quickchart(key) {\n",
              "      const quickchartButtonEl =\n",
              "        document.querySelector('#' + key + ' button');\n",
              "      quickchartButtonEl.disabled = true;  // To prevent multiple clicks.\n",
              "      quickchartButtonEl.classList.add('colab-df-spinner');\n",
              "      try {\n",
              "        const charts = await google.colab.kernel.invokeFunction(\n",
              "            'suggestCharts', [key], {});\n",
              "      } catch (error) {\n",
              "        console.error('Error during call to suggestCharts:', error);\n",
              "      }\n",
              "      quickchartButtonEl.classList.remove('colab-df-spinner');\n",
              "      quickchartButtonEl.classList.add('colab-df-quickchart-complete');\n",
              "    }\n",
              "    (() => {\n",
              "      let quickchartButtonEl =\n",
              "        document.querySelector('#df-69de332d-4bc5-4b8a-b2fc-5bc544551810 button');\n",
              "      quickchartButtonEl.style.display =\n",
              "        google.colab.kernel.accessAllowed ? 'block' : 'none';\n",
              "    })();\n",
              "  </script>\n",
              "</div>\n",
              "    </div>\n",
              "  </div>\n"
            ],
            "application/vnd.google.colaboratory.intrinsic+json": {
              "type": "dataframe",
              "variable_name": "df",
              "summary": "{\n  \"name\": \"df\",\n  \"rows\": 5000,\n  \"fields\": [\n    {\n      \"column\": \"review\",\n      \"properties\": {\n        \"dtype\": \"string\",\n        \"num_unique_values\": 4997,\n        \"samples\": [\n          \"We brought this film as a joke for a friend, and could of been our worst joke to play. The film is barely watchable, and the acting is dire. The worst child actor ever used and Hasslehoff giving a substandard performance. The plot is disgraceful and at points we was so bored we was wondering what the hell was going on. It tries to be gruesome in places but is just laughable.<br /><br />Just terrible\",\n          \"The movie is really about choices. In the oppressed state of affairs as seen in Fire, where good women had to be obedient and do what was correct in the eyes of tradition, there seemed few options for Radha and Sita. However, granted that it was not their only option. What is life without desire, Radha questions Ashok. Yes, it's true that life provides us with a number of options but how many we can take depends on a number of external factors. When your world is confined to a small Indian household, being a dutiful daughter-in-law to a silent but observant still powerful matriarch, a dutiful wife of 13 years to a man who has taken a vow of celibacy due to your not being able to have a child, a man who only wants you lying next to him to prove his strength in eliminating his desires. I felt the ladies had little choice but to find solace in each other's company. I guess the fact that so many women applauded Ms Mehta's work, was because it provided them with an option to think for themselves. An option to do what was perhaps unacceptable. The lesbian scenes I felt was merely to put that point across. Every scene in the movie from the first at the Taj Mahal to the last at the Mosque, is etched in my mind. How frustrating to be a prisoner of your feelings and desires. To feel that you had to forgo the human touch to be a dutiful wife just because it is expected of you. To have to suppress any desire you might have and to crave for the human touch. What then is the meaning of our existence one wonders. In the scene where Sita is crying alone in the room and Radha comes in to comfort her, their lips accidentally brush against each others and it awakens a feeling in them. Something they have both been deprived of.<br /><br />Bravo to Ms Mehta in translating her vision so clearly. I especially like the flashbacks to the young Radha trying to 'see' for the ocean. It is a metaphor for freedom. Freedom to choose, freedom to transport ourselves to places we would normally be unable to reach. In those scenes, it is gently told to us that her sense of duty has also been passed down from her mother who I assume lives within the rich Indian traditions of duty in marriage. The movie is beautifully filmed and enhanced by the musical score by A.R. Rahman. Since the film, I have become ardent fans of the two lead actresses and the director. I look forward to more of Ms Deepa's future productions.\",\n          \"2005 was one of the best year for movies. We had so many wonderful movies, like Batman Begins, Sin City, Corpse Bride, A History of Violence.....Coming up we also got Brokeback Mountain, King Kong....But if this year the only great movie that came out was Everything Is Illuminated, then we wouldn't miss all this year has brought. The first movie as a director of the talented Liev Schreiber is a delightful, heart-warming, touching drama that also brings one of Elijah Wood's best roles. He is perfect as Jonathan, a curious man that heads for Ukraine to find the woman who saved his Grandfather in World War II. Liev Schreiber, who also writes the movie, conducts a masterpiece, with memorable scenes and (a lot of) funny quotes. This here is a genuine mixture of Comedy with Drama, bringing a movie that will be commented years from now. A serious Oscar contender, Everything is Illuminated is a powerful, original, and, why not say, illuminated movie. But there's one thing you should remember while entering the movie: leave normal behind. This is special.------9/10\"\n        ],\n        \"semantic_type\": \"\",\n        \"description\": \"\"\n      }\n    },\n    {\n      \"column\": \"sentiment\",\n      \"properties\": {\n        \"dtype\": \"number\",\n        \"std\": 0,\n        \"min\": 0,\n        \"max\": 1,\n        \"num_unique_values\": 2,\n        \"samples\": [\n          0,\n          1\n        ],\n        \"semantic_type\": \"\",\n        \"description\": \"\"\n      }\n    }\n  ]\n}"
            }
          },
          "metadata": {},
          "execution_count": 7
        }
      ]
    },
    {
      "cell_type": "code",
      "execution_count": null,
      "id": "626471d3-5deb-4ce9-ba6a-cf36a08d2fee",
      "metadata": {
        "tags": [],
        "colab": {
          "base_uri": "https://localhost:8080/"
        },
        "id": "626471d3-5deb-4ce9-ba6a-cf36a08d2fee",
        "outputId": "9114fcd0-8b55-4b28-cf98-02162024723e"
      },
      "outputs": [
        {
          "output_type": "execute_result",
          "data": {
            "text/plain": [
              "(5000,)"
            ]
          },
          "metadata": {},
          "execution_count": 8
        }
      ],
      "source": [
        "x = df['review']\n",
        "y = df['sentiment']\n",
        "x.shape"
      ]
    },
    {
      "cell_type": "code",
      "source": [
        "x.head()"
      ],
      "metadata": {
        "colab": {
          "base_uri": "https://localhost:8080/"
        },
        "id": "_hWL0YpxsG4w",
        "outputId": "8d743c49-b666-49b5-8b75-7d87fcbabdb2"
      },
      "id": "_hWL0YpxsG4w",
      "execution_count": null,
      "outputs": [
        {
          "output_type": "execute_result",
          "data": {
            "text/plain": [
              "0    One of the other reviewers has mentioned that ...\n",
              "1    A wonderful little production. <br /><br />The...\n",
              "2    I thought this was a wonderful way to spend ti...\n",
              "3    Basically there's a family where a little boy ...\n",
              "4    Petter Mattei's \"Love in the Time of Money\" is...\n",
              "Name: review, dtype: object"
            ]
          },
          "metadata": {},
          "execution_count": 9
        }
      ]
    },
    {
      "cell_type": "code",
      "source": [
        "train_text, test_text, train_y, test_y = train_test_split(x,y,test_size = 0.2)"
      ],
      "metadata": {
        "id": "wEpPZt2CtNAp"
      },
      "id": "wEpPZt2CtNAp",
      "execution_count": null,
      "outputs": []
    },
    {
      "cell_type": "code",
      "source": [
        "MAX_NB_WORDS = 8000\n",
        "texts_train = train_text.astype(str)\n",
        "texts_test = test_text.astype(str)\n",
        "\n",
        "tokenizer = Tokenizer(nb_words=MAX_NB_WORDS, char_level=False)\n",
        "tokenizer.fit_on_texts(texts_train)\n",
        "sequences = tokenizer.texts_to_sequences(texts_train)\n",
        "sequences_test = tokenizer.texts_to_sequences(texts_test)\n",
        "\n",
        "word_index = tokenizer.word_index\n",
        "print('Found %s unique tokens.' % len(word_index))"
      ],
      "metadata": {
        "colab": {
          "base_uri": "https://localhost:8080/"
        },
        "id": "IPwi_nl9tQ2U",
        "outputId": "5e28bfec-d4e0-45b2-9c0a-0bf107e5d662"
      },
      "id": "IPwi_nl9tQ2U",
      "execution_count": null,
      "outputs": [
        {
          "output_type": "stream",
          "name": "stderr",
          "text": [
            "/usr/local/lib/python3.10/dist-packages/keras/src/preprocessing/text.py:246: UserWarning: The `nb_words` argument in `Tokenizer` has been renamed `num_words`.\n",
            "  warnings.warn(\n"
          ]
        },
        {
          "output_type": "stream",
          "name": "stdout",
          "text": [
            "Found 39183 unique tokens.\n"
          ]
        }
      ]
    },
    {
      "cell_type": "code",
      "source": [
        "type(tokenizer.word_index), len(tokenizer.word_index)"
      ],
      "metadata": {
        "colab": {
          "base_uri": "https://localhost:8080/"
        },
        "id": "5dCqQ-2-tU2C",
        "outputId": "5ba45097-bdf6-4a17-d851-a5783b2f5579"
      },
      "id": "5dCqQ-2-tU2C",
      "execution_count": null,
      "outputs": [
        {
          "output_type": "execute_result",
          "data": {
            "text/plain": [
              "(dict, 39183)"
            ]
          },
          "metadata": {},
          "execution_count": 12
        }
      ]
    },
    {
      "cell_type": "code",
      "source": [
        "index_to_word = dict((i, w) for w, i in tokenizer.word_index.items())\n",
        "\" \".join([index_to_word[i] for i in sequences[0]])"
      ],
      "metadata": {
        "colab": {
          "base_uri": "https://localhost:8080/",
          "height": 140
        },
        "id": "V1NSKKEYt82e",
        "outputId": "7d5a867f-38dd-41fa-ad66-3756edcf9a6c"
      },
      "id": "V1NSKKEYt82e",
      "execution_count": null,
      "outputs": [
        {
          "output_type": "execute_result",
          "data": {
            "text/plain": [
              "\"i don't remember this film getting a cinema release over here i only saw it when it came onto cable the film deals with the of children into killing machines specifically one person the way he gets replaced and dumped literally into an off world community where he finds himself unable to cope with coming to terms with who he really is and what he feels br br seems to me that a lot of people expected this to be rambo in space and would have been happy if it was br br i'm certainly happy it kurt does a fine job of portraying an emotional cripple the scene where he's sitting outside the shows this albeit the decision for two slow mo detracts from the moment br br this is not a classic sf movie in the way that alien silent running run or were however it is unfortunately the nearest i've seen to it in a long time br br he changes in the movie to a believable degree he crack one liners he become snake and there is no happy ending br br that's why this film do well it follow formula and among a 18 25 year old target american audience that's unforgivable as it was what they expected to see br br fear and discipline br br always\""
            ],
            "application/vnd.google.colaboratory.intrinsic+json": {
              "type": "string"
            }
          },
          "metadata": {},
          "execution_count": 13
        }
      ]
    },
    {
      "cell_type": "code",
      "source": [
        "seq_lens = [len(s) for s in sequences]\n",
        "print(\"average length: %0.1f\" % np.mean(seq_lens))\n",
        "print(\"max length: %d\" % max(seq_lens))"
      ],
      "metadata": {
        "colab": {
          "base_uri": "https://localhost:8080/"
        },
        "id": "TfLrmxeit-r1",
        "outputId": "ffc5980b-f9f4-4427-9ab2-adf83d9871dd"
      },
      "id": "TfLrmxeit-r1",
      "execution_count": null,
      "outputs": [
        {
          "output_type": "stream",
          "name": "stdout",
          "text": [
            "average length: 220.5\n",
            "max length: 1544\n"
          ]
        }
      ]
    },
    {
      "cell_type": "code",
      "source": [
        "MAX_SEQUENCE_LENGTH = max(seq_lens) # round(np.mean(seq_lens))\n",
        "\n",
        "x_train = pad_sequences(sequences, maxlen=MAX_SEQUENCE_LENGTH)\n",
        "x_test = pad_sequences(sequences_test, maxlen=MAX_SEQUENCE_LENGTH)\n",
        "print('Shape of data tensor:', x_train.shape)\n",
        "print('Shape of data test tensor:', x_test.shape)"
      ],
      "metadata": {
        "colab": {
          "base_uri": "https://localhost:8080/"
        },
        "id": "hmGN97xyuBJW",
        "outputId": "8471b807-e297-4aa0-8bf8-8bbc4f896073"
      },
      "id": "hmGN97xyuBJW",
      "execution_count": null,
      "outputs": [
        {
          "output_type": "stream",
          "name": "stdout",
          "text": [
            "Shape of data tensor: (4000, 1544)\n",
            "Shape of data test tensor: (1000, 1544)\n"
          ]
        }
      ]
    },
    {
      "cell_type": "code",
      "source": [
        "x_train"
      ],
      "metadata": {
        "colab": {
          "base_uri": "https://localhost:8080/"
        },
        "id": "-pnQxs0rcs7j",
        "outputId": "eb96e7c9-5e3e-4757-8fee-3e2ea173065c"
      },
      "id": "-pnQxs0rcs7j",
      "execution_count": null,
      "outputs": [
        {
          "output_type": "execute_result",
          "data": {
            "text/plain": [
              "array([[   0,    0,    0, ...,    7,    7,  205],\n",
              "       [   0,    0,    0, ...,  246,   16,    1],\n",
              "       [   0,    0,    0, ...,   10,  382,   15],\n",
              "       ...,\n",
              "       [   0,    0,    0, ...,   33, 2541,   70],\n",
              "       [   0,    0,    0, ...,   16,  257,  717],\n",
              "       [   0,    0,    0, ..., 6700,    5,   70]], dtype=int32)"
            ]
          },
          "metadata": {},
          "execution_count": 16
        }
      ]
    },
    {
      "cell_type": "code",
      "source": [
        "x_train.shape"
      ],
      "metadata": {
        "colab": {
          "base_uri": "https://localhost:8080/"
        },
        "id": "S-uxggv6XB_v",
        "outputId": "34011025-4304-4feb-a0c5-ee755a8681fa"
      },
      "id": "S-uxggv6XB_v",
      "execution_count": null,
      "outputs": [
        {
          "output_type": "execute_result",
          "data": {
            "text/plain": [
              "(4000, 1544)"
            ]
          },
          "metadata": {},
          "execution_count": 17
        }
      ]
    },
    {
      "cell_type": "code",
      "source": [
        "y_train = train_y\n",
        "y_test = test_y\n",
        "\n",
        "y_train = tf.keras.utils.to_categorical(np.asarray(y_train))\n",
        "print('Shape of label tensor:', y_train.shape)"
      ],
      "metadata": {
        "colab": {
          "base_uri": "https://localhost:8080/"
        },
        "id": "_1ZgKvMRuE0q",
        "outputId": "e02cc9f0-0c1b-498e-e701-d21de83afa1c"
      },
      "id": "_1ZgKvMRuE0q",
      "execution_count": null,
      "outputs": [
        {
          "output_type": "stream",
          "name": "stdout",
          "text": [
            "Shape of label tensor: (4000, 2)\n"
          ]
        }
      ]
    },
    {
      "cell_type": "markdown",
      "source": [
        "## Classical QNN"
      ],
      "metadata": {
        "id": "OoNuUj5QdHpD"
      },
      "id": "OoNuUj5QdHpD"
    },
    {
      "cell_type": "code",
      "source": [
        "from keras.layers import Dense, Input, Flatten\n",
        "from keras.layers import GlobalAveragePooling1D, Embedding\n",
        "from keras.models import Model\n",
        "\n",
        "EMBEDDING_DIM = 50\n",
        "N_CLASSES = 2\n",
        "\n",
        "\n",
        "sequence_input = Input(shape=(MAX_SEQUENCE_LENGTH,), dtype='int32')\n",
        "\n",
        "embedding_layer = Embedding(MAX_NB_WORDS, EMBEDDING_DIM,\n",
        "                            input_length=MAX_SEQUENCE_LENGTH,\n",
        "                            trainable=True)\n",
        "embedded_sequences = embedding_layer(sequence_input)\n",
        "\n",
        "average = GlobalAveragePooling1D()(embedded_sequences)\n",
        "\n",
        "predictions = Dense(N_CLASSES, activation='softmax')(average)\n",
        "\n",
        "model = Model(sequence_input, predictions)\n",
        "model.compile(loss='binary_crossentropy',\n",
        "              optimizer='adam', metrics=['acc'])"
      ],
      "metadata": {
        "id": "EEV01DRhusmf"
      },
      "id": "EEV01DRhusmf",
      "execution_count": null,
      "outputs": []
    },
    {
      "cell_type": "code",
      "source": [
        "%%time\n",
        "model.fit(x_train, y_train, validation_split=0.1,epochs=30, batch_size=128)"
      ],
      "metadata": {
        "colab": {
          "base_uri": "https://localhost:8080/"
        },
        "id": "1p1f4rpyux-M",
        "outputId": "a86b34c1-9ccb-4f10-cbbf-cce6709dd7c3"
      },
      "id": "1p1f4rpyux-M",
      "execution_count": null,
      "outputs": [
        {
          "output_type": "stream",
          "name": "stdout",
          "text": [
            "Epoch 1/30\n",
            "29/29 [==============================] - 12s 279ms/step - loss: 0.6931 - acc: 0.5044 - val_loss: 0.6926 - val_acc: 0.5375\n",
            "Epoch 2/30\n",
            "29/29 [==============================] - 9s 292ms/step - loss: 0.6926 - acc: 0.5214 - val_loss: 0.6922 - val_acc: 0.5500\n",
            "Epoch 3/30\n",
            "29/29 [==============================] - 7s 252ms/step - loss: 0.6922 - acc: 0.5717 - val_loss: 0.6917 - val_acc: 0.5825\n",
            "Epoch 4/30\n",
            "29/29 [==============================] - 5s 158ms/step - loss: 0.6916 - acc: 0.5464 - val_loss: 0.6914 - val_acc: 0.4950\n",
            "Epoch 5/30\n",
            "29/29 [==============================] - 5s 177ms/step - loss: 0.6907 - acc: 0.6117 - val_loss: 0.6902 - val_acc: 0.6750\n",
            "Epoch 6/30\n",
            "29/29 [==============================] - 6s 197ms/step - loss: 0.6897 - acc: 0.6372 - val_loss: 0.6890 - val_acc: 0.7175\n",
            "Epoch 7/30\n",
            "29/29 [==============================] - 3s 111ms/step - loss: 0.6884 - acc: 0.7569 - val_loss: 0.6877 - val_acc: 0.7975\n",
            "Epoch 8/30\n",
            "29/29 [==============================] - 2s 86ms/step - loss: 0.6870 - acc: 0.5992 - val_loss: 0.6861 - val_acc: 0.7500\n",
            "Epoch 9/30\n",
            "29/29 [==============================] - 3s 90ms/step - loss: 0.6852 - acc: 0.5747 - val_loss: 0.6837 - val_acc: 0.6475\n",
            "Epoch 10/30\n",
            "29/29 [==============================] - 3s 91ms/step - loss: 0.6826 - acc: 0.7608 - val_loss: 0.6817 - val_acc: 0.7600\n",
            "Epoch 11/30\n",
            "29/29 [==============================] - 4s 133ms/step - loss: 0.6798 - acc: 0.7614 - val_loss: 0.6786 - val_acc: 0.8075\n",
            "Epoch 12/30\n",
            "29/29 [==============================] - 5s 158ms/step - loss: 0.6767 - acc: 0.7522 - val_loss: 0.6754 - val_acc: 0.7975\n",
            "Epoch 13/30\n",
            "29/29 [==============================] - 3s 94ms/step - loss: 0.6732 - acc: 0.7425 - val_loss: 0.6717 - val_acc: 0.8000\n",
            "Epoch 14/30\n",
            "29/29 [==============================] - 3s 91ms/step - loss: 0.6689 - acc: 0.7675 - val_loss: 0.6672 - val_acc: 0.7575\n",
            "Epoch 15/30\n",
            "29/29 [==============================] - 3s 90ms/step - loss: 0.6643 - acc: 0.6867 - val_loss: 0.6634 - val_acc: 0.7600\n",
            "Epoch 16/30\n",
            "29/29 [==============================] - 3s 95ms/step - loss: 0.6592 - acc: 0.7689 - val_loss: 0.6583 - val_acc: 0.7500\n",
            "Epoch 17/30\n",
            "29/29 [==============================] - 4s 152ms/step - loss: 0.6540 - acc: 0.7192 - val_loss: 0.6523 - val_acc: 0.8100\n",
            "Epoch 18/30\n",
            "29/29 [==============================] - 4s 136ms/step - loss: 0.6476 - acc: 0.7892 - val_loss: 0.6466 - val_acc: 0.8125\n",
            "Epoch 19/30\n",
            "29/29 [==============================] - 3s 93ms/step - loss: 0.6410 - acc: 0.7922 - val_loss: 0.6405 - val_acc: 0.8100\n",
            "Epoch 20/30\n",
            "29/29 [==============================] - 3s 91ms/step - loss: 0.6342 - acc: 0.7875 - val_loss: 0.6342 - val_acc: 0.8125\n",
            "Epoch 21/30\n",
            "29/29 [==============================] - 3s 92ms/step - loss: 0.6274 - acc: 0.8006 - val_loss: 0.6279 - val_acc: 0.8050\n",
            "Epoch 22/30\n",
            "29/29 [==============================] - 4s 123ms/step - loss: 0.6213 - acc: 0.7783 - val_loss: 0.6208 - val_acc: 0.8100\n",
            "Epoch 23/30\n",
            "29/29 [==============================] - 4s 155ms/step - loss: 0.6137 - acc: 0.7847 - val_loss: 0.6142 - val_acc: 0.8025\n",
            "Epoch 24/30\n",
            "29/29 [==============================] - 3s 108ms/step - loss: 0.6063 - acc: 0.8083 - val_loss: 0.6077 - val_acc: 0.8200\n",
            "Epoch 25/30\n",
            "29/29 [==============================] - 3s 92ms/step - loss: 0.5982 - acc: 0.8119 - val_loss: 0.6005 - val_acc: 0.8300\n",
            "Epoch 26/30\n",
            "29/29 [==============================] - 3s 91ms/step - loss: 0.5905 - acc: 0.8147 - val_loss: 0.5934 - val_acc: 0.8275\n",
            "Epoch 27/30\n",
            "29/29 [==============================] - 3s 92ms/step - loss: 0.5830 - acc: 0.8250 - val_loss: 0.5864 - val_acc: 0.8275\n",
            "Epoch 28/30\n",
            "29/29 [==============================] - 4s 142ms/step - loss: 0.5748 - acc: 0.8242 - val_loss: 0.5820 - val_acc: 0.7925\n",
            "Epoch 29/30\n",
            "29/29 [==============================] - 5s 157ms/step - loss: 0.5674 - acc: 0.8175 - val_loss: 0.5724 - val_acc: 0.8425\n",
            "Epoch 30/30\n",
            "29/29 [==============================] - 3s 92ms/step - loss: 0.5601 - acc: 0.8294 - val_loss: 0.5656 - val_acc: 0.8375\n",
            "CPU times: user 1min 6s, sys: 1min 5s, total: 2min 11s\n",
            "Wall time: 2min\n"
          ]
        },
        {
          "output_type": "execute_result",
          "data": {
            "text/plain": [
              "<keras.src.callbacks.History at 0x7e087f07a500>"
            ]
          },
          "metadata": {},
          "execution_count": 20
        }
      ]
    },
    {
      "cell_type": "code",
      "source": [
        "output_test = model.predict(x_test)\n",
        "print(\"test auc:\", roc_auc_score(y_test,output_test[:,1]))"
      ],
      "metadata": {
        "colab": {
          "base_uri": "https://localhost:8080/"
        },
        "id": "WWRsA9Rcu0S5",
        "outputId": "19919f18-7cfa-46c5-c634-31dac0be12d5"
      },
      "id": "WWRsA9Rcu0S5",
      "execution_count": null,
      "outputs": [
        {
          "output_type": "stream",
          "name": "stdout",
          "text": [
            "32/32 [==============================] - 0s 6ms/step\n",
            "test auc: 0.858818956639512\n"
          ]
        }
      ]
    },
    {
      "cell_type": "markdown",
      "source": [
        "##Output Analysis"
      ],
      "metadata": {
        "id": "e5XVYY-tX0rd"
      },
      "id": "e5XVYY-tX0rd"
    },
    {
      "cell_type": "code",
      "source": [
        "from keras.models import Model\n",
        "\n",
        "# Create a model with multiple outputs, including intermediate layers\n",
        "intermediate_layer_model = Model(inputs=model.input,\n",
        "                                 outputs=[model.layers[0].output,model.layers[1].output,  # Embedding output\n",
        "                                          model.layers[2].output,  # Average pooling output\n",
        "                                          model.layers[3].output])  # Final predictions\n",
        "\n",
        "intermediate_outputs = intermediate_layer_model.predict(x_train)\n",
        "print(\"Input\",intermediate_outputs[0])  # Embedding output\n",
        "print(\"Embedding output\",intermediate_outputs[1])  # Embedding output\n",
        "print(\"Average pooling output\",intermediate_outputs[2])  # Average pooling output\n",
        "print(\"Final predictions\",intermediate_outputs[3])  # Final predictions"
      ],
      "metadata": {
        "colab": {
          "base_uri": "https://localhost:8080/"
        },
        "id": "jRPl18tPX5sB",
        "outputId": "af57d71b-d239-4f5e-b530-5c109ac3bcf7"
      },
      "id": "jRPl18tPX5sB",
      "execution_count": null,
      "outputs": [
        {
          "output_type": "stream",
          "name": "stdout",
          "text": [
            "125/125 [==============================] - 3s 24ms/step\n",
            "Input [[   0    0    0 ...    7    7  205]\n",
            " [   0    0    0 ...  246   16    1]\n",
            " [   0    0    0 ...   10  382   15]\n",
            " ...\n",
            " [   0    0    0 ...   33 2541   70]\n",
            " [   0    0    0 ...   16  257  717]\n",
            " [   0    0    0 ... 6700    5   70]]\n",
            "Embedding output [[[-0.00653016 -0.044802   -0.04898064 ... -0.00343075  0.03042285\n",
            "    0.01920886]\n",
            "  [-0.00653016 -0.044802   -0.04898064 ... -0.00343075  0.03042285\n",
            "    0.01920886]\n",
            "  [-0.00653016 -0.044802   -0.04898064 ... -0.00343075  0.03042285\n",
            "    0.01920886]\n",
            "  ...\n",
            "  [-0.34386683  0.36889476  0.3282125  ...  0.4252723  -0.3499001\n",
            "    0.33324236]\n",
            "  [-0.34386683  0.36889476  0.3282125  ...  0.4252723  -0.3499001\n",
            "    0.33324236]\n",
            "  [ 0.64113075 -0.65493846 -0.5991511  ... -0.6951273   0.6288959\n",
            "   -0.60556376]]\n",
            "\n",
            " [[-0.00653016 -0.044802   -0.04898064 ... -0.00343075  0.03042285\n",
            "    0.01920886]\n",
            "  [-0.00653016 -0.044802   -0.04898064 ... -0.00343075  0.03042285\n",
            "    0.01920886]\n",
            "  [-0.00653016 -0.044802   -0.04898064 ... -0.00343075  0.03042285\n",
            "    0.01920886]\n",
            "  ...\n",
            "  [-0.40624246  0.31097     0.3690395  ...  0.41731375 -0.388136\n",
            "    0.3930401 ]\n",
            "  [ 0.1772849  -0.15955982 -0.13814467 ... -0.07935683  0.08329388\n",
            "   -0.11699436]\n",
            "  [ 0.06164036 -0.0730082  -0.04421999 ... -0.12308645  0.08914477\n",
            "   -0.08015784]]\n",
            "\n",
            " [[-0.00653016 -0.044802   -0.04898064 ... -0.00343075  0.03042285\n",
            "    0.01920886]\n",
            "  [-0.00653016 -0.044802   -0.04898064 ... -0.00343075  0.03042285\n",
            "    0.01920886]\n",
            "  [-0.00653016 -0.044802   -0.04898064 ... -0.00343075  0.03042285\n",
            "    0.01920886]\n",
            "  ...\n",
            "  [-0.4695487   0.45964468  0.41162142 ...  0.5277861  -0.42312992\n",
            "    0.37063074]\n",
            "  [-0.9903555   0.89557225  0.9045624  ...  0.94675994 -0.93081313\n",
            "    0.84230435]\n",
            "  [-0.609905    0.51441044  0.50052017 ...  0.64860535 -0.56164086\n",
            "    0.5112212 ]]\n",
            "\n",
            " ...\n",
            "\n",
            " [[-0.00653016 -0.044802   -0.04898064 ... -0.00343075  0.03042285\n",
            "    0.01920886]\n",
            "  [-0.00653016 -0.044802   -0.04898064 ... -0.00343075  0.03042285\n",
            "    0.01920886]\n",
            "  [-0.00653016 -0.044802   -0.04898064 ... -0.00343075  0.03042285\n",
            "    0.01920886]\n",
            "  ...\n",
            "  [-0.86535114  0.78696364  0.77463704 ...  0.83696306 -0.7444311\n",
            "    0.73381555]\n",
            "  [-0.250419    0.23750132  0.262817   ...  0.28253448 -0.31688824\n",
            "    0.29104343]\n",
            "  [ 0.01494018 -0.10364842 -0.09742166 ... -0.00940112  0.07798723\n",
            "   -0.09878062]]\n",
            "\n",
            " [[-0.00653016 -0.044802   -0.04898064 ... -0.00343075  0.03042285\n",
            "    0.01920886]\n",
            "  [-0.00653016 -0.044802   -0.04898064 ... -0.00343075  0.03042285\n",
            "    0.01920886]\n",
            "  [-0.00653016 -0.044802   -0.04898064 ... -0.00343075  0.03042285\n",
            "    0.01920886]\n",
            "  ...\n",
            "  [ 0.1772849  -0.15955982 -0.13814467 ... -0.07935683  0.08329388\n",
            "   -0.11699436]\n",
            "  [ 0.70620245 -0.6325648  -0.6560825  ... -0.7624597   0.6794258\n",
            "   -0.698377  ]\n",
            "  [ 0.62676513 -0.479594   -0.47959524 ... -0.5568499   0.5732572\n",
            "   -0.49551994]]\n",
            "\n",
            " [[-0.00653016 -0.044802   -0.04898064 ... -0.00343075  0.03042285\n",
            "    0.01920886]\n",
            "  [-0.00653016 -0.044802   -0.04898064 ... -0.00343075  0.03042285\n",
            "    0.01920886]\n",
            "  [-0.00653016 -0.044802   -0.04898064 ... -0.00343075  0.03042285\n",
            "    0.01920886]\n",
            "  ...\n",
            "  [ 0.234911   -0.11420841 -0.12860978 ... -0.21167141  0.1955282\n",
            "   -0.18778421]\n",
            "  [-0.35434735  0.32026616  0.24383722 ...  0.34208328 -0.31272796\n",
            "    0.25401223]\n",
            "  [ 0.01494018 -0.10364842 -0.09742166 ... -0.00940112  0.07798723\n",
            "   -0.09878062]]]\n",
            "Average pooling output [[-0.00613031 -0.0369159  -0.0413525  ... -0.00181832  0.02472388\n",
            "   0.01669074]\n",
            " [-0.01042742 -0.03712113 -0.04177175 ...  0.00109985  0.02370647\n",
            "   0.02111359]\n",
            " [-0.01884723 -0.02951536 -0.03388659 ...  0.00972566  0.01644816\n",
            "   0.02887138]\n",
            " ...\n",
            " [ 0.00925293 -0.05205089 -0.05550193 ... -0.01789498  0.03937653\n",
            "   0.00400727]\n",
            " [ 0.00654129 -0.05067044 -0.05461466 ... -0.01560934  0.03736667\n",
            "   0.00580996]\n",
            " [ 0.00135816 -0.04804847 -0.0521517  ... -0.01096773  0.03481157\n",
            "   0.01060938]]\n",
            "Final predictions [[0.50659996 0.4934001 ]\n",
            " [0.5830782  0.4169218 ]\n",
            " [0.73728544 0.26271453]\n",
            " ...\n",
            " [0.22409096 0.77590907]\n",
            " [0.25635812 0.743642  ]\n",
            " [0.33871037 0.6612897 ]]\n"
          ]
        }
      ]
    },
    {
      "cell_type": "code",
      "source": [
        "intermediate_layer_model = Model(inputs=model.input, outputs=[model.layers[1].output])  # Embedding output only\n",
        "embedded_sequences_data = intermediate_layer_model.predict(x_train)\n",
        "print(embedded_sequences_data)"
      ],
      "metadata": {
        "colab": {
          "base_uri": "https://localhost:8080/"
        },
        "id": "Oc0PQckxZkrj",
        "outputId": "f1cbec41-d01e-4d42-ac8b-988b0d280410"
      },
      "id": "Oc0PQckxZkrj",
      "execution_count": null,
      "outputs": [
        {
          "output_type": "stream",
          "name": "stdout",
          "text": [
            "125/125 [==============================] - 1s 6ms/step\n",
            "[[[-0.00653016 -0.044802   -0.04898064 ... -0.00343075  0.03042285\n",
            "    0.01920886]\n",
            "  [-0.00653016 -0.044802   -0.04898064 ... -0.00343075  0.03042285\n",
            "    0.01920886]\n",
            "  [-0.00653016 -0.044802   -0.04898064 ... -0.00343075  0.03042285\n",
            "    0.01920886]\n",
            "  ...\n",
            "  [-0.34386683  0.36889476  0.3282125  ...  0.4252723  -0.3499001\n",
            "    0.33324236]\n",
            "  [-0.34386683  0.36889476  0.3282125  ...  0.4252723  -0.3499001\n",
            "    0.33324236]\n",
            "  [ 0.64113075 -0.65493846 -0.5991511  ... -0.6951273   0.6288959\n",
            "   -0.60556376]]\n",
            "\n",
            " [[-0.00653016 -0.044802   -0.04898064 ... -0.00343075  0.03042285\n",
            "    0.01920886]\n",
            "  [-0.00653016 -0.044802   -0.04898064 ... -0.00343075  0.03042285\n",
            "    0.01920886]\n",
            "  [-0.00653016 -0.044802   -0.04898064 ... -0.00343075  0.03042285\n",
            "    0.01920886]\n",
            "  ...\n",
            "  [-0.40624246  0.31097     0.3690395  ...  0.41731375 -0.388136\n",
            "    0.3930401 ]\n",
            "  [ 0.1772849  -0.15955982 -0.13814467 ... -0.07935683  0.08329388\n",
            "   -0.11699436]\n",
            "  [ 0.06164036 -0.0730082  -0.04421999 ... -0.12308645  0.08914477\n",
            "   -0.08015784]]\n",
            "\n",
            " [[-0.00653016 -0.044802   -0.04898064 ... -0.00343075  0.03042285\n",
            "    0.01920886]\n",
            "  [-0.00653016 -0.044802   -0.04898064 ... -0.00343075  0.03042285\n",
            "    0.01920886]\n",
            "  [-0.00653016 -0.044802   -0.04898064 ... -0.00343075  0.03042285\n",
            "    0.01920886]\n",
            "  ...\n",
            "  [-0.4695487   0.45964468  0.41162142 ...  0.5277861  -0.42312992\n",
            "    0.37063074]\n",
            "  [-0.9903555   0.89557225  0.9045624  ...  0.94675994 -0.93081313\n",
            "    0.84230435]\n",
            "  [-0.609905    0.51441044  0.50052017 ...  0.64860535 -0.56164086\n",
            "    0.5112212 ]]\n",
            "\n",
            " ...\n",
            "\n",
            " [[-0.00653016 -0.044802   -0.04898064 ... -0.00343075  0.03042285\n",
            "    0.01920886]\n",
            "  [-0.00653016 -0.044802   -0.04898064 ... -0.00343075  0.03042285\n",
            "    0.01920886]\n",
            "  [-0.00653016 -0.044802   -0.04898064 ... -0.00343075  0.03042285\n",
            "    0.01920886]\n",
            "  ...\n",
            "  [-0.86535114  0.78696364  0.77463704 ...  0.83696306 -0.7444311\n",
            "    0.73381555]\n",
            "  [-0.250419    0.23750132  0.262817   ...  0.28253448 -0.31688824\n",
            "    0.29104343]\n",
            "  [ 0.01494018 -0.10364842 -0.09742166 ... -0.00940112  0.07798723\n",
            "   -0.09878062]]\n",
            "\n",
            " [[-0.00653016 -0.044802   -0.04898064 ... -0.00343075  0.03042285\n",
            "    0.01920886]\n",
            "  [-0.00653016 -0.044802   -0.04898064 ... -0.00343075  0.03042285\n",
            "    0.01920886]\n",
            "  [-0.00653016 -0.044802   -0.04898064 ... -0.00343075  0.03042285\n",
            "    0.01920886]\n",
            "  ...\n",
            "  [ 0.1772849  -0.15955982 -0.13814467 ... -0.07935683  0.08329388\n",
            "   -0.11699436]\n",
            "  [ 0.70620245 -0.6325648  -0.6560825  ... -0.7624597   0.6794258\n",
            "   -0.698377  ]\n",
            "  [ 0.62676513 -0.479594   -0.47959524 ... -0.5568499   0.5732572\n",
            "   -0.49551994]]\n",
            "\n",
            " [[-0.00653016 -0.044802   -0.04898064 ... -0.00343075  0.03042285\n",
            "    0.01920886]\n",
            "  [-0.00653016 -0.044802   -0.04898064 ... -0.00343075  0.03042285\n",
            "    0.01920886]\n",
            "  [-0.00653016 -0.044802   -0.04898064 ... -0.00343075  0.03042285\n",
            "    0.01920886]\n",
            "  ...\n",
            "  [ 0.234911   -0.11420841 -0.12860978 ... -0.21167141  0.1955282\n",
            "   -0.18778421]\n",
            "  [-0.35434735  0.32026616  0.24383722 ...  0.34208328 -0.31272796\n",
            "    0.25401223]\n",
            "  [ 0.01494018 -0.10364842 -0.09742166 ... -0.00940112  0.07798723\n",
            "   -0.09878062]]]\n"
          ]
        }
      ]
    },
    {
      "cell_type": "code",
      "source": [
        "print(embedded_sequences_data.shape)"
      ],
      "metadata": {
        "colab": {
          "base_uri": "https://localhost:8080/"
        },
        "id": "kwiClTMHcOUx",
        "outputId": "1a17cfd4-d4ca-4ae9-f89c-a4cd74404fd4"
      },
      "id": "kwiClTMHcOUx",
      "execution_count": null,
      "outputs": [
        {
          "output_type": "stream",
          "name": "stdout",
          "text": [
            "(4000, 1544, 50)\n"
          ]
        }
      ]
    },
    {
      "cell_type": "code",
      "source": [
        "intermediate_layer_model = Model(inputs=model.input, outputs=[model.layers[2].output])  # Pooling output only\n",
        "pooling_output_train_data = intermediate_layer_model.predict(x_train)\n",
        "print(pooling_output_train_data)\n",
        "pooling_output_test_data = intermediate_layer_model.predict(x_test)"
      ],
      "metadata": {
        "colab": {
          "base_uri": "https://localhost:8080/"
        },
        "id": "y2crOGvnaP8c",
        "outputId": "2c7b5c56-e3e5-438f-b2b1-ac584d6d2f1e"
      },
      "id": "y2crOGvnaP8c",
      "execution_count": null,
      "outputs": [
        {
          "output_type": "stream",
          "name": "stdout",
          "text": [
            "125/125 [==============================] - 1s 10ms/step\n",
            "[[-0.00613031 -0.0369159  -0.0413525  ... -0.00181832  0.02472388\n",
            "   0.01669074]\n",
            " [-0.01042742 -0.03712113 -0.04177175 ...  0.00109985  0.02370647\n",
            "   0.02111359]\n",
            " [-0.01884723 -0.02951536 -0.03388659 ...  0.00972566  0.01644816\n",
            "   0.02887138]\n",
            " ...\n",
            " [ 0.00925293 -0.05205089 -0.05550193 ... -0.01789498  0.03937653\n",
            "   0.00400727]\n",
            " [ 0.00654129 -0.05067044 -0.05461466 ... -0.01560934  0.03736667\n",
            "   0.00580996]\n",
            " [ 0.00135816 -0.04804847 -0.0521517  ... -0.01096773  0.03481157\n",
            "   0.01060938]]\n",
            "32/32 [==============================] - 0s 5ms/step\n"
          ]
        }
      ]
    },
    {
      "cell_type": "code",
      "source": [
        "print(pooling_output_train_data.shape)"
      ],
      "metadata": {
        "colab": {
          "base_uri": "https://localhost:8080/"
        },
        "id": "ARlwAocMb3Xt",
        "outputId": "da544294-3d6e-4b25-898c-6fe096359e35"
      },
      "id": "ARlwAocMb3Xt",
      "execution_count": null,
      "outputs": [
        {
          "output_type": "stream",
          "name": "stdout",
          "text": [
            "(4000, 50)\n"
          ]
        }
      ]
    },
    {
      "cell_type": "markdown",
      "source": [
        "## PCA"
      ],
      "metadata": {
        "id": "sPkMW7ybc-sj"
      },
      "id": "sPkMW7ybc-sj"
    },
    {
      "cell_type": "code",
      "source": [
        "from sklearn.decomposition import KernelPCA\n",
        "kernel_pca_rbf = KernelPCA(n_components=4, kernel=\"rbf\")\n",
        "kernel_pca_rbf.fit(pooling_output_train_data)\n",
        "train_features_rbf = kernel_pca_rbf.transform(pooling_output_train_data)\n",
        "kernel_pca_rbf.fit(pooling_output_test_data)\n",
        "test_features_rbf = kernel_pca_rbf.transform(pooling_output_test_data)"
      ],
      "metadata": {
        "id": "GO2s9OmgcM-b"
      },
      "id": "GO2s9OmgcM-b",
      "execution_count": null,
      "outputs": []
    },
    {
      "cell_type": "code",
      "source": [
        "train_features_rbf"
      ],
      "metadata": {
        "colab": {
          "base_uri": "https://localhost:8080/"
        },
        "id": "3tiNBVUFRYri",
        "outputId": "f4782120-640e-4e59-aadd-cc130705dd28"
      },
      "id": "3tiNBVUFRYri",
      "execution_count": null,
      "outputs": [
        {
          "output_type": "execute_result",
          "data": {
            "text/plain": [
              "array([[-2.3042392e-03,  5.8165879e-04,  1.8383693e-03, -2.4917442e-04],\n",
              "       [ 2.4206678e-03, -2.2977509e-03,  2.0879887e-03,  7.1567018e-05],\n",
              "       [ 1.3486461e-02, -2.4994197e-03,  2.2223678e-03, -2.2942200e-04],\n",
              "       ...,\n",
              "       [-2.2545336e-02, -2.2295336e-04,  2.3538801e-03, -1.3687834e-04],\n",
              "       [-1.9820744e-02, -3.6480586e-04,  2.2453973e-03,  2.3800135e-04],\n",
              "       [-1.3606444e-02, -1.9577881e-03,  2.2272104e-03,  2.1123048e-04]],\n",
              "      dtype=float32)"
            ]
          },
          "metadata": {},
          "execution_count": 28
        }
      ]
    },
    {
      "cell_type": "code",
      "source": [
        "!pip install qiskit==0.45.2"
      ],
      "metadata": {
        "colab": {
          "base_uri": "https://localhost:8080/"
        },
        "id": "_OxMn43zdw09",
        "outputId": "2dd5284e-2a4f-495d-cb1d-089970c83d9b"
      },
      "id": "_OxMn43zdw09",
      "execution_count": null,
      "outputs": [
        {
          "output_type": "stream",
          "name": "stdout",
          "text": [
            "Requirement already satisfied: qiskit==0.45.2 in /usr/local/lib/python3.10/dist-packages (0.45.2)\n",
            "Requirement already satisfied: qiskit-terra==0.45.2 in /usr/local/lib/python3.10/dist-packages (from qiskit==0.45.2) (0.45.2)\n",
            "Requirement already satisfied: rustworkx>=0.13.0 in /usr/local/lib/python3.10/dist-packages (from qiskit-terra==0.45.2->qiskit==0.45.2) (0.14.1)\n",
            "Requirement already satisfied: numpy<2,>=1.17 in /usr/local/lib/python3.10/dist-packages (from qiskit-terra==0.45.2->qiskit==0.45.2) (1.25.2)\n",
            "Requirement already satisfied: ply>=3.10 in /usr/local/lib/python3.10/dist-packages (from qiskit-terra==0.45.2->qiskit==0.45.2) (3.11)\n",
            "Requirement already satisfied: psutil>=5 in /usr/local/lib/python3.10/dist-packages (from qiskit-terra==0.45.2->qiskit==0.45.2) (5.9.5)\n",
            "Requirement already satisfied: scipy>=1.5 in /usr/local/lib/python3.10/dist-packages (from qiskit-terra==0.45.2->qiskit==0.45.2) (1.11.4)\n",
            "Requirement already satisfied: sympy>=1.3 in /usr/local/lib/python3.10/dist-packages (from qiskit-terra==0.45.2->qiskit==0.45.2) (1.12)\n",
            "Requirement already satisfied: dill>=0.3 in /usr/local/lib/python3.10/dist-packages (from qiskit-terra==0.45.2->qiskit==0.45.2) (0.3.8)\n",
            "Requirement already satisfied: python-dateutil>=2.8.0 in /usr/local/lib/python3.10/dist-packages (from qiskit-terra==0.45.2->qiskit==0.45.2) (2.8.2)\n",
            "Requirement already satisfied: stevedore>=3.0.0 in /usr/local/lib/python3.10/dist-packages (from qiskit-terra==0.45.2->qiskit==0.45.2) (5.2.0)\n",
            "Requirement already satisfied: symengine!=0.10.0,>=0.9 in /usr/local/lib/python3.10/dist-packages (from qiskit-terra==0.45.2->qiskit==0.45.2) (0.11.0)\n",
            "Requirement already satisfied: typing-extensions in /usr/local/lib/python3.10/dist-packages (from qiskit-terra==0.45.2->qiskit==0.45.2) (4.10.0)\n",
            "Requirement already satisfied: six>=1.5 in /usr/local/lib/python3.10/dist-packages (from python-dateutil>=2.8.0->qiskit-terra==0.45.2->qiskit==0.45.2) (1.16.0)\n",
            "Requirement already satisfied: pbr!=2.1.0,>=2.0.0 in /usr/local/lib/python3.10/dist-packages (from stevedore>=3.0.0->qiskit-terra==0.45.2->qiskit==0.45.2) (6.0.0)\n",
            "Requirement already satisfied: mpmath>=0.19 in /usr/local/lib/python3.10/dist-packages (from sympy>=1.3->qiskit-terra==0.45.2->qiskit==0.45.2) (1.3.0)\n"
          ]
        }
      ]
    },
    {
      "cell_type": "code",
      "source": [
        "from qiskit.circuit.library import ZZFeatureMap,PauliFeatureMap\n",
        "num_features = train_features_rbf.shape[1]\n",
        "feature_map = ZZFeatureMap(feature_dimension=num_features, reps=1, entanglement = 'linear',\n",
        "insert_barriers =True)\n",
        "feature_map.draw()"
      ],
      "metadata": {
        "colab": {
          "base_uri": "https://localhost:8080/",
          "height": 156
        },
        "id": "JrtYJ1sLdqZJ",
        "outputId": "24473708-dd4a-4f98-fd76-2a7250207076"
      },
      "id": "JrtYJ1sLdqZJ",
      "execution_count": null,
      "outputs": [
        {
          "output_type": "execute_result",
          "data": {
            "text/plain": [
              "     ┌────────────────────────────────────┐\n",
              "q_0: ┤0                                   ├\n",
              "     │                                    │\n",
              "q_1: ┤1                                   ├\n",
              "     │  ZZFeatureMap(x[0],x[1],x[2],x[3]) │\n",
              "q_2: ┤2                                   ├\n",
              "     │                                    │\n",
              "q_3: ┤3                                   ├\n",
              "     └────────────────────────────────────┘"
            ],
            "text/html": [
              "<pre style=\"word-wrap: normal;white-space: pre;background: #fff0;line-height: 1.1;font-family: &quot;Courier New&quot;,Courier,monospace\">     ┌────────────────────────────────────┐\n",
              "q_0: ┤0                                   ├\n",
              "     │                                    │\n",
              "q_1: ┤1                                   ├\n",
              "     │  ZZFeatureMap(x[0],x[1],x[2],x[3]) │\n",
              "q_2: ┤2                                   ├\n",
              "     │                                    │\n",
              "q_3: ┤3                                   ├\n",
              "     └────────────────────────────────────┘</pre>"
            ]
          },
          "metadata": {},
          "execution_count": 30
        }
      ]
    },
    {
      "cell_type": "code",
      "source": [
        "print(feature_map.decompose().decompose().depth())"
      ],
      "metadata": {
        "colab": {
          "base_uri": "https://localhost:8080/"
        },
        "id": "0dbrgCzpd3kA",
        "outputId": "05faa93c-5944-483f-a943-8a480efd76e3"
      },
      "id": "0dbrgCzpd3kA",
      "execution_count": null,
      "outputs": [
        {
          "output_type": "stream",
          "name": "stdout",
          "text": [
            "11\n"
          ]
        }
      ]
    },
    {
      "cell_type": "code",
      "source": [
        "!pip install qiskit_machine_learning"
      ],
      "metadata": {
        "colab": {
          "base_uri": "https://localhost:8080/"
        },
        "id": "J1U1vB5nehi6",
        "outputId": "ea10286a-872b-45c9-df94-affcc2ffe7f1"
      },
      "id": "J1U1vB5nehi6",
      "execution_count": null,
      "outputs": [
        {
          "output_type": "stream",
          "name": "stdout",
          "text": [
            "Requirement already satisfied: qiskit_machine_learning in /usr/local/lib/python3.10/dist-packages (0.7.2)\n",
            "Requirement already satisfied: qiskit>=0.44 in /usr/local/lib/python3.10/dist-packages (from qiskit_machine_learning) (0.45.2)\n",
            "Requirement already satisfied: qiskit-algorithms>=0.2.0 in /usr/local/lib/python3.10/dist-packages (from qiskit_machine_learning) (0.3.0)\n",
            "Requirement already satisfied: scipy>=1.4 in /usr/local/lib/python3.10/dist-packages (from qiskit_machine_learning) (1.11.4)\n",
            "Requirement already satisfied: numpy>=1.17 in /usr/local/lib/python3.10/dist-packages (from qiskit_machine_learning) (1.25.2)\n",
            "Requirement already satisfied: psutil>=5 in /usr/local/lib/python3.10/dist-packages (from qiskit_machine_learning) (5.9.5)\n",
            "Requirement already satisfied: scikit-learn>=1.2.0 in /usr/local/lib/python3.10/dist-packages (from qiskit_machine_learning) (1.2.2)\n",
            "Requirement already satisfied: fastdtw in /usr/local/lib/python3.10/dist-packages (from qiskit_machine_learning) (0.3.4)\n",
            "Requirement already satisfied: setuptools>=40.1.0 in /usr/local/lib/python3.10/dist-packages (from qiskit_machine_learning) (67.7.2)\n",
            "Requirement already satisfied: dill>=0.3.4 in /usr/local/lib/python3.10/dist-packages (from qiskit_machine_learning) (0.3.8)\n",
            "Requirement already satisfied: qiskit-terra==0.45.2 in /usr/local/lib/python3.10/dist-packages (from qiskit>=0.44->qiskit_machine_learning) (0.45.2)\n",
            "Requirement already satisfied: rustworkx>=0.13.0 in /usr/local/lib/python3.10/dist-packages (from qiskit-terra==0.45.2->qiskit>=0.44->qiskit_machine_learning) (0.14.1)\n",
            "Requirement already satisfied: ply>=3.10 in /usr/local/lib/python3.10/dist-packages (from qiskit-terra==0.45.2->qiskit>=0.44->qiskit_machine_learning) (3.11)\n",
            "Requirement already satisfied: sympy>=1.3 in /usr/local/lib/python3.10/dist-packages (from qiskit-terra==0.45.2->qiskit>=0.44->qiskit_machine_learning) (1.12)\n",
            "Requirement already satisfied: python-dateutil>=2.8.0 in /usr/local/lib/python3.10/dist-packages (from qiskit-terra==0.45.2->qiskit>=0.44->qiskit_machine_learning) (2.8.2)\n",
            "Requirement already satisfied: stevedore>=3.0.0 in /usr/local/lib/python3.10/dist-packages (from qiskit-terra==0.45.2->qiskit>=0.44->qiskit_machine_learning) (5.2.0)\n",
            "Requirement already satisfied: symengine!=0.10.0,>=0.9 in /usr/local/lib/python3.10/dist-packages (from qiskit-terra==0.45.2->qiskit>=0.44->qiskit_machine_learning) (0.11.0)\n",
            "Requirement already satisfied: typing-extensions in /usr/local/lib/python3.10/dist-packages (from qiskit-terra==0.45.2->qiskit>=0.44->qiskit_machine_learning) (4.10.0)\n",
            "Requirement already satisfied: joblib>=1.1.1 in /usr/local/lib/python3.10/dist-packages (from scikit-learn>=1.2.0->qiskit_machine_learning) (1.3.2)\n",
            "Requirement already satisfied: threadpoolctl>=2.0.0 in /usr/local/lib/python3.10/dist-packages (from scikit-learn>=1.2.0->qiskit_machine_learning) (3.3.0)\n",
            "Requirement already satisfied: six>=1.5 in /usr/local/lib/python3.10/dist-packages (from python-dateutil>=2.8.0->qiskit-terra==0.45.2->qiskit>=0.44->qiskit_machine_learning) (1.16.0)\n",
            "Requirement already satisfied: pbr!=2.1.0,>=2.0.0 in /usr/local/lib/python3.10/dist-packages (from stevedore>=3.0.0->qiskit-terra==0.45.2->qiskit>=0.44->qiskit_machine_learning) (6.0.0)\n",
            "Requirement already satisfied: mpmath>=0.19 in /usr/local/lib/python3.10/dist-packages (from sympy>=1.3->qiskit-terra==0.45.2->qiskit>=0.44->qiskit_machine_learning) (1.3.0)\n"
          ]
        }
      ]
    },
    {
      "cell_type": "code",
      "source": [
        "from qiskit.circuit.library import RealAmplitudes\n",
        "ansatz = RealAmplitudes(num_qubits=num_features, reps=1)\n",
        "#ansatz.decompose().draw(output=\"mpl\", fold=20)"
      ],
      "metadata": {
        "id": "Su0PKPrVe4na"
      },
      "id": "Su0PKPrVe4na",
      "execution_count": null,
      "outputs": []
    },
    {
      "cell_type": "code",
      "source": [
        "from matplotlib import pyplot as plt\n",
        "from IPython.display import clear_output\n",
        "\n",
        "objective_func_vals = []\n",
        "plt.rcParams[\"figure.figsize\"] = (12, 6)\n",
        "\n",
        "count = 0\n",
        "def callback_graph(weights, obj_func_eval):\n",
        "    global count\n",
        "    count+=1\n",
        "    print(count)\n",
        "    clear_output(wait=True)\n",
        "    objective_func_vals.append(obj_func_eval)\n",
        "    plt.title(\"Objective function value against iteration\")\n",
        "    plt.xlabel(\"Iteration\")\n",
        "    plt.ylabel(\"Objective function value\")\n",
        "    plt.plot(range(len(objective_func_vals)), objective_func_vals)\n",
        "    plt.show()"
      ],
      "metadata": {
        "id": "Qn4RCItTe5ZV"
      },
      "id": "Qn4RCItTe5ZV",
      "execution_count": null,
      "outputs": []
    },
    {
      "cell_type": "code",
      "source": [
        "from qiskit_machine_learning.algorithms.classifiers import VQC\n",
        "from qiskit.algorithms.optimizers import ISRES, ADAM, COBYLA\n",
        "from qiskit.primitives import Sampler\n",
        "\n",
        "sampler = Sampler()\n",
        "optimizer = COBYLA(maxiter=10)"
      ],
      "metadata": {
        "id": "4s_mIVfleSNP",
        "colab": {
          "base_uri": "https://localhost:8080/"
        },
        "outputId": "511efa5b-d07b-4d27-fd37-de7199e01b49"
      },
      "id": "4s_mIVfleSNP",
      "execution_count": null,
      "outputs": [
        {
          "output_type": "stream",
          "name": "stderr",
          "text": [
            "<ipython-input-35-fcb15338e3bc>:2: DeprecationWarning: ``qiskit.algorithms`` has been migrated to an independent package: https://github.com/qiskit-community/qiskit-algorithms. The ``qiskit.algorithms`` import path is deprecated as of qiskit-terra 0.25.0 and will be removed no earlier than 3 months after the release date. Please run ``pip install qiskit_algorithms`` and use ``import qiskit_algorithms`` instead.\n",
            "  from qiskit.algorithms.optimizers import ISRES, ADAM, COBYLA\n"
          ]
        }
      ]
    },
    {
      "cell_type": "markdown",
      "source": [
        "# Neural Network with VQC"
      ],
      "metadata": {
        "id": "cXg7pG6c5vEZ"
      },
      "id": "cXg7pG6c5vEZ"
    },
    {
      "cell_type": "code",
      "source": [
        "%%time\n",
        "vqc = VQC(\n",
        "    sampler=sampler,\n",
        "    feature_map=feature_map,\n",
        "    ansatz=ansatz,\n",
        "    optimizer=optimizer,\n",
        "    callback=callback_graph,\n",
        ")\n",
        "\n",
        "objective_func_vals = []\n",
        "vqc.fit(train_features_rbf, y_train)"
      ],
      "metadata": {
        "colab": {
          "base_uri": "https://localhost:8080/",
          "height": 616
        },
        "id": "5liVNnB2epDj",
        "outputId": "96707feb-31de-4cce-a97d-807b3e7691d3"
      },
      "id": "5liVNnB2epDj",
      "execution_count": null,
      "outputs": [
        {
          "output_type": "display_data",
          "data": {
            "text/plain": [
              "<Figure size 1200x600 with 1 Axes>"
            ],
            "image/png": "[encoded data removed]"
          },
          "metadata": {}
        },
        {
          "output_type": "stream",
          "name": "stdout",
          "text": [
            "CPU times: user 3min 19s, sys: 2.19 s, total: 3min 21s\n",
            "Wall time: 3min 43s\n"
          ]
        },
        {
          "output_type": "execute_result",
          "data": {
            "text/plain": [
              "<qiskit_machine_learning.algorithms.classifiers.vqc.VQC at 0x7e086536c580>"
            ]
          },
          "metadata": {},
          "execution_count": 36
        }
      ]
    },
    {
      "cell_type": "code",
      "source": [
        "train_score_q4 = vqc.score(train_features_rbf, y_train)\n",
        "print(f\"Quantum VQC on the training dataset: {train_score_q4:.2f}\")"
      ],
      "metadata": {
        "colab": {
          "base_uri": "https://localhost:8080/"
        },
        "id": "rNdsfK2ifA-B",
        "outputId": "2d1645f1-4034-4018-e5a0-126ffaf185ec"
      },
      "id": "rNdsfK2ifA-B",
      "execution_count": null,
      "outputs": [
        {
          "output_type": "stream",
          "name": "stdout",
          "text": [
            "Quantum VQC on the training dataset: 0.50\n"
          ]
        }
      ]
    },
    {
      "cell_type": "code",
      "source": [
        "y_test = tf.keras.utils.to_categorical(np.asarray(y_test))\n",
        "print('Shape of label tensor:', y_test.shape)"
      ],
      "metadata": {
        "colab": {
          "base_uri": "https://localhost:8080/"
        },
        "id": "pUfcgqzW2iaZ",
        "outputId": "e8ddc74c-1681-4343-e53e-9cf0b6f58679"
      },
      "id": "pUfcgqzW2iaZ",
      "execution_count": null,
      "outputs": [
        {
          "output_type": "stream",
          "name": "stdout",
          "text": [
            "Shape of label tensor: (1000, 2)\n"
          ]
        }
      ]
    },
    {
      "cell_type": "code",
      "source": [
        "train_score_q4 = vqc.score(train_features_rbf, y_train)\n",
        "test_score_q4 = vqc.score(test_features_rbf, y_test)\n",
        "print(f\"Quantum VQC on the training dataset: {train_score_q4:.2f}\")\n",
        "print(f\"Quantum VQC on the test dataset:     {test_score_q4:.2f}\")"
      ],
      "metadata": {
        "colab": {
          "base_uri": "https://localhost:8080/"
        },
        "id": "RsL4f8C8fSiD",
        "outputId": "6906a905-c658-463c-c227-215ae62fcaba"
      },
      "id": "RsL4f8C8fSiD",
      "execution_count": null,
      "outputs": [
        {
          "output_type": "stream",
          "name": "stdout",
          "text": [
            "Quantum VQC on the training dataset: 0.50\n",
            "Quantum VQC on the test dataset:     0.52\n"
          ]
        }
      ]
    },
    {
      "cell_type": "markdown",
      "source": [
        "# Neural Network with QNN"
      ],
      "metadata": {
        "id": "atGY8WwNBJgk"
      },
      "id": "atGY8WwNBJgk"
    },
    {
      "cell_type": "code",
      "source": [
        "from qiskit_machine_learning.circuit.library import QNNCircuit\n",
        "from qiskit_machine_learning.algorithms.classifiers import NeuralNetworkClassifier\n",
        "from qiskit_machine_learning.neural_networks import EffectiveDimension, LocalEffectiveDimension\n",
        "from qiskit_machine_learning.neural_networks import SamplerQNN, EstimatorQNN\n",
        "from qiskit.algorithms.optimizers import ISRES, ADAM, COBYLA\n",
        "from qiskit import QuantumCircuit"
      ],
      "metadata": {
        "id": "s8siJoUjqpid"
      },
      "id": "s8siJoUjqpid",
      "execution_count": null,
      "outputs": []
    },
    {
      "cell_type": "code",
      "source": [
        "qc = QuantumCircuit(num_features)\n",
        "qc.compose(feature_map, inplace=True)\n",
        "qc.compose(ansatz, inplace=True)\n",
        "qc.draw()"
      ],
      "metadata": {
        "colab": {
          "base_uri": "https://localhost:8080/",
          "height": 294
        },
        "id": "9CasfgokruOd",
        "outputId": "0a84ae86-0738-4413-cc56-a340b8eb44f3"
      },
      "id": "9CasfgokruOd",
      "execution_count": null,
      "outputs": [
        {
          "output_type": "execute_result",
          "data": {
            "text/plain": [
              "     ┌────────────────────────────────────┐»\n",
              "q_0: ┤0                                   ├»\n",
              "     │                                    │»\n",
              "q_1: ┤1                                   ├»\n",
              "     │  ZZFeatureMap(x[0],x[1],x[2],x[3]) │»\n",
              "q_2: ┤2                                   ├»\n",
              "     │                                    │»\n",
              "q_3: ┤3                                   ├»\n",
              "     └────────────────────────────────────┘»\n",
              "«     ┌──────────────────────────────────────────────────────────┐\n",
              "«q_0: ┤0                                                         ├\n",
              "«     │                                                          │\n",
              "«q_1: ┤1                                                         ├\n",
              "«     │  RealAmplitudes(θ[0],θ[1],θ[2],θ[3],θ[4],θ[5],θ[6],θ[7]) │\n",
              "«q_2: ┤2                                                         ├\n",
              "«     │                                                          │\n",
              "«q_3: ┤3                                                         ├\n",
              "«     └──────────────────────────────────────────────────────────┘"
            ],
            "text/html": [
              "<pre style=\"word-wrap: normal;white-space: pre;background: #fff0;line-height: 1.1;font-family: &quot;Courier New&quot;,Courier,monospace\">     ┌────────────────────────────────────┐»\n",
              "q_0: ┤0                                   ├»\n",
              "     │                                    │»\n",
              "q_1: ┤1                                   ├»\n",
              "     │  ZZFeatureMap(x[0],x[1],x[2],x[3]) │»\n",
              "q_2: ┤2                                   ├»\n",
              "     │                                    │»\n",
              "q_3: ┤3                                   ├»\n",
              "     └────────────────────────────────────┘»\n",
              "«     ┌──────────────────────────────────────────────────────────┐\n",
              "«q_0: ┤0                                                         ├\n",
              "«     │                                                          │\n",
              "«q_1: ┤1                                                         ├\n",
              "«     │  RealAmplitudes(θ[0],θ[1],θ[2],θ[3],θ[4],θ[5],θ[6],θ[7]) │\n",
              "«q_2: ┤2                                                         ├\n",
              "«     │                                                          │\n",
              "«q_3: ┤3                                                         ├\n",
              "«     └──────────────────────────────────────────────────────────┘</pre>"
            ]
          },
          "metadata": {},
          "execution_count": 41
        }
      ]
    },
    {
      "cell_type": "code",
      "source": [
        "parity = lambda x: format(x, 'b').zfill(2).count('1') % 2"
      ],
      "metadata": {
        "id": "2jJNWq7bsHqX"
      },
      "id": "2jJNWq7bsHqX",
      "execution_count": null,
      "outputs": []
    },
    {
      "cell_type": "code",
      "source": [
        "qnn = SamplerQNN(\n",
        "    circuit = qc,\n",
        "    input_params = feature_map.parameters,\n",
        "    weight_params = ansatz.parameters,\n",
        "    interpret = parity,\n",
        "    output_shape = 2\n",
        ")"
      ],
      "metadata": {
        "id": "6SMIpeIkq4l0"
      },
      "id": "6SMIpeIkq4l0",
      "execution_count": null,
      "outputs": []
    },
    {
      "cell_type": "code",
      "source": [
        "x_train.shape"
      ],
      "metadata": {
        "colab": {
          "base_uri": "https://localhost:8080/"
        },
        "id": "8MTEqtsvtARI",
        "outputId": "d169bac7-9d08-404e-df89-08db02adb711"
      },
      "id": "8MTEqtsvtARI",
      "execution_count": null,
      "outputs": [
        {
          "output_type": "execute_result",
          "data": {
            "text/plain": [
              "(4000, 1544)"
            ]
          },
          "metadata": {},
          "execution_count": 44
        }
      ]
    },
    {
      "cell_type": "code",
      "source": [
        "%%time\n",
        "def callback_graph(weights, obj_func_eval):\n",
        "    clear_output(wait=True)\n",
        "    objective_func_vals.append(obj_func_eval)\n",
        "\n",
        "estimator_classifier = NeuralNetworkClassifier(\n",
        "    qnn, optimizer=optimizer, callback=callback_graph\n",
        ")\n",
        "estimator_classifier.fit(train_features_rbf, train_y)"
      ],
      "metadata": {
        "colab": {
          "base_uri": "https://localhost:8080/"
        },
        "id": "16xhuhKsssMg",
        "outputId": "20d3fe99-69bc-4583-ec62-5557094f52e2"
      },
      "id": "16xhuhKsssMg",
      "execution_count": null,
      "outputs": [
        {
          "output_type": "stream",
          "name": "stdout",
          "text": [
            "CPU times: user 3min 10s, sys: 890 ms, total: 3min 11s\n",
            "Wall time: 3min 15s\n"
          ]
        },
        {
          "output_type": "execute_result",
          "data": {
            "text/plain": [
              "<qiskit_machine_learning.algorithms.classifiers.neural_network_classifier.NeuralNetworkClassifier at 0x7e085d182dd0>"
            ]
          },
          "metadata": {},
          "execution_count": 45
        }
      ]
    },
    {
      "cell_type": "code",
      "source": [
        "train_score_q4 = estimator_classifier.score(train_features_rbf, train_y)\n",
        "print(\"QNN_Train_Accuracy\",train_score_q4)\n",
        "test_score_q4 = estimator_classifier.score(test_features_rbf, test_y)\n",
        "print(\"QNN_Test_Accuracy\",test_score_q4)"
      ],
      "metadata": {
        "colab": {
          "base_uri": "https://localhost:8080/"
        },
        "id": "Z45N_e0SuMz1",
        "outputId": "11887457-325f-4b6a-80e2-eb489a1081bb"
      },
      "id": "Z45N_e0SuMz1",
      "execution_count": null,
      "outputs": [
        {
          "output_type": "stream",
          "name": "stdout",
          "text": [
            "QNN_Train_Accuracy 0.49725\n",
            "QNN_Test_Accuracy 0.479\n"
          ]
        }
      ]
    },
    {
      "cell_type": "code",
      "source": [],
      "metadata": {
        "id": "mHDzx8PfmdLS"
      },
      "id": "mHDzx8PfmdLS",
      "execution_count": null,
      "outputs": []
    }
  ],
  "metadata": {
    "kernelspec": {
      "display_name": "Python 3 (ipykernel)",
      "language": "python",
      "name": "python3"
    },
    "language_info": {
      "codemirror_mode": {
        "name": "ipython",
        "version": 3
      },
      "file_extension": ".py",
      "mimetype": "text/x-python",
      "name": "python",
      "nbconvert_exporter": "python",
      "pygments_lexer": "ipython3",
      "version": "3.10.8"
    },
    "colab": {
      "provenance": [],
      "include_colab_link": true
    }
  },
  "nbformat": 4,
  "nbformat_minor": 5
}