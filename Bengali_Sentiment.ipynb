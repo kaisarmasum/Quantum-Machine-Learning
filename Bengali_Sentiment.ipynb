{
  "cells": [
    {
      "cell_type": "markdown",
      "metadata": {
        "id": "view-in-github",
        "colab_type": "text"
      },
      "source": [
        "<a href=\"https://colab.research.google.com/github/kaisarmasum/Quantum-Machine-Learning/blob/main/Bengali_Sentiment.ipynb\" target=\"_parent\"><img src=\"https://colab.research.google.com/assets/colab-badge.svg\" alt=\"Open In Colab\"/></a>"
      ]
    },
    {
      "cell_type": "code",
      "execution_count": null,
      "id": "9bd09aae-a5a5-4433-9e36-b61eb7257f19",
      "metadata": {
        "tags": [],
        "id": "9bd09aae-a5a5-4433-9e36-b61eb7257f19"
      },
      "outputs": [],
      "source": [
        "import pandas as pd\n",
        "import numpy as np\n",
        "import matplotlib.pyplot as plt\n",
        "import seaborn as sns\n",
        "import matplotlib.pyplot as plt\n",
        "from sklearn.model_selection import train_test_split\n",
        "from sklearn.tree import DecisionTreeClassifier\n",
        "from sklearn.ensemble import RandomForestClassifier\n",
        "from sklearn.metrics import accuracy_score,confusion_matrix,classification_report"
      ]
    },
    {
      "cell_type": "code",
      "execution_count": null,
      "id": "19145c44-cb99-4694-889d-34fb7f44c4b6",
      "metadata": {
        "tags": [],
        "id": "19145c44-cb99-4694-889d-34fb7f44c4b6"
      },
      "outputs": [],
      "source": [
        "import pandas as pd\n",
        "df = pd.read_excel(\"ok.xlsx\")"
      ]
    },
    {
      "cell_type": "code",
      "execution_count": null,
      "id": "b6ef9d79-ea60-4f8f-a034-28af582ff3f5",
      "metadata": {
        "tags": [],
        "id": "b6ef9d79-ea60-4f8f-a034-28af582ff3f5"
      },
      "outputs": [],
      "source": [
        "df=df.drop(\"News Type\",axis=1)\n"
      ]
    },
    {
      "cell_type": "code",
      "execution_count": null,
      "id": "8b8e010f-724a-44e2-a614-b153cb5e40b8",
      "metadata": {
        "tags": [],
        "colab": {
          "base_uri": "https://localhost:8080/",
          "height": 488
        },
        "id": "8b8e010f-724a-44e2-a614-b153cb5e40b8",
        "outputId": "9e0c605b-b39d-4711-8e67-536135a52f93"
      },
      "outputs": [
        {
          "output_type": "execute_result",
          "data": {
            "text/plain": [
              "                                           Headline  Sentiment\n",
              "0   ‘১২ মাসের নমনীয়’ সময়ের দিকে যেতে পারে ব্রেক্সিট          1\n",
              "1        ‘২০ রোজার মধ্যে পাটকল শ্রমিকদের মজুরি দিন’          1\n",
              "2              ‘২০০’ ডাকছে, তামিম রাঙাতে পারবেন তো?          1\n",
              "3                    ‘২০টি মডেল ভবন তৈরি করে দেখান’          1\n",
              "4        ‘৬ মাসে ২০৮৩ নারী ও শিশু নির্যাতনের শিকার’          0\n",
              "5         ‘৯০ মাইল বেগে বল করলেই গ্রেট হওয়া যায় না’          1\n",
              "6      ‘অধ্যক্ষ সিরাজকে আপত্তিকর অবস্থায় দেখা গেছে’          0\n",
              "7               ‘অননুমেয়’ পাকিস্তানে ভয় সৌরভ-শচীনের          0\n",
              "8            ‘অনিল আম্বানির হয়ে দালালি করেছেন মোদি’          0\n",
              "9           ‘অনুরোধ, প্রযোজকের টাকা সঠিক খরচ করবেন’          1\n",
              "10       ‘অনেকে চিৎকার করছিলেন, বুবলী কই, বুবলী কই’          1\n",
              "11   ‘অনেকেই ছাত্রজীবনের কাজ সারা জীবন করে যাচ্ছেন’          1\n",
              "12                        ‘অন্তত একটি প্রাণ বাঁচান’          1\n",
              "13            ‘অন্য কেউ থাকলে গোলের হ্যাটট্রিক করত’          0"
            ],
            "text/html": [
              "\n",
              "  <div id=\"df-151d06ae-1227-4911-b396-4f43870c1970\" class=\"colab-df-container\">\n",
              "    <div>\n",
              "<style scoped>\n",
              "    .dataframe tbody tr th:only-of-type {\n",
              "        vertical-align: middle;\n",
              "    }\n",
              "\n",
              "    .dataframe tbody tr th {\n",
              "        vertical-align: top;\n",
              "    }\n",
              "\n",
              "    .dataframe thead th {\n",
              "        text-align: right;\n",
              "    }\n",
              "</style>\n",
              "<table border=\"1\" class=\"dataframe\">\n",
              "  <thead>\n",
              "    <tr style=\"text-align: right;\">\n",
              "      <th></th>\n",
              "      <th>Headline</th>\n",
              "      <th>Sentiment</th>\n",
              "    </tr>\n",
              "  </thead>\n",
              "  <tbody>\n",
              "    <tr>\n",
              "      <th>0</th>\n",
              "      <td>‘১২ মাসের নমনীয়’ সময়ের দিকে যেতে পারে ব্রেক্সিট</td>\n",
              "      <td>1</td>\n",
              "    </tr>\n",
              "    <tr>\n",
              "      <th>1</th>\n",
              "      <td>‘২০ রোজার মধ্যে পাটকল শ্রমিকদের মজুরি দিন’</td>\n",
              "      <td>1</td>\n",
              "    </tr>\n",
              "    <tr>\n",
              "      <th>2</th>\n",
              "      <td>‘২০০’ ডাকছে, তামিম রাঙাতে পারবেন তো?</td>\n",
              "      <td>1</td>\n",
              "    </tr>\n",
              "    <tr>\n",
              "      <th>3</th>\n",
              "      <td>‘২০টি মডেল ভবন তৈরি করে দেখান’</td>\n",
              "      <td>1</td>\n",
              "    </tr>\n",
              "    <tr>\n",
              "      <th>4</th>\n",
              "      <td>‘৬ মাসে ২০৮৩ নারী ও শিশু নির্যাতনের শিকার’</td>\n",
              "      <td>0</td>\n",
              "    </tr>\n",
              "    <tr>\n",
              "      <th>5</th>\n",
              "      <td>‘৯০ মাইল বেগে বল করলেই গ্রেট হওয়া যায় না’</td>\n",
              "      <td>1</td>\n",
              "    </tr>\n",
              "    <tr>\n",
              "      <th>6</th>\n",
              "      <td>‘অধ্যক্ষ সিরাজকে আপত্তিকর অবস্থায় দেখা গেছে’</td>\n",
              "      <td>0</td>\n",
              "    </tr>\n",
              "    <tr>\n",
              "      <th>7</th>\n",
              "      <td>‘অননুমেয়’ পাকিস্তানে ভয় সৌরভ-শচীনের</td>\n",
              "      <td>0</td>\n",
              "    </tr>\n",
              "    <tr>\n",
              "      <th>8</th>\n",
              "      <td>‘অনিল আম্বানির হয়ে দালালি করেছেন মোদি’</td>\n",
              "      <td>0</td>\n",
              "    </tr>\n",
              "    <tr>\n",
              "      <th>9</th>\n",
              "      <td>‘অনুরোধ, প্রযোজকের টাকা সঠিক খরচ করবেন’</td>\n",
              "      <td>1</td>\n",
              "    </tr>\n",
              "    <tr>\n",
              "      <th>10</th>\n",
              "      <td>‘অনেকে চিৎকার করছিলেন, বুবলী কই, বুবলী কই’</td>\n",
              "      <td>1</td>\n",
              "    </tr>\n",
              "    <tr>\n",
              "      <th>11</th>\n",
              "      <td>‘অনেকেই ছাত্রজীবনের কাজ সারা জীবন করে যাচ্ছেন’</td>\n",
              "      <td>1</td>\n",
              "    </tr>\n",
              "    <tr>\n",
              "      <th>12</th>\n",
              "      <td>‘অন্তত একটি প্রাণ বাঁচান’</td>\n",
              "      <td>1</td>\n",
              "    </tr>\n",
              "    <tr>\n",
              "      <th>13</th>\n",
              "      <td>‘অন্য কেউ থাকলে গোলের হ্যাটট্রিক করত’</td>\n",
              "      <td>0</td>\n",
              "    </tr>\n",
              "  </tbody>\n",
              "</table>\n",
              "</div>\n",
              "    <div class=\"colab-df-buttons\">\n",
              "\n",
              "  <div class=\"colab-df-container\">\n",
              "    <button class=\"colab-df-convert\" onclick=\"convertToInteractive('df-151d06ae-1227-4911-b396-4f43870c1970')\"\n",
              "            title=\"Convert this dataframe to an interactive table.\"\n",
              "            style=\"display:none;\">\n",
              "\n",
              "  <svg xmlns=\"http://www.w3.org/2000/svg\" height=\"24px\" viewBox=\"0 -960 960 960\">\n",
              "    <path d=\"M120-120v-720h720v720H120Zm60-500h600v-160H180v160Zm220 220h160v-160H400v160Zm0 220h160v-160H400v160ZM180-400h160v-160H180v160Zm440 0h160v-160H620v160ZM180-180h160v-160H180v160Zm440 0h160v-160H620v160Z\"/>\n",
              "  </svg>\n",
              "    </button>\n",
              "\n",
              "  <style>\n",
              "    .colab-df-container {\n",
              "      display:flex;\n",
              "      gap: 12px;\n",
              "    }\n",
              "\n",
              "    .colab-df-convert {\n",
              "      background-color: #E8F0FE;\n",
              "      border: none;\n",
              "      border-radius: 50%;\n",
              "      cursor: pointer;\n",
              "      display: none;\n",
              "      fill: #1967D2;\n",
              "      height: 32px;\n",
              "      padding: 0 0 0 0;\n",
              "      width: 32px;\n",
              "    }\n",
              "\n",
              "    .colab-df-convert:hover {\n",
              "      background-color: #E2EBFA;\n",
              "      box-shadow: 0px 1px 2px rgba(60, 64, 67, 0.3), 0px 1px 3px 1px rgba(60, 64, 67, 0.15);\n",
              "      fill: #174EA6;\n",
              "    }\n",
              "\n",
              "    .colab-df-buttons div {\n",
              "      margin-bottom: 4px;\n",
              "    }\n",
              "\n",
              "    [theme=dark] .colab-df-convert {\n",
              "      background-color: #3B4455;\n",
              "      fill: #D2E3FC;\n",
              "    }\n",
              "\n",
              "    [theme=dark] .colab-df-convert:hover {\n",
              "      background-color: #434B5C;\n",
              "      box-shadow: 0px 1px 3px 1px rgba(0, 0, 0, 0.15);\n",
              "      filter: drop-shadow(0px 1px 2px rgba(0, 0, 0, 0.3));\n",
              "      fill: #FFFFFF;\n",
              "    }\n",
              "  </style>\n",
              "\n",
              "    <script>\n",
              "      const buttonEl =\n",
              "        document.querySelector('#df-151d06ae-1227-4911-b396-4f43870c1970 button.colab-df-convert');\n",
              "      buttonEl.style.display =\n",
              "        google.colab.kernel.accessAllowed ? 'block' : 'none';\n",
              "\n",
              "      async function convertToInteractive(key) {\n",
              "        const element = document.querySelector('#df-151d06ae-1227-4911-b396-4f43870c1970');\n",
              "        const dataTable =\n",
              "          await google.colab.kernel.invokeFunction('convertToInteractive',\n",
              "                                                    [key], {});\n",
              "        if (!dataTable) return;\n",
              "\n",
              "        const docLinkHtml = 'Like what you see? Visit the ' +\n",
              "          '<a target=\"_blank\" href=https://colab.research.google.com/notebooks/data_table.ipynb>data table notebook</a>'\n",
              "          + ' to learn more about interactive tables.';\n",
              "        element.innerHTML = '';\n",
              "        dataTable['output_type'] = 'display_data';\n",
              "        await google.colab.output.renderOutput(dataTable, element);\n",
              "        const docLink = document.createElement('div');\n",
              "        docLink.innerHTML = docLinkHtml;\n",
              "        element.appendChild(docLink);\n",
              "      }\n",
              "    </script>\n",
              "  </div>\n",
              "\n",
              "\n",
              "<div id=\"df-87cff897-de6f-4b6c-ad09-0012dc971ab9\">\n",
              "  <button class=\"colab-df-quickchart\" onclick=\"quickchart('df-87cff897-de6f-4b6c-ad09-0012dc971ab9')\"\n",
              "            title=\"Suggest charts\"\n",
              "            style=\"display:none;\">\n",
              "\n",
              "<svg xmlns=\"http://www.w3.org/2000/svg\" height=\"24px\"viewBox=\"0 0 24 24\"\n",
              "     width=\"24px\">\n",
              "    <g>\n",
              "        <path d=\"M19 3H5c-1.1 0-2 .9-2 2v14c0 1.1.9 2 2 2h14c1.1 0 2-.9 2-2V5c0-1.1-.9-2-2-2zM9 17H7v-7h2v7zm4 0h-2V7h2v10zm4 0h-2v-4h2v4z\"/>\n",
              "    </g>\n",
              "</svg>\n",
              "  </button>\n",
              "\n",
              "<style>\n",
              "  .colab-df-quickchart {\n",
              "      --bg-color: #E8F0FE;\n",
              "      --fill-color: #1967D2;\n",
              "      --hover-bg-color: #E2EBFA;\n",
              "      --hover-fill-color: #174EA6;\n",
              "      --disabled-fill-color: #AAA;\n",
              "      --disabled-bg-color: #DDD;\n",
              "  }\n",
              "\n",
              "  [theme=dark] .colab-df-quickchart {\n",
              "      --bg-color: #3B4455;\n",
              "      --fill-color: #D2E3FC;\n",
              "      --hover-bg-color: #434B5C;\n",
              "      --hover-fill-color: #FFFFFF;\n",
              "      --disabled-bg-color: #3B4455;\n",
              "      --disabled-fill-color: #666;\n",
              "  }\n",
              "\n",
              "  .colab-df-quickchart {\n",
              "    background-color: var(--bg-color);\n",
              "    border: none;\n",
              "    border-radius: 50%;\n",
              "    cursor: pointer;\n",
              "    display: none;\n",
              "    fill: var(--fill-color);\n",
              "    height: 32px;\n",
              "    padding: 0;\n",
              "    width: 32px;\n",
              "  }\n",
              "\n",
              "  .colab-df-quickchart:hover {\n",
              "    background-color: var(--hover-bg-color);\n",
              "    box-shadow: 0 1px 2px rgba(60, 64, 67, 0.3), 0 1px 3px 1px rgba(60, 64, 67, 0.15);\n",
              "    fill: var(--button-hover-fill-color);\n",
              "  }\n",
              "\n",
              "  .colab-df-quickchart-complete:disabled,\n",
              "  .colab-df-quickchart-complete:disabled:hover {\n",
              "    background-color: var(--disabled-bg-color);\n",
              "    fill: var(--disabled-fill-color);\n",
              "    box-shadow: none;\n",
              "  }\n",
              "\n",
              "  .colab-df-spinner {\n",
              "    border: 2px solid var(--fill-color);\n",
              "    border-color: transparent;\n",
              "    border-bottom-color: var(--fill-color);\n",
              "    animation:\n",
              "      spin 1s steps(1) infinite;\n",
              "  }\n",
              "\n",
              "  @keyframes spin {\n",
              "    0% {\n",
              "      border-color: transparent;\n",
              "      border-bottom-color: var(--fill-color);\n",
              "      border-left-color: var(--fill-color);\n",
              "    }\n",
              "    20% {\n",
              "      border-color: transparent;\n",
              "      border-left-color: var(--fill-color);\n",
              "      border-top-color: var(--fill-color);\n",
              "    }\n",
              "    30% {\n",
              "      border-color: transparent;\n",
              "      border-left-color: var(--fill-color);\n",
              "      border-top-color: var(--fill-color);\n",
              "      border-right-color: var(--fill-color);\n",
              "    }\n",
              "    40% {\n",
              "      border-color: transparent;\n",
              "      border-right-color: var(--fill-color);\n",
              "      border-top-color: var(--fill-color);\n",
              "    }\n",
              "    60% {\n",
              "      border-color: transparent;\n",
              "      border-right-color: var(--fill-color);\n",
              "    }\n",
              "    80% {\n",
              "      border-color: transparent;\n",
              "      border-right-color: var(--fill-color);\n",
              "      border-bottom-color: var(--fill-color);\n",
              "    }\n",
              "    90% {\n",
              "      border-color: transparent;\n",
              "      border-bottom-color: var(--fill-color);\n",
              "    }\n",
              "  }\n",
              "</style>\n",
              "\n",
              "  <script>\n",
              "    async function quickchart(key) {\n",
              "      const quickchartButtonEl =\n",
              "        document.querySelector('#' + key + ' button');\n",
              "      quickchartButtonEl.disabled = true;  // To prevent multiple clicks.\n",
              "      quickchartButtonEl.classList.add('colab-df-spinner');\n",
              "      try {\n",
              "        const charts = await google.colab.kernel.invokeFunction(\n",
              "            'suggestCharts', [key], {});\n",
              "      } catch (error) {\n",
              "        console.error('Error during call to suggestCharts:', error);\n",
              "      }\n",
              "      quickchartButtonEl.classList.remove('colab-df-spinner');\n",
              "      quickchartButtonEl.classList.add('colab-df-quickchart-complete');\n",
              "    }\n",
              "    (() => {\n",
              "      let quickchartButtonEl =\n",
              "        document.querySelector('#df-87cff897-de6f-4b6c-ad09-0012dc971ab9 button');\n",
              "      quickchartButtonEl.style.display =\n",
              "        google.colab.kernel.accessAllowed ? 'block' : 'none';\n",
              "    })();\n",
              "  </script>\n",
              "</div>\n",
              "    </div>\n",
              "  </div>\n"
            ]
          },
          "metadata": {},
          "execution_count": 4
        }
      ],
      "source": [
        "df.head(14)"
      ]
    },
    {
      "cell_type": "code",
      "execution_count": null,
      "id": "4943ac59-c733-40b1-9f35-2d6a0c92ba5f",
      "metadata": {
        "tags": [],
        "colab": {
          "base_uri": "https://localhost:8080/"
        },
        "id": "4943ac59-c733-40b1-9f35-2d6a0c92ba5f",
        "outputId": "3479abb4-4567-4ed7-efa5-e5095e224d8b"
      },
      "outputs": [
        {
          "output_type": "execute_result",
          "data": {
            "text/plain": [
              "1619"
            ]
          },
          "metadata": {},
          "execution_count": 5
        }
      ],
      "source": [
        "len(df)"
      ]
    },
    {
      "cell_type": "code",
      "execution_count": null,
      "id": "79cbda70-c011-4c2e-88a3-b3074820490f",
      "metadata": {
        "tags": [],
        "colab": {
          "base_uri": "https://localhost:8080/",
          "height": 423
        },
        "id": "79cbda70-c011-4c2e-88a3-b3074820490f",
        "outputId": "daf14ee7-1692-4228-e266-481d60fb416e"
      },
      "outputs": [
        {
          "output_type": "execute_result",
          "data": {
            "text/plain": [
              "                                               Headline  Sentiment\n",
              "0       ‘১২ মাসের নমনীয়’ সময়ের দিকে যেতে পারে ব্রেক্সিট          1\n",
              "1            ‘২০ রোজার মধ্যে পাটকল শ্রমিকদের মজুরি দিন’          1\n",
              "2                  ‘২০০’ ডাকছে, তামিম রাঙাতে পারবেন তো?          1\n",
              "3                        ‘২০টি মডেল ভবন তৈরি করে দেখান’          1\n",
              "4            ‘৬ মাসে ২০৮৩ নারী ও শিশু নির্যাতনের শিকার’          0\n",
              "...                                                 ...        ...\n",
              "1614                            ঘুষ দিয়ে ভোট কিনছেন মে!          0\n",
              "1615                ঘুষ না দেওয়ায় হয়রানি, দুদকের অভিযান          0\n",
              "1616  ঘুষের টাকাসহ দুদকের হাতে গ্রেপ্তার মৎস্য কর্মক...          0\n",
              "1617          ঘূর্ণিঝড় ফণী: ৮ লাখ বাসিন্দা সরিয়েছে ভারত          0\n",
              "1618                               ঘূর্ণিঝড় ফণীর বার্তা          1\n",
              "\n",
              "[1619 rows x 2 columns]"
            ],
            "text/html": [
              "\n",
              "  <div id=\"df-c9d82c0d-46bd-4032-8d4a-6d51e2a47cb6\" class=\"colab-df-container\">\n",
              "    <div>\n",
              "<style scoped>\n",
              "    .dataframe tbody tr th:only-of-type {\n",
              "        vertical-align: middle;\n",
              "    }\n",
              "\n",
              "    .dataframe tbody tr th {\n",
              "        vertical-align: top;\n",
              "    }\n",
              "\n",
              "    .dataframe thead th {\n",
              "        text-align: right;\n",
              "    }\n",
              "</style>\n",
              "<table border=\"1\" class=\"dataframe\">\n",
              "  <thead>\n",
              "    <tr style=\"text-align: right;\">\n",
              "      <th></th>\n",
              "      <th>Headline</th>\n",
              "      <th>Sentiment</th>\n",
              "    </tr>\n",
              "  </thead>\n",
              "  <tbody>\n",
              "    <tr>\n",
              "      <th>0</th>\n",
              "      <td>‘১২ মাসের নমনীয়’ সময়ের দিকে যেতে পারে ব্রেক্সিট</td>\n",
              "      <td>1</td>\n",
              "    </tr>\n",
              "    <tr>\n",
              "      <th>1</th>\n",
              "      <td>‘২০ রোজার মধ্যে পাটকল শ্রমিকদের মজুরি দিন’</td>\n",
              "      <td>1</td>\n",
              "    </tr>\n",
              "    <tr>\n",
              "      <th>2</th>\n",
              "      <td>‘২০০’ ডাকছে, তামিম রাঙাতে পারবেন তো?</td>\n",
              "      <td>1</td>\n",
              "    </tr>\n",
              "    <tr>\n",
              "      <th>3</th>\n",
              "      <td>‘২০টি মডেল ভবন তৈরি করে দেখান’</td>\n",
              "      <td>1</td>\n",
              "    </tr>\n",
              "    <tr>\n",
              "      <th>4</th>\n",
              "      <td>‘৬ মাসে ২০৮৩ নারী ও শিশু নির্যাতনের শিকার’</td>\n",
              "      <td>0</td>\n",
              "    </tr>\n",
              "    <tr>\n",
              "      <th>...</th>\n",
              "      <td>...</td>\n",
              "      <td>...</td>\n",
              "    </tr>\n",
              "    <tr>\n",
              "      <th>1614</th>\n",
              "      <td>ঘুষ দিয়ে ভোট কিনছেন মে!</td>\n",
              "      <td>0</td>\n",
              "    </tr>\n",
              "    <tr>\n",
              "      <th>1615</th>\n",
              "      <td>ঘুষ না দেওয়ায় হয়রানি, দুদকের অভিযান</td>\n",
              "      <td>0</td>\n",
              "    </tr>\n",
              "    <tr>\n",
              "      <th>1616</th>\n",
              "      <td>ঘুষের টাকাসহ দুদকের হাতে গ্রেপ্তার মৎস্য কর্মক...</td>\n",
              "      <td>0</td>\n",
              "    </tr>\n",
              "    <tr>\n",
              "      <th>1617</th>\n",
              "      <td>ঘূর্ণিঝড় ফণী: ৮ লাখ বাসিন্দা সরিয়েছে ভারত</td>\n",
              "      <td>0</td>\n",
              "    </tr>\n",
              "    <tr>\n",
              "      <th>1618</th>\n",
              "      <td>ঘূর্ণিঝড় ফণীর বার্তা</td>\n",
              "      <td>1</td>\n",
              "    </tr>\n",
              "  </tbody>\n",
              "</table>\n",
              "<p>1619 rows × 2 columns</p>\n",
              "</div>\n",
              "    <div class=\"colab-df-buttons\">\n",
              "\n",
              "  <div class=\"colab-df-container\">\n",
              "    <button class=\"colab-df-convert\" onclick=\"convertToInteractive('df-c9d82c0d-46bd-4032-8d4a-6d51e2a47cb6')\"\n",
              "            title=\"Convert this dataframe to an interactive table.\"\n",
              "            style=\"display:none;\">\n",
              "\n",
              "  <svg xmlns=\"http://www.w3.org/2000/svg\" height=\"24px\" viewBox=\"0 -960 960 960\">\n",
              "    <path d=\"M120-120v-720h720v720H120Zm60-500h600v-160H180v160Zm220 220h160v-160H400v160Zm0 220h160v-160H400v160ZM180-400h160v-160H180v160Zm440 0h160v-160H620v160ZM180-180h160v-160H180v160Zm440 0h160v-160H620v160Z\"/>\n",
              "  </svg>\n",
              "    </button>\n",
              "\n",
              "  <style>\n",
              "    .colab-df-container {\n",
              "      display:flex;\n",
              "      gap: 12px;\n",
              "    }\n",
              "\n",
              "    .colab-df-convert {\n",
              "      background-color: #E8F0FE;\n",
              "      border: none;\n",
              "      border-radius: 50%;\n",
              "      cursor: pointer;\n",
              "      display: none;\n",
              "      fill: #1967D2;\n",
              "      height: 32px;\n",
              "      padding: 0 0 0 0;\n",
              "      width: 32px;\n",
              "    }\n",
              "\n",
              "    .colab-df-convert:hover {\n",
              "      background-color: #E2EBFA;\n",
              "      box-shadow: 0px 1px 2px rgba(60, 64, 67, 0.3), 0px 1px 3px 1px rgba(60, 64, 67, 0.15);\n",
              "      fill: #174EA6;\n",
              "    }\n",
              "\n",
              "    .colab-df-buttons div {\n",
              "      margin-bottom: 4px;\n",
              "    }\n",
              "\n",
              "    [theme=dark] .colab-df-convert {\n",
              "      background-color: #3B4455;\n",
              "      fill: #D2E3FC;\n",
              "    }\n",
              "\n",
              "    [theme=dark] .colab-df-convert:hover {\n",
              "      background-color: #434B5C;\n",
              "      box-shadow: 0px 1px 3px 1px rgba(0, 0, 0, 0.15);\n",
              "      filter: drop-shadow(0px 1px 2px rgba(0, 0, 0, 0.3));\n",
              "      fill: #FFFFFF;\n",
              "    }\n",
              "  </style>\n",
              "\n",
              "    <script>\n",
              "      const buttonEl =\n",
              "        document.querySelector('#df-c9d82c0d-46bd-4032-8d4a-6d51e2a47cb6 button.colab-df-convert');\n",
              "      buttonEl.style.display =\n",
              "        google.colab.kernel.accessAllowed ? 'block' : 'none';\n",
              "\n",
              "      async function convertToInteractive(key) {\n",
              "        const element = document.querySelector('#df-c9d82c0d-46bd-4032-8d4a-6d51e2a47cb6');\n",
              "        const dataTable =\n",
              "          await google.colab.kernel.invokeFunction('convertToInteractive',\n",
              "                                                    [key], {});\n",
              "        if (!dataTable) return;\n",
              "\n",
              "        const docLinkHtml = 'Like what you see? Visit the ' +\n",
              "          '<a target=\"_blank\" href=https://colab.research.google.com/notebooks/data_table.ipynb>data table notebook</a>'\n",
              "          + ' to learn more about interactive tables.';\n",
              "        element.innerHTML = '';\n",
              "        dataTable['output_type'] = 'display_data';\n",
              "        await google.colab.output.renderOutput(dataTable, element);\n",
              "        const docLink = document.createElement('div');\n",
              "        docLink.innerHTML = docLinkHtml;\n",
              "        element.appendChild(docLink);\n",
              "      }\n",
              "    </script>\n",
              "  </div>\n",
              "\n",
              "\n",
              "<div id=\"df-423c4ef6-451d-45c7-8ccb-bc2d35667a36\">\n",
              "  <button class=\"colab-df-quickchart\" onclick=\"quickchart('df-423c4ef6-451d-45c7-8ccb-bc2d35667a36')\"\n",
              "            title=\"Suggest charts\"\n",
              "            style=\"display:none;\">\n",
              "\n",
              "<svg xmlns=\"http://www.w3.org/2000/svg\" height=\"24px\"viewBox=\"0 0 24 24\"\n",
              "     width=\"24px\">\n",
              "    <g>\n",
              "        <path d=\"M19 3H5c-1.1 0-2 .9-2 2v14c0 1.1.9 2 2 2h14c1.1 0 2-.9 2-2V5c0-1.1-.9-2-2-2zM9 17H7v-7h2v7zm4 0h-2V7h2v10zm4 0h-2v-4h2v4z\"/>\n",
              "    </g>\n",
              "</svg>\n",
              "  </button>\n",
              "\n",
              "<style>\n",
              "  .colab-df-quickchart {\n",
              "      --bg-color: #E8F0FE;\n",
              "      --fill-color: #1967D2;\n",
              "      --hover-bg-color: #E2EBFA;\n",
              "      --hover-fill-color: #174EA6;\n",
              "      --disabled-fill-color: #AAA;\n",
              "      --disabled-bg-color: #DDD;\n",
              "  }\n",
              "\n",
              "  [theme=dark] .colab-df-quickchart {\n",
              "      --bg-color: #3B4455;\n",
              "      --fill-color: #D2E3FC;\n",
              "      --hover-bg-color: #434B5C;\n",
              "      --hover-fill-color: #FFFFFF;\n",
              "      --disabled-bg-color: #3B4455;\n",
              "      --disabled-fill-color: #666;\n",
              "  }\n",
              "\n",
              "  .colab-df-quickchart {\n",
              "    background-color: var(--bg-color);\n",
              "    border: none;\n",
              "    border-radius: 50%;\n",
              "    cursor: pointer;\n",
              "    display: none;\n",
              "    fill: var(--fill-color);\n",
              "    height: 32px;\n",
              "    padding: 0;\n",
              "    width: 32px;\n",
              "  }\n",
              "\n",
              "  .colab-df-quickchart:hover {\n",
              "    background-color: var(--hover-bg-color);\n",
              "    box-shadow: 0 1px 2px rgba(60, 64, 67, 0.3), 0 1px 3px 1px rgba(60, 64, 67, 0.15);\n",
              "    fill: var(--button-hover-fill-color);\n",
              "  }\n",
              "\n",
              "  .colab-df-quickchart-complete:disabled,\n",
              "  .colab-df-quickchart-complete:disabled:hover {\n",
              "    background-color: var(--disabled-bg-color);\n",
              "    fill: var(--disabled-fill-color);\n",
              "    box-shadow: none;\n",
              "  }\n",
              "\n",
              "  .colab-df-spinner {\n",
              "    border: 2px solid var(--fill-color);\n",
              "    border-color: transparent;\n",
              "    border-bottom-color: var(--fill-color);\n",
              "    animation:\n",
              "      spin 1s steps(1) infinite;\n",
              "  }\n",
              "\n",
              "  @keyframes spin {\n",
              "    0% {\n",
              "      border-color: transparent;\n",
              "      border-bottom-color: var(--fill-color);\n",
              "      border-left-color: var(--fill-color);\n",
              "    }\n",
              "    20% {\n",
              "      border-color: transparent;\n",
              "      border-left-color: var(--fill-color);\n",
              "      border-top-color: var(--fill-color);\n",
              "    }\n",
              "    30% {\n",
              "      border-color: transparent;\n",
              "      border-left-color: var(--fill-color);\n",
              "      border-top-color: var(--fill-color);\n",
              "      border-right-color: var(--fill-color);\n",
              "    }\n",
              "    40% {\n",
              "      border-color: transparent;\n",
              "      border-right-color: var(--fill-color);\n",
              "      border-top-color: var(--fill-color);\n",
              "    }\n",
              "    60% {\n",
              "      border-color: transparent;\n",
              "      border-right-color: var(--fill-color);\n",
              "    }\n",
              "    80% {\n",
              "      border-color: transparent;\n",
              "      border-right-color: var(--fill-color);\n",
              "      border-bottom-color: var(--fill-color);\n",
              "    }\n",
              "    90% {\n",
              "      border-color: transparent;\n",
              "      border-bottom-color: var(--fill-color);\n",
              "    }\n",
              "  }\n",
              "</style>\n",
              "\n",
              "  <script>\n",
              "    async function quickchart(key) {\n",
              "      const quickchartButtonEl =\n",
              "        document.querySelector('#' + key + ' button');\n",
              "      quickchartButtonEl.disabled = true;  // To prevent multiple clicks.\n",
              "      quickchartButtonEl.classList.add('colab-df-spinner');\n",
              "      try {\n",
              "        const charts = await google.colab.kernel.invokeFunction(\n",
              "            'suggestCharts', [key], {});\n",
              "      } catch (error) {\n",
              "        console.error('Error during call to suggestCharts:', error);\n",
              "      }\n",
              "      quickchartButtonEl.classList.remove('colab-df-spinner');\n",
              "      quickchartButtonEl.classList.add('colab-df-quickchart-complete');\n",
              "    }\n",
              "    (() => {\n",
              "      let quickchartButtonEl =\n",
              "        document.querySelector('#df-423c4ef6-451d-45c7-8ccb-bc2d35667a36 button');\n",
              "      quickchartButtonEl.style.display =\n",
              "        google.colab.kernel.accessAllowed ? 'block' : 'none';\n",
              "    })();\n",
              "  </script>\n",
              "</div>\n",
              "    </div>\n",
              "  </div>\n"
            ]
          },
          "metadata": {},
          "execution_count": 6
        }
      ],
      "source": [
        "df"
      ]
    },
    {
      "cell_type": "code",
      "execution_count": null,
      "id": "583f7ea9-2d23-4eb1-9146-7eab021caaac",
      "metadata": {
        "tags": [],
        "id": "583f7ea9-2d23-4eb1-9146-7eab021caaac"
      },
      "outputs": [],
      "source": [
        "import string\n",
        "def remove_punc(s):\n",
        "    table = str.maketrans({key: None for key in string.punctuation})\n",
        "    return s.translate(table)"
      ]
    },
    {
      "cell_type": "code",
      "execution_count": null,
      "id": "e486c724-fb0b-40bd-9646-4a0e705f9e0f",
      "metadata": {
        "tags": [],
        "colab": {
          "base_uri": "https://localhost:8080/"
        },
        "id": "e486c724-fb0b-40bd-9646-4a0e705f9e0f",
        "outputId": "a1204122-1822-4f72-a73a-12456d2b1ca7"
      },
      "outputs": [
        {
          "output_type": "execute_result",
          "data": {
            "text/plain": [
              "(1619,)"
            ]
          },
          "metadata": {},
          "execution_count": 8
        }
      ],
      "source": [
        "x = df['Headline'].apply(remove_punc)\n",
        "y = df['Sentiment']\n",
        "x.shape"
      ]
    },
    {
      "cell_type": "code",
      "execution_count": null,
      "id": "ada6a772-16a0-441b-903a-9552de84122e",
      "metadata": {
        "tags": [],
        "colab": {
          "base_uri": "https://localhost:8080/"
        },
        "id": "ada6a772-16a0-441b-903a-9552de84122e",
        "outputId": "351a9b37-be60-48a4-cbb3-b41b4e21c018"
      },
      "outputs": [
        {
          "output_type": "execute_result",
          "data": {
            "text/plain": [
              "(1619,)"
            ]
          },
          "metadata": {},
          "execution_count": 9
        }
      ],
      "source": [
        "x.shape"
      ]
    },
    {
      "cell_type": "code",
      "execution_count": null,
      "id": "4fd8db6c-4a16-4925-82c2-9bb5107e0bcd",
      "metadata": {
        "tags": [],
        "id": "4fd8db6c-4a16-4925-82c2-9bb5107e0bcd"
      },
      "outputs": [],
      "source": [
        "contractions = {\n",
        "\"বি.দ্র \": \"বিশেষ দ্রষ্টব্য\",\n",
        "\"ড.\": \"ডক্টর\",\n",
        "\"ডা.\": \"ডাক্তার\",\n",
        "\"ইঞ্জি:\": \"ইঞ্জিনিয়ার\",\n",
        "\"রেজি:\": \"রেজিস্ট্রেশন\",\n",
        "\"মি.\": \"মিস্টার\",\n",
        "\"মু.\": \"মুহাম্মদ\",\n",
        "\"মো.\": \"মোহাম্মদ\",\n",
        "}\n"
      ]
    },
    {
      "cell_type": "code",
      "execution_count": null,
      "id": "f613da69-1b2e-48cb-8fe2-0171b4de88a6",
      "metadata": {
        "tags": [],
        "id": "f613da69-1b2e-48cb-8fe2-0171b4de88a6"
      },
      "outputs": [],
      "source": [
        "import re\n",
        "import string\n",
        "from collections import Counter\n",
        "vocab = Counter()\n",
        "def clean_text(x,remove_stopwords = False):\n",
        "    if True:\n",
        "        new_text = []\n",
        "        for word in x:\n",
        "            if word in contractions:\n",
        "                new_text.append(contractions[word])\n",
        "            else:\n",
        "                new_text.append(word)\n",
        "        x = \" \".join(new_text)\n",
        "    # Format words and remove unwanted characters\n",
        "    whitespace = re.compile(u\"[\\s\\u0020\\u00a0\\u1680\\u180e\\u202f\\u205f\\u3000\\u2000-\\u200a]+\", re.UNICODE)\n",
        "    bangla_digits = u\"[\\u09E6\\u09E7\\u09E8\\u09E9\\u09EA\\u09EB\\u09EC\\u09ED\\u09EE\\u09EF]+\"\n",
        "    english_chars = u\"[a-zA-Z0-9]\"\n",
        "    punc = u\"[(),$%^&*+={}:\\\"|\\'\\~`<>/,€¦!?½£¶™¼©⅐⅑⅒⅓⅔⅕⅖⅗⅘⅙⅚⅛⅜⅝⅞⅟↉¤¿º;-]+\"\n",
        "    bangla_fullstop = u\"\\u0964\"     #bangla fullstop(dari)\n",
        "    punctSeq   = u\"['\\\"“”‘’]+|[.?!,…]+|[:;]+\"\n",
        "\n",
        "    x = re.sub(bangla_digits, \" \", x)\n",
        "    x = re.sub(punc, \" \" ,x)\n",
        "    x = re.sub(english_chars, \" \", x)\n",
        "    x = re.sub(bangla_fullstop, \" \", x)\n",
        "    x = re.sub(punctSeq,\" \", x)\n",
        "    x = whitespace.sub(\" \",x).strip()\n",
        "    x = x.strip(\"/\")\n",
        "\n",
        "    if remove_stopwords:\n",
        "        k = []\n",
        "        with open('Banglastopword.txt', 'r',encoding=\"utf-8\") as f:\n",
        "            for word in f:\n",
        "                word = word.split()\n",
        "                k.append(word[0])\n",
        "            x = [t for t in x if t not in k]\n",
        "            x = \"\".join(x)\n",
        "\n",
        "\n",
        "    return x"
      ]
    },
    {
      "cell_type": "code",
      "execution_count": null,
      "id": "caac9010-15a5-42c2-988f-05fe51a65d44",
      "metadata": {
        "tags": [],
        "id": "caac9010-15a5-42c2-988f-05fe51a65d44"
      },
      "outputs": [],
      "source": [
        "from sklearn.feature_extraction.text import CountVectorizer\n",
        "from sklearn.model_selection import train_test_split, cross_val_score\n",
        "from sklearn.metrics import classification_report\n",
        "from sklearn.metrics import confusion_matrix, accuracy_score, roc_auc_score, roc_curve\n",
        "from sklearn.model_selection import GridSearchCV\n",
        "from sklearn import metrics\n",
        "%matplotlib inline"
      ]
    },
    {
      "cell_type": "code",
      "execution_count": null,
      "id": "1f1f6d98-8102-478c-a6b5-7c351cc426c7",
      "metadata": {
        "tags": [],
        "id": "1f1f6d98-8102-478c-a6b5-7c351cc426c7"
      },
      "outputs": [],
      "source": [
        "vocab = CountVectorizer(analyzer=clean_text).fit(x)"
      ]
    },
    {
      "cell_type": "code",
      "execution_count": null,
      "id": "d20fb83e-9677-403f-8aaf-94e3aa9ddac6",
      "metadata": {
        "tags": [],
        "colab": {
          "base_uri": "https://localhost:8080/"
        },
        "id": "d20fb83e-9677-403f-8aaf-94e3aa9ddac6",
        "outputId": "10686b42-9bf9-4e71-a4b2-80bb94e7d382"
      },
      "outputs": [
        {
          "output_type": "stream",
          "name": "stdout",
          "text": [
            "65\n"
          ]
        }
      ],
      "source": [
        "print(len(vocab.vocabulary_))"
      ]
    },
    {
      "cell_type": "code",
      "execution_count": null,
      "id": "d73d767a-8b43-4acc-8bf4-71cfc26e4caa",
      "metadata": {
        "tags": [],
        "id": "d73d767a-8b43-4acc-8bf4-71cfc26e4caa"
      },
      "outputs": [],
      "source": [
        "x_train,x_test,y_train,y_test = train_test_split(x,y,test_size=0.20,random_state=101)"
      ]
    },
    {
      "cell_type": "code",
      "execution_count": null,
      "id": "1ce1c55f-b38c-4c90-9876-6f34009738f9",
      "metadata": {
        "tags": [],
        "colab": {
          "base_uri": "https://localhost:8080/"
        },
        "id": "1ce1c55f-b38c-4c90-9876-6f34009738f9",
        "outputId": "da373bc9-af8b-4f52-d824-7b1df7530546"
      },
      "outputs": [
        {
          "output_type": "execute_result",
          "data": {
            "text/plain": [
              "1295"
            ]
          },
          "metadata": {},
          "execution_count": 16
        }
      ],
      "source": [
        "len(x_train)"
      ]
    },
    {
      "cell_type": "code",
      "execution_count": null,
      "id": "65ca9bd8-525a-412e-a68b-78eb27c2b808",
      "metadata": {
        "tags": [],
        "colab": {
          "base_uri": "https://localhost:8080/"
        },
        "id": "65ca9bd8-525a-412e-a68b-78eb27c2b808",
        "outputId": "1de2c6db-2bc9-48ca-ecc0-8f0271097e4d"
      },
      "outputs": [
        {
          "output_type": "execute_result",
          "data": {
            "text/plain": [
              "324"
            ]
          },
          "metadata": {},
          "execution_count": 17
        }
      ],
      "source": [
        "len(x_test)"
      ]
    },
    {
      "cell_type": "code",
      "execution_count": null,
      "id": "a485934c-6386-4268-98cb-405ce3079eb3",
      "metadata": {
        "tags": [],
        "colab": {
          "base_uri": "https://localhost:8080/",
          "height": 423
        },
        "id": "a485934c-6386-4268-98cb-405ce3079eb3",
        "outputId": "13fb4905-11d6-40cb-848a-25b5bfb5253f"
      },
      "outputs": [
        {
          "output_type": "execute_result",
          "data": {
            "text/plain": [
              "                                               Headline  Sentiment\n",
              "0       ‘১২ মাসের নমনীয়’ সময়ের দিকে যেতে পারে ব্রেক্সিট          1\n",
              "1            ‘২০ রোজার মধ্যে পাটকল শ্রমিকদের মজুরি দিন’          1\n",
              "2                  ‘২০০’ ডাকছে, তামিম রাঙাতে পারবেন তো?          1\n",
              "3                        ‘২০টি মডেল ভবন তৈরি করে দেখান’          1\n",
              "4            ‘৬ মাসে ২০৮৩ নারী ও শিশু নির্যাতনের শিকার’          0\n",
              "...                                                 ...        ...\n",
              "1614                            ঘুষ দিয়ে ভোট কিনছেন মে!          0\n",
              "1615                ঘুষ না দেওয়ায় হয়রানি, দুদকের অভিযান          0\n",
              "1616  ঘুষের টাকাসহ দুদকের হাতে গ্রেপ্তার মৎস্য কর্মক...          0\n",
              "1617          ঘূর্ণিঝড় ফণী: ৮ লাখ বাসিন্দা সরিয়েছে ভারত          0\n",
              "1618                               ঘূর্ণিঝড় ফণীর বার্তা          1\n",
              "\n",
              "[1619 rows x 2 columns]"
            ],
            "text/html": [
              "\n",
              "  <div id=\"df-85837df4-7c56-4ea3-9e2e-a37158985484\" class=\"colab-df-container\">\n",
              "    <div>\n",
              "<style scoped>\n",
              "    .dataframe tbody tr th:only-of-type {\n",
              "        vertical-align: middle;\n",
              "    }\n",
              "\n",
              "    .dataframe tbody tr th {\n",
              "        vertical-align: top;\n",
              "    }\n",
              "\n",
              "    .dataframe thead th {\n",
              "        text-align: right;\n",
              "    }\n",
              "</style>\n",
              "<table border=\"1\" class=\"dataframe\">\n",
              "  <thead>\n",
              "    <tr style=\"text-align: right;\">\n",
              "      <th></th>\n",
              "      <th>Headline</th>\n",
              "      <th>Sentiment</th>\n",
              "    </tr>\n",
              "  </thead>\n",
              "  <tbody>\n",
              "    <tr>\n",
              "      <th>0</th>\n",
              "      <td>‘১২ মাসের নমনীয়’ সময়ের দিকে যেতে পারে ব্রেক্সিট</td>\n",
              "      <td>1</td>\n",
              "    </tr>\n",
              "    <tr>\n",
              "      <th>1</th>\n",
              "      <td>‘২০ রোজার মধ্যে পাটকল শ্রমিকদের মজুরি দিন’</td>\n",
              "      <td>1</td>\n",
              "    </tr>\n",
              "    <tr>\n",
              "      <th>2</th>\n",
              "      <td>‘২০০’ ডাকছে, তামিম রাঙাতে পারবেন তো?</td>\n",
              "      <td>1</td>\n",
              "    </tr>\n",
              "    <tr>\n",
              "      <th>3</th>\n",
              "      <td>‘২০টি মডেল ভবন তৈরি করে দেখান’</td>\n",
              "      <td>1</td>\n",
              "    </tr>\n",
              "    <tr>\n",
              "      <th>4</th>\n",
              "      <td>‘৬ মাসে ২০৮৩ নারী ও শিশু নির্যাতনের শিকার’</td>\n",
              "      <td>0</td>\n",
              "    </tr>\n",
              "    <tr>\n",
              "      <th>...</th>\n",
              "      <td>...</td>\n",
              "      <td>...</td>\n",
              "    </tr>\n",
              "    <tr>\n",
              "      <th>1614</th>\n",
              "      <td>ঘুষ দিয়ে ভোট কিনছেন মে!</td>\n",
              "      <td>0</td>\n",
              "    </tr>\n",
              "    <tr>\n",
              "      <th>1615</th>\n",
              "      <td>ঘুষ না দেওয়ায় হয়রানি, দুদকের অভিযান</td>\n",
              "      <td>0</td>\n",
              "    </tr>\n",
              "    <tr>\n",
              "      <th>1616</th>\n",
              "      <td>ঘুষের টাকাসহ দুদকের হাতে গ্রেপ্তার মৎস্য কর্মক...</td>\n",
              "      <td>0</td>\n",
              "    </tr>\n",
              "    <tr>\n",
              "      <th>1617</th>\n",
              "      <td>ঘূর্ণিঝড় ফণী: ৮ লাখ বাসিন্দা সরিয়েছে ভারত</td>\n",
              "      <td>0</td>\n",
              "    </tr>\n",
              "    <tr>\n",
              "      <th>1618</th>\n",
              "      <td>ঘূর্ণিঝড় ফণীর বার্তা</td>\n",
              "      <td>1</td>\n",
              "    </tr>\n",
              "  </tbody>\n",
              "</table>\n",
              "<p>1619 rows × 2 columns</p>\n",
              "</div>\n",
              "    <div class=\"colab-df-buttons\">\n",
              "\n",
              "  <div class=\"colab-df-container\">\n",
              "    <button class=\"colab-df-convert\" onclick=\"convertToInteractive('df-85837df4-7c56-4ea3-9e2e-a37158985484')\"\n",
              "            title=\"Convert this dataframe to an interactive table.\"\n",
              "            style=\"display:none;\">\n",
              "\n",
              "  <svg xmlns=\"http://www.w3.org/2000/svg\" height=\"24px\" viewBox=\"0 -960 960 960\">\n",
              "    <path d=\"M120-120v-720h720v720H120Zm60-500h600v-160H180v160Zm220 220h160v-160H400v160Zm0 220h160v-160H400v160ZM180-400h160v-160H180v160Zm440 0h160v-160H620v160ZM180-180h160v-160H180v160Zm440 0h160v-160H620v160Z\"/>\n",
              "  </svg>\n",
              "    </button>\n",
              "\n",
              "  <style>\n",
              "    .colab-df-container {\n",
              "      display:flex;\n",
              "      gap: 12px;\n",
              "    }\n",
              "\n",
              "    .colab-df-convert {\n",
              "      background-color: #E8F0FE;\n",
              "      border: none;\n",
              "      border-radius: 50%;\n",
              "      cursor: pointer;\n",
              "      display: none;\n",
              "      fill: #1967D2;\n",
              "      height: 32px;\n",
              "      padding: 0 0 0 0;\n",
              "      width: 32px;\n",
              "    }\n",
              "\n",
              "    .colab-df-convert:hover {\n",
              "      background-color: #E2EBFA;\n",
              "      box-shadow: 0px 1px 2px rgba(60, 64, 67, 0.3), 0px 1px 3px 1px rgba(60, 64, 67, 0.15);\n",
              "      fill: #174EA6;\n",
              "    }\n",
              "\n",
              "    .colab-df-buttons div {\n",
              "      margin-bottom: 4px;\n",
              "    }\n",
              "\n",
              "    [theme=dark] .colab-df-convert {\n",
              "      background-color: #3B4455;\n",
              "      fill: #D2E3FC;\n",
              "    }\n",
              "\n",
              "    [theme=dark] .colab-df-convert:hover {\n",
              "      background-color: #434B5C;\n",
              "      box-shadow: 0px 1px 3px 1px rgba(0, 0, 0, 0.15);\n",
              "      filter: drop-shadow(0px 1px 2px rgba(0, 0, 0, 0.3));\n",
              "      fill: #FFFFFF;\n",
              "    }\n",
              "  </style>\n",
              "\n",
              "    <script>\n",
              "      const buttonEl =\n",
              "        document.querySelector('#df-85837df4-7c56-4ea3-9e2e-a37158985484 button.colab-df-convert');\n",
              "      buttonEl.style.display =\n",
              "        google.colab.kernel.accessAllowed ? 'block' : 'none';\n",
              "\n",
              "      async function convertToInteractive(key) {\n",
              "        const element = document.querySelector('#df-85837df4-7c56-4ea3-9e2e-a37158985484');\n",
              "        const dataTable =\n",
              "          await google.colab.kernel.invokeFunction('convertToInteractive',\n",
              "                                                    [key], {});\n",
              "        if (!dataTable) return;\n",
              "\n",
              "        const docLinkHtml = 'Like what you see? Visit the ' +\n",
              "          '<a target=\"_blank\" href=https://colab.research.google.com/notebooks/data_table.ipynb>data table notebook</a>'\n",
              "          + ' to learn more about interactive tables.';\n",
              "        element.innerHTML = '';\n",
              "        dataTable['output_type'] = 'display_data';\n",
              "        await google.colab.output.renderOutput(dataTable, element);\n",
              "        const docLink = document.createElement('div');\n",
              "        docLink.innerHTML = docLinkHtml;\n",
              "        element.appendChild(docLink);\n",
              "      }\n",
              "    </script>\n",
              "  </div>\n",
              "\n",
              "\n",
              "<div id=\"df-f2e71ec0-25d0-40a8-bc69-9a913c7cae85\">\n",
              "  <button class=\"colab-df-quickchart\" onclick=\"quickchart('df-f2e71ec0-25d0-40a8-bc69-9a913c7cae85')\"\n",
              "            title=\"Suggest charts\"\n",
              "            style=\"display:none;\">\n",
              "\n",
              "<svg xmlns=\"http://www.w3.org/2000/svg\" height=\"24px\"viewBox=\"0 0 24 24\"\n",
              "     width=\"24px\">\n",
              "    <g>\n",
              "        <path d=\"M19 3H5c-1.1 0-2 .9-2 2v14c0 1.1.9 2 2 2h14c1.1 0 2-.9 2-2V5c0-1.1-.9-2-2-2zM9 17H7v-7h2v7zm4 0h-2V7h2v10zm4 0h-2v-4h2v4z\"/>\n",
              "    </g>\n",
              "</svg>\n",
              "  </button>\n",
              "\n",
              "<style>\n",
              "  .colab-df-quickchart {\n",
              "      --bg-color: #E8F0FE;\n",
              "      --fill-color: #1967D2;\n",
              "      --hover-bg-color: #E2EBFA;\n",
              "      --hover-fill-color: #174EA6;\n",
              "      --disabled-fill-color: #AAA;\n",
              "      --disabled-bg-color: #DDD;\n",
              "  }\n",
              "\n",
              "  [theme=dark] .colab-df-quickchart {\n",
              "      --bg-color: #3B4455;\n",
              "      --fill-color: #D2E3FC;\n",
              "      --hover-bg-color: #434B5C;\n",
              "      --hover-fill-color: #FFFFFF;\n",
              "      --disabled-bg-color: #3B4455;\n",
              "      --disabled-fill-color: #666;\n",
              "  }\n",
              "\n",
              "  .colab-df-quickchart {\n",
              "    background-color: var(--bg-color);\n",
              "    border: none;\n",
              "    border-radius: 50%;\n",
              "    cursor: pointer;\n",
              "    display: none;\n",
              "    fill: var(--fill-color);\n",
              "    height: 32px;\n",
              "    padding: 0;\n",
              "    width: 32px;\n",
              "  }\n",
              "\n",
              "  .colab-df-quickchart:hover {\n",
              "    background-color: var(--hover-bg-color);\n",
              "    box-shadow: 0 1px 2px rgba(60, 64, 67, 0.3), 0 1px 3px 1px rgba(60, 64, 67, 0.15);\n",
              "    fill: var(--button-hover-fill-color);\n",
              "  }\n",
              "\n",
              "  .colab-df-quickchart-complete:disabled,\n",
              "  .colab-df-quickchart-complete:disabled:hover {\n",
              "    background-color: var(--disabled-bg-color);\n",
              "    fill: var(--disabled-fill-color);\n",
              "    box-shadow: none;\n",
              "  }\n",
              "\n",
              "  .colab-df-spinner {\n",
              "    border: 2px solid var(--fill-color);\n",
              "    border-color: transparent;\n",
              "    border-bottom-color: var(--fill-color);\n",
              "    animation:\n",
              "      spin 1s steps(1) infinite;\n",
              "  }\n",
              "\n",
              "  @keyframes spin {\n",
              "    0% {\n",
              "      border-color: transparent;\n",
              "      border-bottom-color: var(--fill-color);\n",
              "      border-left-color: var(--fill-color);\n",
              "    }\n",
              "    20% {\n",
              "      border-color: transparent;\n",
              "      border-left-color: var(--fill-color);\n",
              "      border-top-color: var(--fill-color);\n",
              "    }\n",
              "    30% {\n",
              "      border-color: transparent;\n",
              "      border-left-color: var(--fill-color);\n",
              "      border-top-color: var(--fill-color);\n",
              "      border-right-color: var(--fill-color);\n",
              "    }\n",
              "    40% {\n",
              "      border-color: transparent;\n",
              "      border-right-color: var(--fill-color);\n",
              "      border-top-color: var(--fill-color);\n",
              "    }\n",
              "    60% {\n",
              "      border-color: transparent;\n",
              "      border-right-color: var(--fill-color);\n",
              "    }\n",
              "    80% {\n",
              "      border-color: transparent;\n",
              "      border-right-color: var(--fill-color);\n",
              "      border-bottom-color: var(--fill-color);\n",
              "    }\n",
              "    90% {\n",
              "      border-color: transparent;\n",
              "      border-bottom-color: var(--fill-color);\n",
              "    }\n",
              "  }\n",
              "</style>\n",
              "\n",
              "  <script>\n",
              "    async function quickchart(key) {\n",
              "      const quickchartButtonEl =\n",
              "        document.querySelector('#' + key + ' button');\n",
              "      quickchartButtonEl.disabled = true;  // To prevent multiple clicks.\n",
              "      quickchartButtonEl.classList.add('colab-df-spinner');\n",
              "      try {\n",
              "        const charts = await google.colab.kernel.invokeFunction(\n",
              "            'suggestCharts', [key], {});\n",
              "      } catch (error) {\n",
              "        console.error('Error during call to suggestCharts:', error);\n",
              "      }\n",
              "      quickchartButtonEl.classList.remove('colab-df-spinner');\n",
              "      quickchartButtonEl.classList.add('colab-df-quickchart-complete');\n",
              "    }\n",
              "    (() => {\n",
              "      let quickchartButtonEl =\n",
              "        document.querySelector('#df-f2e71ec0-25d0-40a8-bc69-9a913c7cae85 button');\n",
              "      quickchartButtonEl.style.display =\n",
              "        google.colab.kernel.accessAllowed ? 'block' : 'none';\n",
              "    })();\n",
              "  </script>\n",
              "</div>\n",
              "    </div>\n",
              "  </div>\n"
            ]
          },
          "metadata": {},
          "execution_count": 18
        }
      ],
      "source": [
        "df"
      ]
    },
    {
      "cell_type": "code",
      "execution_count": null,
      "id": "f96b42bd-c12c-4f8d-a1cd-4ae6447cc6b1",
      "metadata": {
        "tags": [],
        "id": "f96b42bd-c12c-4f8d-a1cd-4ae6447cc6b1"
      },
      "outputs": [],
      "source": [
        "x_train_dtm = vocab.transform(x_train).toarray()\n",
        "x_test_dtm = vocab.transform(x_test).toarray()"
      ]
    },
    {
      "cell_type": "code",
      "execution_count": null,
      "id": "88399f28-7bb7-4190-bbbd-f7c28ad73e2f",
      "metadata": {
        "tags": [],
        "colab": {
          "base_uri": "https://localhost:8080/"
        },
        "id": "88399f28-7bb7-4190-bbbd-f7c28ad73e2f",
        "outputId": "034194e3-4367-488f-85b3-01323ff071eb"
      },
      "outputs": [
        {
          "output_type": "execute_result",
          "data": {
            "text/plain": [
              "array([[35,  0,  0, ...,  0,  0,  0],\n",
              "       [35,  0,  0, ...,  0,  0,  0],\n",
              "       [38,  0,  0, ...,  0,  0,  0],\n",
              "       ...,\n",
              "       [20,  0,  0, ...,  0,  0,  0],\n",
              "       [44,  0,  0, ...,  0,  0,  0],\n",
              "       [38,  0,  0, ...,  0,  0,  0]])"
            ]
          },
          "metadata": {},
          "execution_count": 20
        }
      ],
      "source": [
        "x_train_dtm"
      ]
    },
    {
      "cell_type": "code",
      "execution_count": null,
      "id": "e50c6aef-9153-4e95-9f49-7074b1217af0",
      "metadata": {
        "tags": [],
        "colab": {
          "base_uri": "https://localhost:8080/"
        },
        "id": "e50c6aef-9153-4e95-9f49-7074b1217af0",
        "outputId": "8e7c75ce-00c0-43a0-ee12-7aa84bdf29cb"
      },
      "outputs": [
        {
          "output_type": "execute_result",
          "data": {
            "text/plain": [
              "490     1\n",
              "1241    1\n",
              "1141    1\n",
              "758     0\n",
              "1272    1\n",
              "       ..\n",
              "664     1\n",
              "466     1\n",
              "1408    1\n",
              "1255    0\n",
              "1042    1\n",
              "Name: Sentiment, Length: 324, dtype: int64"
            ]
          },
          "metadata": {},
          "execution_count": 21
        }
      ],
      "source": [
        "y_test"
      ]
    },
    {
      "cell_type": "code",
      "execution_count": null,
      "id": "fbb201dd-bed2-4553-b17e-8f812b8fd237",
      "metadata": {
        "tags": [],
        "id": "fbb201dd-bed2-4553-b17e-8f812b8fd237"
      },
      "outputs": [],
      "source": [
        "from sklearn.svm import SVC\n",
        "model = SVC(kernel='linear', random_state = 10)\n",
        "model.fit(x_train_dtm, y_train)\n",
        "pred = model.predict(x_test_dtm)"
      ]
    },
    {
      "cell_type": "code",
      "execution_count": null,
      "id": "21ddc556-e0f8-46ea-a39d-6b98e68837fe",
      "metadata": {
        "tags": [],
        "colab": {
          "base_uri": "https://localhost:8080/"
        },
        "id": "21ddc556-e0f8-46ea-a39d-6b98e68837fe",
        "outputId": "92d85610-a18d-4517-8909-99b9cc1371f4"
      },
      "outputs": [
        {
          "output_type": "execute_result",
          "data": {
            "text/plain": [
              "0.7222222222222222"
            ]
          },
          "metadata": {},
          "execution_count": 23
        }
      ],
      "source": [
        "accuracy_score(y_test,pred)"
      ]
    },
    {
      "cell_type": "code",
      "execution_count": null,
      "id": "af86d6e3-d1c9-4f62-bb68-f90993eb91ee",
      "metadata": {
        "tags": [],
        "id": "af86d6e3-d1c9-4f62-bb68-f90993eb91ee"
      },
      "outputs": [],
      "source": [
        "pred2 = model.predict(x_train_dtm)"
      ]
    },
    {
      "cell_type": "code",
      "execution_count": null,
      "id": "792073f4-e2d6-4741-a278-4134f830d3d3",
      "metadata": {
        "tags": [],
        "colab": {
          "base_uri": "https://localhost:8080/"
        },
        "id": "792073f4-e2d6-4741-a278-4134f830d3d3",
        "outputId": "bcd345fd-24ec-4537-f735-1a7c975484ed"
      },
      "outputs": [
        {
          "output_type": "execute_result",
          "data": {
            "text/plain": [
              "0.715057915057915"
            ]
          },
          "metadata": {},
          "execution_count": 25
        }
      ],
      "source": [
        "accuracy_score(y_train,pred2)"
      ]
    },
    {
      "cell_type": "code",
      "execution_count": null,
      "id": "63d7cb67-c240-40a1-b22f-fba2cb5ae287",
      "metadata": {
        "tags": [],
        "colab": {
          "base_uri": "https://localhost:8080/"
        },
        "id": "63d7cb67-c240-40a1-b22f-fba2cb5ae287",
        "outputId": "a5e72c78-c516-4553-efcc-cc0141eab17f"
      },
      "outputs": [
        {
          "output_type": "stream",
          "name": "stdout",
          "text": [
            "              precision    recall  f1-score   support\n",
            "\n",
            "           0       0.50      0.16      0.24        90\n",
            "           1       0.74      0.94      0.83       234\n",
            "\n",
            "    accuracy                           0.72       324\n",
            "   macro avg       0.62      0.55      0.53       324\n",
            "weighted avg       0.68      0.72      0.67       324\n",
            "\n"
          ]
        }
      ],
      "source": [
        "print(classification_report(y_test,pred))"
      ]
    },
    {
      "cell_type": "code",
      "source": [
        "!pip install qiskit-ibmq-provider\n",
        "!pip install qiskit_machine_learning==0.6.1"
      ],
      "metadata": {
        "colab": {
          "base_uri": "https://localhost:8080/"
        },
        "id": "t6UvgQbMh5FM",
        "outputId": "024551c8-4716-4563-b16e-86f60ea492cf"
      },
      "id": "t6UvgQbMh5FM",
      "execution_count": null,
      "outputs": [
        {
          "output_type": "stream",
          "name": "stdout",
          "text": [
            "Collecting qiskit-ibmq-provider\n",
            "  Downloading qiskit_ibmq_provider-0.20.2-py3-none-any.whl (241 kB)\n",
            "\u001b[2K     \u001b[90m━━━━━━━━━━━━━━━━━━━━━━━━━━━━━━━━━━━━━━━━\u001b[0m \u001b[32m241.5/241.5 kB\u001b[0m \u001b[31m1.7 MB/s\u001b[0m eta \u001b[36m0:00:00\u001b[0m\n",
            "\u001b[?25hCollecting qiskit-terra>=0.18.0 (from qiskit-ibmq-provider)\n",
            "  Downloading qiskit_terra-0.45.1-cp38-abi3-manylinux_2_17_x86_64.manylinux2014_x86_64.whl (6.3 MB)\n",
            "\u001b[2K     \u001b[90m━━━━━━━━━━━━━━━━━━━━━━━━━━━━━━━━━━━━━━━━\u001b[0m \u001b[32m6.3/6.3 MB\u001b[0m \u001b[31m12.2 MB/s\u001b[0m eta \u001b[36m0:00:00\u001b[0m\n",
            "\u001b[?25hRequirement already satisfied: requests>=2.19 in /usr/local/lib/python3.10/dist-packages (from qiskit-ibmq-provider) (2.31.0)\n",
            "Collecting requests-ntlm<=1.1.0 (from qiskit-ibmq-provider)\n",
            "  Downloading requests_ntlm-1.1.0-py2.py3-none-any.whl (5.7 kB)\n",
            "Requirement already satisfied: numpy<1.24 in /usr/local/lib/python3.10/dist-packages (from qiskit-ibmq-provider) (1.23.5)\n",
            "Requirement already satisfied: urllib3>=1.21.1 in /usr/local/lib/python3.10/dist-packages (from qiskit-ibmq-provider) (2.0.7)\n",
            "Requirement already satisfied: python-dateutil>=2.8.0 in /usr/local/lib/python3.10/dist-packages (from qiskit-ibmq-provider) (2.8.2)\n",
            "Requirement already satisfied: websocket-client>=1.5.1 in /usr/local/lib/python3.10/dist-packages (from qiskit-ibmq-provider) (1.7.0)\n",
            "Collecting websockets>=10.0 (from qiskit-ibmq-provider)\n",
            "  Downloading websockets-12.0-cp310-cp310-manylinux_2_5_x86_64.manylinux1_x86_64.manylinux_2_17_x86_64.manylinux2014_x86_64.whl (130 kB)\n",
            "\u001b[2K     \u001b[90m━━━━━━━━━━━━━━━━━━━━━━━━━━━━━━━━━━━━━━━━\u001b[0m \u001b[32m130.2/130.2 kB\u001b[0m \u001b[31m1.7 MB/s\u001b[0m eta \u001b[36m0:00:00\u001b[0m\n",
            "\u001b[?25hRequirement already satisfied: six>=1.5 in /usr/local/lib/python3.10/dist-packages (from python-dateutil>=2.8.0->qiskit-ibmq-provider) (1.16.0)\n",
            "Collecting rustworkx>=0.13.0 (from qiskit-terra>=0.18.0->qiskit-ibmq-provider)\n",
            "  Downloading rustworkx-0.13.2-cp310-cp310-manylinux_2_17_x86_64.manylinux2014_x86_64.whl (2.0 MB)\n",
            "\u001b[2K     \u001b[90m━━━━━━━━━━━━━━━━━━━━━━━━━━━━━━━━━━━━━━━━\u001b[0m \u001b[32m2.0/2.0 MB\u001b[0m \u001b[31m22.4 MB/s\u001b[0m eta \u001b[36m0:00:00\u001b[0m\n",
            "\u001b[?25hCollecting ply>=3.10 (from qiskit-terra>=0.18.0->qiskit-ibmq-provider)\n",
            "  Downloading ply-3.11-py2.py3-none-any.whl (49 kB)\n",
            "\u001b[2K     \u001b[90m━━━━━━━━━━━━━━━━━━━━━━━━━━━━━━━━━━━━━━━━\u001b[0m \u001b[32m49.6/49.6 kB\u001b[0m \u001b[31m2.9 MB/s\u001b[0m eta \u001b[36m0:00:00\u001b[0m\n",
            "\u001b[?25hRequirement already satisfied: psutil>=5 in /usr/local/lib/python3.10/dist-packages (from qiskit-terra>=0.18.0->qiskit-ibmq-provider) (5.9.5)\n",
            "Requirement already satisfied: scipy>=1.5 in /usr/local/lib/python3.10/dist-packages (from qiskit-terra>=0.18.0->qiskit-ibmq-provider) (1.11.4)\n",
            "Requirement already satisfied: sympy>=1.3 in /usr/local/lib/python3.10/dist-packages (from qiskit-terra>=0.18.0->qiskit-ibmq-provider) (1.12)\n",
            "Collecting dill>=0.3 (from qiskit-terra>=0.18.0->qiskit-ibmq-provider)\n",
            "  Downloading dill-0.3.7-py3-none-any.whl (115 kB)\n",
            "\u001b[2K     \u001b[90m━━━━━━━━━━━━━━━━━━━━━━━━━━━━━━━━━━━━━━━━\u001b[0m \u001b[32m115.3/115.3 kB\u001b[0m \u001b[31m5.7 MB/s\u001b[0m eta \u001b[36m0:00:00\u001b[0m\n",
            "\u001b[?25hCollecting stevedore>=3.0.0 (from qiskit-terra>=0.18.0->qiskit-ibmq-provider)\n",
            "  Downloading stevedore-5.1.0-py3-none-any.whl (49 kB)\n",
            "\u001b[2K     \u001b[90m━━━━━━━━━━━━━━━━━━━━━━━━━━━━━━━━━━━━━━━━\u001b[0m \u001b[32m49.6/49.6 kB\u001b[0m \u001b[31m5.5 MB/s\u001b[0m eta \u001b[36m0:00:00\u001b[0m\n",
            "\u001b[?25hCollecting symengine!=0.10.0,>=0.9 (from qiskit-terra>=0.18.0->qiskit-ibmq-provider)\n",
            "  Downloading symengine-0.11.0-cp310-cp310-manylinux_2_12_x86_64.manylinux2010_x86_64.whl (39.4 MB)\n",
            "\u001b[2K     \u001b[90m━━━━━━━━━━━━━━━━━━━━━━━━━━━━━━━━━━━━━━━━\u001b[0m \u001b[32m39.4/39.4 MB\u001b[0m \u001b[31m9.1 MB/s\u001b[0m eta \u001b[36m0:00:00\u001b[0m\n",
            "\u001b[?25hRequirement already satisfied: typing-extensions in /usr/local/lib/python3.10/dist-packages (from qiskit-terra>=0.18.0->qiskit-ibmq-provider) (4.5.0)\n",
            "Requirement already satisfied: charset-normalizer<4,>=2 in /usr/local/lib/python3.10/dist-packages (from requests>=2.19->qiskit-ibmq-provider) (3.3.2)\n",
            "Requirement already satisfied: idna<4,>=2.5 in /usr/local/lib/python3.10/dist-packages (from requests>=2.19->qiskit-ibmq-provider) (3.6)\n",
            "Requirement already satisfied: certifi>=2017.4.17 in /usr/local/lib/python3.10/dist-packages (from requests>=2.19->qiskit-ibmq-provider) (2023.11.17)\n",
            "Collecting ntlm-auth>=1.0.2 (from requests-ntlm<=1.1.0->qiskit-ibmq-provider)\n",
            "  Downloading ntlm_auth-1.5.0-py2.py3-none-any.whl (29 kB)\n",
            "Requirement already satisfied: cryptography>=1.3 in /usr/local/lib/python3.10/dist-packages (from requests-ntlm<=1.1.0->qiskit-ibmq-provider) (41.0.7)\n",
            "Requirement already satisfied: cffi>=1.12 in /usr/local/lib/python3.10/dist-packages (from cryptography>=1.3->requests-ntlm<=1.1.0->qiskit-ibmq-provider) (1.16.0)\n",
            "Collecting pbr!=2.1.0,>=2.0.0 (from stevedore>=3.0.0->qiskit-terra>=0.18.0->qiskit-ibmq-provider)\n",
            "  Downloading pbr-6.0.0-py2.py3-none-any.whl (107 kB)\n",
            "\u001b[2K     \u001b[90m━━━━━━━━━━━━━━━━━━━━━━━━━━━━━━━━━━━━━━━━\u001b[0m \u001b[32m107.5/107.5 kB\u001b[0m \u001b[31m9.3 MB/s\u001b[0m eta \u001b[36m0:00:00\u001b[0m\n",
            "\u001b[?25hRequirement already satisfied: mpmath>=0.19 in /usr/local/lib/python3.10/dist-packages (from sympy>=1.3->qiskit-terra>=0.18.0->qiskit-ibmq-provider) (1.3.0)\n",
            "Requirement already satisfied: pycparser in /usr/local/lib/python3.10/dist-packages (from cffi>=1.12->cryptography>=1.3->requests-ntlm<=1.1.0->qiskit-ibmq-provider) (2.21)\n",
            "Installing collected packages: ply, websockets, symengine, rustworkx, pbr, ntlm-auth, dill, stevedore, requests-ntlm, qiskit-terra, qiskit-ibmq-provider\n",
            "Successfully installed dill-0.3.7 ntlm-auth-1.5.0 pbr-6.0.0 ply-3.11 qiskit-ibmq-provider-0.20.2 qiskit-terra-0.45.1 requests-ntlm-1.1.0 rustworkx-0.13.2 stevedore-5.1.0 symengine-0.11.0 websockets-12.0\n",
            "Collecting qiskit_machine_learning==0.6.1\n",
            "  Downloading qiskit_machine_learning-0.6.1-py3-none-any.whl (148 kB)\n",
            "\u001b[2K     \u001b[90m━━━━━━━━━━━━━━━━━━━━━━━━━━━━━━━━━━━━━━━━\u001b[0m \u001b[32m148.7/148.7 kB\u001b[0m \u001b[31m2.4 MB/s\u001b[0m eta \u001b[36m0:00:00\u001b[0m\n",
            "\u001b[?25hRequirement already satisfied: qiskit-terra>=0.22.2 in /usr/local/lib/python3.10/dist-packages (from qiskit_machine_learning==0.6.1) (0.45.1)\n",
            "Requirement already satisfied: scipy>=1.4 in /usr/local/lib/python3.10/dist-packages (from qiskit_machine_learning==0.6.1) (1.11.4)\n",
            "Requirement already satisfied: numpy>=1.17 in /usr/local/lib/python3.10/dist-packages (from qiskit_machine_learning==0.6.1) (1.23.5)\n",
            "Requirement already satisfied: psutil>=5 in /usr/local/lib/python3.10/dist-packages (from qiskit_machine_learning==0.6.1) (5.9.5)\n",
            "Requirement already satisfied: scikit-learn>=0.20.0 in /usr/local/lib/python3.10/dist-packages (from qiskit_machine_learning==0.6.1) (1.2.2)\n",
            "Collecting fastdtw (from qiskit_machine_learning==0.6.1)\n",
            "  Downloading fastdtw-0.3.4.tar.gz (133 kB)\n",
            "\u001b[2K     \u001b[90m━━━━━━━━━━━━━━━━━━━━━━━━━━━━━━━━━━━━━━━━\u001b[0m \u001b[32m133.4/133.4 kB\u001b[0m \u001b[31m6.7 MB/s\u001b[0m eta \u001b[36m0:00:00\u001b[0m\n",
            "\u001b[?25h  Preparing metadata (setup.py) ... \u001b[?25l\u001b[?25hdone\n",
            "Requirement already satisfied: setuptools>=40.1.0 in /usr/local/lib/python3.10/dist-packages (from qiskit_machine_learning==0.6.1) (67.7.2)\n",
            "Requirement already satisfied: dill>=0.3.4 in /usr/local/lib/python3.10/dist-packages (from qiskit_machine_learning==0.6.1) (0.3.7)\n",
            "Requirement already satisfied: rustworkx>=0.13.0 in /usr/local/lib/python3.10/dist-packages (from qiskit-terra>=0.22.2->qiskit_machine_learning==0.6.1) (0.13.2)\n",
            "Requirement already satisfied: ply>=3.10 in /usr/local/lib/python3.10/dist-packages (from qiskit-terra>=0.22.2->qiskit_machine_learning==0.6.1) (3.11)\n",
            "Requirement already satisfied: sympy>=1.3 in /usr/local/lib/python3.10/dist-packages (from qiskit-terra>=0.22.2->qiskit_machine_learning==0.6.1) (1.12)\n",
            "Requirement already satisfied: python-dateutil>=2.8.0 in /usr/local/lib/python3.10/dist-packages (from qiskit-terra>=0.22.2->qiskit_machine_learning==0.6.1) (2.8.2)\n",
            "Requirement already satisfied: stevedore>=3.0.0 in /usr/local/lib/python3.10/dist-packages (from qiskit-terra>=0.22.2->qiskit_machine_learning==0.6.1) (5.1.0)\n",
            "Requirement already satisfied: symengine!=0.10.0,>=0.9 in /usr/local/lib/python3.10/dist-packages (from qiskit-terra>=0.22.2->qiskit_machine_learning==0.6.1) (0.11.0)\n",
            "Requirement already satisfied: typing-extensions in /usr/local/lib/python3.10/dist-packages (from qiskit-terra>=0.22.2->qiskit_machine_learning==0.6.1) (4.5.0)\n",
            "Requirement already satisfied: joblib>=1.1.1 in /usr/local/lib/python3.10/dist-packages (from scikit-learn>=0.20.0->qiskit_machine_learning==0.6.1) (1.3.2)\n",
            "Requirement already satisfied: threadpoolctl>=2.0.0 in /usr/local/lib/python3.10/dist-packages (from scikit-learn>=0.20.0->qiskit_machine_learning==0.6.1) (3.2.0)\n",
            "Requirement already satisfied: six>=1.5 in /usr/local/lib/python3.10/dist-packages (from python-dateutil>=2.8.0->qiskit-terra>=0.22.2->qiskit_machine_learning==0.6.1) (1.16.0)\n",
            "Requirement already satisfied: pbr!=2.1.0,>=2.0.0 in /usr/local/lib/python3.10/dist-packages (from stevedore>=3.0.0->qiskit-terra>=0.22.2->qiskit_machine_learning==0.6.1) (6.0.0)\n",
            "Requirement already satisfied: mpmath>=0.19 in /usr/local/lib/python3.10/dist-packages (from sympy>=1.3->qiskit-terra>=0.22.2->qiskit_machine_learning==0.6.1) (1.3.0)\n",
            "Building wheels for collected packages: fastdtw\n",
            "  Building wheel for fastdtw (setup.py) ... \u001b[?25l\u001b[?25hdone\n",
            "  Created wheel for fastdtw: filename=fastdtw-0.3.4-cp310-cp310-linux_x86_64.whl size=512586 sha256=367a47e9b47802c01d73c5964138dc0462103048e064b430c13207a793eed30b\n",
            "  Stored in directory: /root/.cache/pip/wheels/73/c8/f7/c25448dab74c3acf4848bc25d513c736bb93910277e1528ef4\n",
            "Successfully built fastdtw\n",
            "Installing collected packages: fastdtw, qiskit_machine_learning\n",
            "Successfully installed fastdtw-0.3.4 qiskit_machine_learning-0.6.1\n"
          ]
        }
      ]
    },
    {
      "cell_type": "code",
      "execution_count": null,
      "id": "e87ee467-3aff-45a3-8c12-ae6263b4db16",
      "metadata": {
        "tags": [],
        "id": "e87ee467-3aff-45a3-8c12-ae6263b4db16"
      },
      "outputs": [],
      "source": [
        "from sklearn.decomposition import KernelPCA\n",
        "kernel_pca_rbf = KernelPCA(n_components=2, kernel=\"rbf\")\n",
        "kernel_pca_rbf.fit(x_train_dtm)\n",
        "train_features_rbf = kernel_pca_rbf.transform(x_train_dtm)\n",
        "test_features_rbf = kernel_pca_rbf.transform(x_test_dtm)"
      ]
    },
    {
      "cell_type": "code",
      "execution_count": null,
      "id": "9880ed79-408d-4f52-ae7a-7472134d99e0",
      "metadata": {
        "tags": [],
        "colab": {
          "base_uri": "https://localhost:8080/",
          "height": 94
        },
        "id": "9880ed79-408d-4f52-ae7a-7472134d99e0",
        "outputId": "7a974071-7534-4ed2-e27c-4c790e251f48"
      },
      "outputs": [
        {
          "output_type": "execute_result",
          "data": {
            "text/plain": [
              "     ┌──────────────────────────┐\n",
              "q_0: ┤0                         ├\n",
              "     │  ZZFeatureMap(x[0],x[1]) │\n",
              "q_1: ┤1                         ├\n",
              "     └──────────────────────────┘"
            ],
            "text/html": [
              "<pre style=\"word-wrap: normal;white-space: pre;background: #fff0;line-height: 1.1;font-family: &quot;Courier New&quot;,Courier,monospace\">     ┌──────────────────────────┐\n",
              "q_0: ┤0                         ├\n",
              "     │  ZZFeatureMap(x[0],x[1]) │\n",
              "q_1: ┤1                         ├\n",
              "     └──────────────────────────┘</pre>"
            ]
          },
          "metadata": {},
          "execution_count": 29
        }
      ],
      "source": [
        "from qiskit.circuit.library import ZZFeatureMap,PauliFeatureMap\n",
        "num_features = train_features_rbf.shape[1]\n",
        "feature_map = ZZFeatureMap(feature_dimension=num_features, reps=1, entanglement = 'linear',\n",
        "insert_barriers =True)\n",
        "feature_map.draw()"
      ]
    },
    {
      "cell_type": "code",
      "execution_count": null,
      "id": "c0dea946-c867-45c2-b49d-766ce2bee140",
      "metadata": {
        "tags": [],
        "id": "c0dea946-c867-45c2-b49d-766ce2bee140"
      },
      "outputs": [],
      "source": [
        "#feature_map.decompose().draw(output='mpl')"
      ]
    },
    {
      "cell_type": "code",
      "execution_count": null,
      "id": "1e732969-f36b-4c48-9160-56a3cf586652",
      "metadata": {
        "tags": [],
        "colab": {
          "base_uri": "https://localhost:8080/"
        },
        "id": "1e732969-f36b-4c48-9160-56a3cf586652",
        "outputId": "19a04f6d-52ca-4cf5-9376-b62c6d9c08ca"
      },
      "outputs": [
        {
          "output_type": "stream",
          "name": "stdout",
          "text": [
            "5\n"
          ]
        }
      ],
      "source": [
        "print(feature_map.decompose().decompose().depth())"
      ]
    },
    {
      "cell_type": "code",
      "execution_count": null,
      "id": "51804dae-8681-4d67-b2cb-4141f3aba1ba",
      "metadata": {
        "tags": [],
        "colab": {
          "base_uri": "https://localhost:8080/"
        },
        "id": "51804dae-8681-4d67-b2cb-4141f3aba1ba",
        "outputId": "af144ca0-df0a-47ab-9844-c7440c2b1978"
      },
      "outputs": [
        {
          "output_type": "stream",
          "name": "stderr",
          "text": [
            "<ipython-input-32-8e8331eb1691>:4: DeprecationWarning: The package qiskit.providers.ibmq is being deprecated. Please see https://ibm.biz/provider_migration_guide to get instructions on how to migrate to qiskit-ibm-provider (https://github.com/Qiskit/qiskit-ibm-provider) and qiskit-ibm-runtime (https://github.com/Qiskit/qiskit-ibm-runtime).\n",
            "  IBMQ.save_account('b97c4453266ade71c400ed517b83e3162b9e9751a911afdb92772582b0c26dab7f58b1e0ecc4e343a3324b6da8827319a1afd0025746cbfe3bfb15bdfd82e15f')\n",
            "<ipython-input-32-8e8331eb1691>:4: DeprecationWarning: The qiskit.IBMQ entrypoint and the qiskit-ibmq-provider package (accessible from 'qiskit.providers.ibmq`) are deprecated and will be removed in a future release. Instead you should use the qiskit-ibm-provider package which is accessible from 'qiskit_ibm_provider'. You can install it with 'pip install qiskit_ibm_provider'. Just replace 'qiskit.IBMQ' with 'qiskit_ibm_provider.IBMProvider'\n",
            "  IBMQ.save_account('b97c4453266ade71c400ed517b83e3162b9e9751a911afdb92772582b0c26dab7f58b1e0ecc4e343a3324b6da8827319a1afd0025746cbfe3bfb15bdfd82e15f')\n"
          ]
        },
        {
          "output_type": "execute_result",
          "data": {
            "text/plain": [
              "[<AccountProvider for IBMQ(hub='ibm-q', group='open', project='main')>]"
            ]
          },
          "metadata": {},
          "execution_count": 32
        }
      ],
      "source": [
        "from qiskit import Aer, execute\n",
        "from qiskit import IBMQ\n",
        "\n",
        "IBMQ.save_account('b97c4453266ade71c400ed517b83e3162b9e9751a911afdb92772582b0c26dab7f58b1e0ecc4e343a3324b6da8827319a1afd0025746cbfe3bfb15bdfd82e15f')\n",
        "IBMQ.load_account()\n",
        "IBMQ.providers()"
      ]
    },
    {
      "cell_type": "code",
      "execution_count": null,
      "id": "6be2f5b1-7414-4b50-b18d-bb57fb614bcc",
      "metadata": {
        "tags": [],
        "colab": {
          "base_uri": "https://localhost:8080/"
        },
        "id": "6be2f5b1-7414-4b50-b18d-bb57fb614bcc",
        "outputId": "97de813b-44ec-49f7-f643-8c3c7aa80498"
      },
      "outputs": [
        {
          "output_type": "execute_result",
          "data": {
            "text/plain": [
              "[<IBMQSimulator('ibmq_qasm_simulator') from IBMQ(hub='ibm-q', group='open', project='main')>,\n",
              " <IBMQSimulator('simulator_statevector') from IBMQ(hub='ibm-q', group='open', project='main')>,\n",
              " <IBMQSimulator('simulator_mps') from IBMQ(hub='ibm-q', group='open', project='main')>,\n",
              " <IBMQSimulator('simulator_extended_stabilizer') from IBMQ(hub='ibm-q', group='open', project='main')>,\n",
              " <IBMQSimulator('simulator_stabilizer') from IBMQ(hub='ibm-q', group='open', project='main')>,\n",
              " <IBMQBackend('ibm_brisbane') from IBMQ(hub='ibm-q', group='open', project='main')>,\n",
              " <IBMQBackend('ibm_kyoto') from IBMQ(hub='ibm-q', group='open', project='main')>,\n",
              " <IBMQBackend('ibm_osaka') from IBMQ(hub='ibm-q', group='open', project='main')>]"
            ]
          },
          "metadata": {},
          "execution_count": 33
        }
      ],
      "source": [
        "provider = IBMQ.get_provider(hub='ibm-q')\n",
        "provider.backends()"
      ]
    },
    {
      "cell_type": "code",
      "execution_count": null,
      "id": "458b219f-4691-45ba-aba8-6651b452732b",
      "metadata": {
        "tags": [],
        "id": "458b219f-4691-45ba-aba8-6651b452732b"
      },
      "outputs": [],
      "source": [
        "backend = provider.get_backend('ibm_kyoto')"
      ]
    },
    {
      "cell_type": "code",
      "execution_count": null,
      "id": "989042f9-3e5d-4db0-86e2-b00f3ad8faea",
      "metadata": {
        "tags": [],
        "id": "989042f9-3e5d-4db0-86e2-b00f3ad8faea"
      },
      "outputs": [],
      "source": [
        "from qiskit_machine_learning.kernels import QuantumKernel\n",
        "quantum_kernel = QuantumKernel(feature_map=feature_map, quantum_instance=backend)"
      ]
    },
    {
      "cell_type": "code",
      "execution_count": null,
      "id": "58f7c857-9b9d-4591-89ba-1791e3dba49c",
      "metadata": {
        "tags": [],
        "id": "58f7c857-9b9d-4591-89ba-1791e3dba49c",
        "outputId": "613500d7-c3ee-41c3-f4ba-3cf89cbdb685",
        "colab": {
          "base_uri": "https://localhost:8080/",
          "height": 477
        }
      },
      "outputs": [
        {
          "output_type": "error",
          "ename": "QiskitError",
          "evalue": "\"job id: cpmaqnpdmm10008nzqr0, status: 'FAIL_TO_GET_STATUS' Unknown error: ('status')\"",
          "traceback": [
            "\u001b[0;31m---------------------------------------------------------------------------\u001b[0m",
            "\u001b[0;31mKeyError\u001b[0m                                  Traceback (most recent call last)",
            "\u001b[0;32m/usr/local/lib/python3.10/dist-packages/qiskit/utils/run_circuits.py\u001b[0m in \u001b[0;36m_safe_get_job_status\u001b[0;34m(job, job_id, max_job_retries, wait)\u001b[0m\n\u001b[1;32m     89\u001b[0m         \u001b[0;32mtry\u001b[0m\u001b[0;34m:\u001b[0m\u001b[0;34m\u001b[0m\u001b[0;34m\u001b[0m\u001b[0m\n\u001b[0;32m---> 90\u001b[0;31m             \u001b[0mjob_status\u001b[0m \u001b[0;34m=\u001b[0m \u001b[0mjob\u001b[0m\u001b[0;34m.\u001b[0m\u001b[0mstatus\u001b[0m\u001b[0;34m(\u001b[0m\u001b[0;34m)\u001b[0m\u001b[0;34m\u001b[0m\u001b[0;34m\u001b[0m\u001b[0m\n\u001b[0m\u001b[1;32m     91\u001b[0m             \u001b[0;32mbreak\u001b[0m\u001b[0;34m\u001b[0m\u001b[0;34m\u001b[0m\u001b[0m\n",
            "\u001b[0;32m/usr/local/lib/python3.10/dist-packages/qiskit/providers/ibmq/job/ibmqjob.py\u001b[0m in \u001b[0;36mstatus\u001b[0;34m(self)\u001b[0m\n\u001b[1;32m    502\u001b[0m             \u001b[0mapi_response\u001b[0m \u001b[0;34m=\u001b[0m \u001b[0mself\u001b[0m\u001b[0;34m.\u001b[0m\u001b[0m_api_client\u001b[0m\u001b[0;34m.\u001b[0m\u001b[0mjob_status\u001b[0m\u001b[0;34m(\u001b[0m\u001b[0mself\u001b[0m\u001b[0;34m.\u001b[0m\u001b[0mjob_id\u001b[0m\u001b[0;34m(\u001b[0m\u001b[0;34m)\u001b[0m\u001b[0;34m)\u001b[0m\u001b[0;34m\u001b[0m\u001b[0;34m\u001b[0m\u001b[0m\n\u001b[0;32m--> 503\u001b[0;31m             \u001b[0mself\u001b[0m\u001b[0;34m.\u001b[0m\u001b[0m_api_status\u001b[0m \u001b[0;34m=\u001b[0m \u001b[0mapi_response\u001b[0m\u001b[0;34m[\u001b[0m\u001b[0;34m'status'\u001b[0m\u001b[0;34m]\u001b[0m\u001b[0;34m\u001b[0m\u001b[0;34m\u001b[0m\u001b[0m\n\u001b[0m\u001b[1;32m    504\u001b[0m             self._status, self._queue_info = self._get_status_position(\n",
            "\u001b[0;31mKeyError\u001b[0m: 'status'",
            "\nThe above exception was the direct cause of the following exception:\n",
            "\u001b[0;31mQiskitError\u001b[0m                               Traceback (most recent call last)",
            "\u001b[0;32m<timed exec>\u001b[0m in \u001b[0;36m<module>\u001b[0;34m\u001b[0m\n",
            "\u001b[0;32m/usr/local/lib/python3.10/dist-packages/sklearn/svm/_base.py\u001b[0m in \u001b[0;36mfit\u001b[0;34m(self, X, y, sample_weight)\u001b[0m\n\u001b[1;32m    250\u001b[0m \u001b[0;34m\u001b[0m\u001b[0m\n\u001b[1;32m    251\u001b[0m         \u001b[0mseed\u001b[0m \u001b[0;34m=\u001b[0m \u001b[0mrnd\u001b[0m\u001b[0;34m.\u001b[0m\u001b[0mrandint\u001b[0m\u001b[0;34m(\u001b[0m\u001b[0mnp\u001b[0m\u001b[0;34m.\u001b[0m\u001b[0miinfo\u001b[0m\u001b[0;34m(\u001b[0m\u001b[0;34m\"i\"\u001b[0m\u001b[0;34m)\u001b[0m\u001b[0;34m.\u001b[0m\u001b[0mmax\u001b[0m\u001b[0;34m)\u001b[0m\u001b[0;34m\u001b[0m\u001b[0;34m\u001b[0m\u001b[0m\n\u001b[0;32m--> 252\u001b[0;31m         \u001b[0mfit\u001b[0m\u001b[0;34m(\u001b[0m\u001b[0mX\u001b[0m\u001b[0;34m,\u001b[0m \u001b[0my\u001b[0m\u001b[0;34m,\u001b[0m \u001b[0msample_weight\u001b[0m\u001b[0;34m,\u001b[0m \u001b[0msolver_type\u001b[0m\u001b[0;34m,\u001b[0m \u001b[0mkernel\u001b[0m\u001b[0;34m,\u001b[0m \u001b[0mrandom_seed\u001b[0m\u001b[0;34m=\u001b[0m\u001b[0mseed\u001b[0m\u001b[0;34m)\u001b[0m\u001b[0;34m\u001b[0m\u001b[0;34m\u001b[0m\u001b[0m\n\u001b[0m\u001b[1;32m    253\u001b[0m         \u001b[0;31m# see comment on the other call to np.iinfo in this file\u001b[0m\u001b[0;34m\u001b[0m\u001b[0;34m\u001b[0m\u001b[0m\n\u001b[1;32m    254\u001b[0m \u001b[0;34m\u001b[0m\u001b[0m\n",
            "\u001b[0;32m/usr/local/lib/python3.10/dist-packages/sklearn/svm/_base.py\u001b[0m in \u001b[0;36m_dense_fit\u001b[0;34m(self, X, y, sample_weight, solver_type, kernel, random_seed)\u001b[0m\n\u001b[1;32m    310\u001b[0m             \u001b[0;31m# TODO: add keyword copy to copy on demand\u001b[0m\u001b[0;34m\u001b[0m\u001b[0;34m\u001b[0m\u001b[0m\n\u001b[1;32m    311\u001b[0m             \u001b[0mself\u001b[0m\u001b[0;34m.\u001b[0m\u001b[0m__Xfit\u001b[0m \u001b[0;34m=\u001b[0m \u001b[0mX\u001b[0m\u001b[0;34m\u001b[0m\u001b[0;34m\u001b[0m\u001b[0m\n\u001b[0;32m--> 312\u001b[0;31m             \u001b[0mX\u001b[0m \u001b[0;34m=\u001b[0m \u001b[0mself\u001b[0m\u001b[0;34m.\u001b[0m\u001b[0m_compute_kernel\u001b[0m\u001b[0;34m(\u001b[0m\u001b[0mX\u001b[0m\u001b[0;34m)\u001b[0m\u001b[0;34m\u001b[0m\u001b[0;34m\u001b[0m\u001b[0m\n\u001b[0m\u001b[1;32m    313\u001b[0m \u001b[0;34m\u001b[0m\u001b[0m\n\u001b[1;32m    314\u001b[0m             \u001b[0;32mif\u001b[0m \u001b[0mX\u001b[0m\u001b[0;34m.\u001b[0m\u001b[0mshape\u001b[0m\u001b[0;34m[\u001b[0m\u001b[0;36m0\u001b[0m\u001b[0;34m]\u001b[0m \u001b[0;34m!=\u001b[0m \u001b[0mX\u001b[0m\u001b[0;34m.\u001b[0m\u001b[0mshape\u001b[0m\u001b[0;34m[\u001b[0m\u001b[0;36m1\u001b[0m\u001b[0;34m]\u001b[0m\u001b[0;34m:\u001b[0m\u001b[0;34m\u001b[0m\u001b[0;34m\u001b[0m\u001b[0m\n",
            "\u001b[0;32m/usr/local/lib/python3.10/dist-packages/sklearn/svm/_base.py\u001b[0m in \u001b[0;36m_compute_kernel\u001b[0;34m(self, X)\u001b[0m\n\u001b[1;32m    511\u001b[0m             \u001b[0;31m# in the case of precomputed kernel given as a function, we\u001b[0m\u001b[0;34m\u001b[0m\u001b[0;34m\u001b[0m\u001b[0m\n\u001b[1;32m    512\u001b[0m             \u001b[0;31m# have to compute explicitly the kernel matrix\u001b[0m\u001b[0;34m\u001b[0m\u001b[0;34m\u001b[0m\u001b[0m\n\u001b[0;32m--> 513\u001b[0;31m             \u001b[0mkernel\u001b[0m \u001b[0;34m=\u001b[0m \u001b[0mself\u001b[0m\u001b[0;34m.\u001b[0m\u001b[0mkernel\u001b[0m\u001b[0;34m(\u001b[0m\u001b[0mX\u001b[0m\u001b[0;34m,\u001b[0m \u001b[0mself\u001b[0m\u001b[0;34m.\u001b[0m\u001b[0m__Xfit\u001b[0m\u001b[0;34m)\u001b[0m\u001b[0;34m\u001b[0m\u001b[0;34m\u001b[0m\u001b[0m\n\u001b[0m\u001b[1;32m    514\u001b[0m             \u001b[0;32mif\u001b[0m \u001b[0msp\u001b[0m\u001b[0;34m.\u001b[0m\u001b[0missparse\u001b[0m\u001b[0;34m(\u001b[0m\u001b[0mkernel\u001b[0m\u001b[0;34m)\u001b[0m\u001b[0;34m:\u001b[0m\u001b[0;34m\u001b[0m\u001b[0;34m\u001b[0m\u001b[0m\n\u001b[1;32m    515\u001b[0m                 \u001b[0mkernel\u001b[0m \u001b[0;34m=\u001b[0m \u001b[0mkernel\u001b[0m\u001b[0;34m.\u001b[0m\u001b[0mtoarray\u001b[0m\u001b[0;34m(\u001b[0m\u001b[0;34m)\u001b[0m\u001b[0;34m\u001b[0m\u001b[0;34m\u001b[0m\u001b[0m\n",
            "\u001b[0;32m/usr/local/lib/python3.10/dist-packages/qiskit_machine_learning/kernels/quantum_kernel.py\u001b[0m in \u001b[0;36mevaluate\u001b[0;34m(self, x_vec, y_vec)\u001b[0m\n\u001b[1;32m    517\u001b[0m             \u001b[0mkernel\u001b[0m \u001b[0;34m=\u001b[0m \u001b[0mself\u001b[0m\u001b[0;34m.\u001b[0m\u001b[0m_calculate_kernel_statevector\u001b[0m\u001b[0;34m(\u001b[0m\u001b[0mx_vec\u001b[0m\u001b[0;34m,\u001b[0m \u001b[0my_vec\u001b[0m\u001b[0;34m,\u001b[0m \u001b[0mis_symmetric\u001b[0m\u001b[0;34m,\u001b[0m \u001b[0mkernel\u001b[0m\u001b[0;34m)\u001b[0m\u001b[0;34m\u001b[0m\u001b[0;34m\u001b[0m\u001b[0m\n\u001b[1;32m    518\u001b[0m         \u001b[0;32melse\u001b[0m\u001b[0;34m:\u001b[0m\u001b[0;34m\u001b[0m\u001b[0;34m\u001b[0m\u001b[0m\n\u001b[0;32m--> 519\u001b[0;31m             \u001b[0mkernel\u001b[0m \u001b[0;34m=\u001b[0m \u001b[0mself\u001b[0m\u001b[0;34m.\u001b[0m\u001b[0m_calculate_kernel\u001b[0m\u001b[0;34m(\u001b[0m\u001b[0mx_vec\u001b[0m\u001b[0;34m,\u001b[0m \u001b[0my_vec\u001b[0m\u001b[0;34m,\u001b[0m \u001b[0mis_symmetric\u001b[0m\u001b[0;34m,\u001b[0m \u001b[0mkernel\u001b[0m\u001b[0;34m)\u001b[0m\u001b[0;34m\u001b[0m\u001b[0;34m\u001b[0m\u001b[0m\n\u001b[0m\u001b[1;32m    520\u001b[0m \u001b[0;34m\u001b[0m\u001b[0m\n\u001b[1;32m    521\u001b[0m         \u001b[0;32mreturn\u001b[0m \u001b[0mkernel\u001b[0m\u001b[0;34m\u001b[0m\u001b[0;34m\u001b[0m\u001b[0m\n",
            "\u001b[0;32m/usr/local/lib/python3.10/dist-packages/qiskit_machine_learning/kernels/quantum_kernel.py\u001b[0m in \u001b[0;36m_calculate_kernel\u001b[0;34m(self, x_vec, y_vec, is_symmetric, kernel)\u001b[0m\n\u001b[1;32m    652\u001b[0m                 )\n\u001b[1;32m    653\u001b[0m \u001b[0;34m\u001b[0m\u001b[0m\n\u001b[0;32m--> 654\u001b[0;31m             \u001b[0mresults\u001b[0m \u001b[0;34m=\u001b[0m \u001b[0mself\u001b[0m\u001b[0;34m.\u001b[0m\u001b[0m_quantum_instance\u001b[0m\u001b[0;34m.\u001b[0m\u001b[0mexecute\u001b[0m\u001b[0;34m(\u001b[0m\u001b[0mcircuits\u001b[0m\u001b[0;34m,\u001b[0m \u001b[0mhad_transpiled\u001b[0m\u001b[0;34m=\u001b[0m\u001b[0;32mTrue\u001b[0m\u001b[0;34m)\u001b[0m\u001b[0;34m\u001b[0m\u001b[0;34m\u001b[0m\u001b[0m\n\u001b[0m\u001b[1;32m    655\u001b[0m \u001b[0;34m\u001b[0m\u001b[0m\n\u001b[1;32m    656\u001b[0m             matrix_elements = [\n",
            "\u001b[0;32m/usr/local/lib/python3.10/dist-packages/qiskit/utils/quantum_instance.py\u001b[0m in \u001b[0;36mexecute\u001b[0;34m(self, circuits, had_transpiled)\u001b[0m\n\u001b[1;32m    708\u001b[0m \u001b[0;34m\u001b[0m\u001b[0m\n\u001b[1;32m    709\u001b[0m         \u001b[0;32melse\u001b[0m\u001b[0;34m:\u001b[0m\u001b[0;34m\u001b[0m\u001b[0;34m\u001b[0m\u001b[0m\n\u001b[0;32m--> 710\u001b[0;31m             result = run_circuits(\n\u001b[0m\u001b[1;32m    711\u001b[0m                 \u001b[0mcircuits\u001b[0m\u001b[0;34m,\u001b[0m\u001b[0;34m\u001b[0m\u001b[0;34m\u001b[0m\u001b[0m\n\u001b[1;32m    712\u001b[0m                 \u001b[0mself\u001b[0m\u001b[0;34m.\u001b[0m\u001b[0m_backend\u001b[0m\u001b[0;34m,\u001b[0m\u001b[0;34m\u001b[0m\u001b[0;34m\u001b[0m\u001b[0m\n",
            "\u001b[0;32m/usr/local/lib/python3.10/dist-packages/qiskit/utils/deprecation.py\u001b[0m in \u001b[0;36mwrapper\u001b[0;34m(*args, **kwargs)\u001b[0m\n\u001b[1;32m     94\u001b[0m         \u001b[0;32mdef\u001b[0m \u001b[0mwrapper\u001b[0m\u001b[0;34m(\u001b[0m\u001b[0;34m*\u001b[0m\u001b[0margs\u001b[0m\u001b[0;34m,\u001b[0m \u001b[0;34m**\u001b[0m\u001b[0mkwargs\u001b[0m\u001b[0;34m)\u001b[0m\u001b[0;34m:\u001b[0m\u001b[0;34m\u001b[0m\u001b[0;34m\u001b[0m\u001b[0m\n\u001b[1;32m     95\u001b[0m             \u001b[0mwarnings\u001b[0m\u001b[0;34m.\u001b[0m\u001b[0mwarn\u001b[0m\u001b[0;34m(\u001b[0m\u001b[0mmsg\u001b[0m\u001b[0;34m,\u001b[0m \u001b[0mcategory\u001b[0m\u001b[0;34m=\u001b[0m\u001b[0mcategory\u001b[0m\u001b[0;34m,\u001b[0m \u001b[0mstacklevel\u001b[0m\u001b[0;34m=\u001b[0m\u001b[0;36m2\u001b[0m\u001b[0;34m)\u001b[0m\u001b[0;34m\u001b[0m\u001b[0;34m\u001b[0m\u001b[0m\n\u001b[0;32m---> 96\u001b[0;31m             \u001b[0;32mreturn\u001b[0m \u001b[0mfunc\u001b[0m\u001b[0;34m(\u001b[0m\u001b[0;34m*\u001b[0m\u001b[0margs\u001b[0m\u001b[0;34m,\u001b[0m \u001b[0;34m**\u001b[0m\u001b[0mkwargs\u001b[0m\u001b[0;34m)\u001b[0m\u001b[0;34m\u001b[0m\u001b[0;34m\u001b[0m\u001b[0m\n\u001b[0m\u001b[1;32m     97\u001b[0m \u001b[0;34m\u001b[0m\u001b[0m\n\u001b[1;32m     98\u001b[0m         \u001b[0madd_deprecation_to_docstring\u001b[0m\u001b[0;34m(\u001b[0m\u001b[0mwrapper\u001b[0m\u001b[0;34m,\u001b[0m \u001b[0mmsg\u001b[0m\u001b[0;34m,\u001b[0m \u001b[0msince\u001b[0m\u001b[0;34m=\u001b[0m\u001b[0msince\u001b[0m\u001b[0;34m,\u001b[0m \u001b[0mpending\u001b[0m\u001b[0;34m=\u001b[0m\u001b[0mpending\u001b[0m\u001b[0;34m)\u001b[0m\u001b[0;34m\u001b[0m\u001b[0;34m\u001b[0m\u001b[0m\n",
            "\u001b[0;32m/usr/local/lib/python3.10/dist-packages/qiskit/utils/run_circuits.py\u001b[0m in \u001b[0;36mrun_circuits\u001b[0;34m(circuits, backend, qjob_config, backend_options, noise_config, run_config, job_callback, max_job_retries)\u001b[0m\n\u001b[1;32m    218\u001b[0m                 \u001b[0;31m# try to get result if possible\u001b[0m\u001b[0;34m\u001b[0m\u001b[0;34m\u001b[0m\u001b[0m\n\u001b[1;32m    219\u001b[0m                 \u001b[0;32mwhile\u001b[0m \u001b[0;32mTrue\u001b[0m\u001b[0;34m:\u001b[0m\u001b[0;34m\u001b[0m\u001b[0;34m\u001b[0m\u001b[0m\n\u001b[0;32m--> 220\u001b[0;31m                     job_status = _safe_get_job_status(\n\u001b[0m\u001b[1;32m    221\u001b[0m                         \u001b[0mjob\u001b[0m\u001b[0;34m,\u001b[0m \u001b[0mjob_id\u001b[0m\u001b[0;34m,\u001b[0m \u001b[0mmax_job_retries\u001b[0m\u001b[0;34m,\u001b[0m \u001b[0mqjob_config\u001b[0m\u001b[0;34m[\u001b[0m\u001b[0;34m\"wait\"\u001b[0m\u001b[0;34m]\u001b[0m\u001b[0;34m\u001b[0m\u001b[0;34m\u001b[0m\u001b[0m\n\u001b[1;32m    222\u001b[0m                     )  # if the status was broken, an Exception would be raised anyway\n",
            "\u001b[0;32m/usr/local/lib/python3.10/dist-packages/qiskit/utils/run_circuits.py\u001b[0m in \u001b[0;36m_safe_get_job_status\u001b[0;34m(job, job_id, max_job_retries, wait)\u001b[0m\n\u001b[1;32m     98\u001b[0m             \u001b[0mtime\u001b[0m\u001b[0;34m.\u001b[0m\u001b[0msleep\u001b[0m\u001b[0;34m(\u001b[0m\u001b[0mwait\u001b[0m\u001b[0;34m)\u001b[0m\u001b[0;34m\u001b[0m\u001b[0;34m\u001b[0m\u001b[0m\n\u001b[1;32m     99\u001b[0m         \u001b[0;32mexcept\u001b[0m \u001b[0mException\u001b[0m \u001b[0;32mas\u001b[0m \u001b[0mex\u001b[0m\u001b[0;34m:\u001b[0m\u001b[0;34m\u001b[0m\u001b[0;34m\u001b[0m\u001b[0m\n\u001b[0;32m--> 100\u001b[0;31m             raise QiskitError(\n\u001b[0m\u001b[1;32m    101\u001b[0m                 \u001b[0;34mf\"job id: {job_id}, status: 'FAIL_TO_GET_STATUS' Unknown error: ({ex})\"\u001b[0m\u001b[0;34m\u001b[0m\u001b[0;34m\u001b[0m\u001b[0m\n\u001b[1;32m    102\u001b[0m             ) from ex\n",
            "\u001b[0;31mQiskitError\u001b[0m: \"job id: cpmaqnpdmm10008nzqr0, status: 'FAIL_TO_GET_STATUS' Unknown error: ('status')\""
          ]
        }
      ],
      "source": [
        "%%time\n",
        "quantum_svc = SVC(kernel=quantum_kernel.evaluate)\n",
        "quantum_svc.fit(train_features_rbf, y_train)"
      ]
    },
    {
      "cell_type": "code",
      "execution_count": null,
      "id": "af5bcec1-634c-433c-bc32-5478c120c6f0",
      "metadata": {
        "tags": [],
        "id": "af5bcec1-634c-433c-bc32-5478c120c6f0",
        "outputId": "8b11152b-39f6-47b8-cfcd-2e5f2adb5384"
      },
      "outputs": [
        {
          "name": "stdout",
          "output_type": "stream",
          "text": [
            " Callable quantum kernel classification test score: 0.7142857142857143\n",
            "CPU times: user 5.4 s, sys: 256 ms, total: 5.66 s\n",
            "Wall time: 5.34 s\n"
          ]
        }
      ],
      "source": [
        "%%time\n",
        "quantum_score = quantum_svc.score(test_features_rbf, y_test)\n",
        "print(f\" Callable quantum kernel classification test score: {quantum_score}\")"
      ]
    },
    {
      "cell_type": "code",
      "execution_count": null,
      "id": "f4da0bd8-090c-41e7-bc5a-a562e10d7223",
      "metadata": {
        "id": "f4da0bd8-090c-41e7-bc5a-a562e10d7223",
        "outputId": "08ba320b-2bd4-4bce-9666-c51904a25ae2"
      },
      "outputs": [
        {
          "name": "stdout",
          "output_type": "stream",
          "text": [
            " Callable quantum kernel classification train score: 0.625\n",
            "CPU times: user 6.06 s, sys: 107 ms, total: 6.17 s\n",
            "Wall time: 6.11 s\n"
          ]
        }
      ],
      "source": [
        "%%time\n",
        "quantum_score = quantum_svc.score(train_features_rbf, y_train)\n",
        "print(f\" Callable quantum kernel classification train score: {quantum_score}\")"
      ]
    },
    {
      "cell_type": "code",
      "execution_count": null,
      "id": "eb9010dd-1121-43f3-a43d-7dd0c62282cf",
      "metadata": {
        "tags": [],
        "id": "eb9010dd-1121-43f3-a43d-7dd0c62282cf",
        "outputId": "5e7a6a09-5980-48c1-9640-186e53df4a80"
      },
      "outputs": [
        {
          "data": {
            "image/png": "[encoded data removed]",
            "text/plain": [
              "<Figure size 371.107x535.111 with 1 Axes>"
            ]
          },
          "execution_count": 48,
          "metadata": {},
          "output_type": "execute_result"
        }
      ],
      "source": [
        "feature_map2 = PauliFeatureMap(num_features, reps=1, paulis=['Z', 'XX'])\n",
        "feature_map2.draw()"
      ]
    },
    {
      "cell_type": "code",
      "execution_count": null,
      "id": "c4b7c16d-63cf-40dc-acf3-72ce1f6d3441",
      "metadata": {
        "tags": [],
        "id": "c4b7c16d-63cf-40dc-acf3-72ce1f6d3441",
        "outputId": "a87d0a9a-7a01-4c19-c32e-bebfa6b33655"
      },
      "outputs": [
        {
          "data": {
            "image/png": "[encoded data removed]",
            "text/plain": [
              "<Figure size 2210.55x2290.94 with 1 Axes>"
            ]
          },
          "execution_count": 49,
          "metadata": {},
          "output_type": "execute_result"
        }
      ],
      "source": [
        "feature_map2.decompose().draw(output='mpl')"
      ]
    },
    {
      "cell_type": "code",
      "execution_count": null,
      "id": "ec201279-8229-461c-96c5-8e75c3c1da4e",
      "metadata": {
        "tags": [],
        "id": "ec201279-8229-461c-96c5-8e75c3c1da4e"
      },
      "outputs": [],
      "source": [
        "from qiskit import Aer, execute\n",
        "backend = Aer.get_backend(\"qasm_simulator\")"
      ]
    },
    {
      "cell_type": "code",
      "execution_count": null,
      "id": "859fe486-f132-4e1b-ac05-5cd3d7c390ef",
      "metadata": {
        "tags": [],
        "id": "859fe486-f132-4e1b-ac05-5cd3d7c390ef"
      },
      "outputs": [],
      "source": [
        "from qiskit_machine_learning.kernels import QuantumKernel\n",
        "quantum_kernel2 = QuantumKernel(feature_map=feature_map2, quantum_instance=backend)"
      ]
    },
    {
      "cell_type": "code",
      "execution_count": null,
      "id": "33585254-5c3d-472e-a613-976aca8c8054",
      "metadata": {
        "tags": [],
        "id": "33585254-5c3d-472e-a613-976aca8c8054",
        "outputId": "c4d99e96-9d1c-40a1-bf87-e31b9199fde1"
      },
      "outputs": [
        {
          "name": "stdout",
          "output_type": "stream",
          "text": [
            "CPU times: user 5.97 s, sys: 155 ms, total: 6.12 s\n",
            "Wall time: 6.07 s\n"
          ]
        },
        {
          "data": {
            "text/html": [
              "<style>#sk-container-id-12 {color: black;background-color: white;}#sk-container-id-12 pre{padding: 0;}#sk-container-id-12 div.sk-toggleable {background-color: white;}#sk-container-id-12 label.sk-toggleable__label {cursor: pointer;display: block;width: 100%;margin-bottom: 0;padding: 0.3em;box-sizing: border-box;text-align: center;}#sk-container-id-12 label.sk-toggleable__label-arrow:before {content: \"▸\";float: left;margin-right: 0.25em;color: #696969;}#sk-container-id-12 label.sk-toggleable__label-arrow:hover:before {color: black;}#sk-container-id-12 div.sk-estimator:hover label.sk-toggleable__label-arrow:before {color: black;}#sk-container-id-12 div.sk-toggleable__content {max-height: 0;max-width: 0;overflow: hidden;text-align: left;background-color: #f0f8ff;}#sk-container-id-12 div.sk-toggleable__content pre {margin: 0.2em;color: black;border-radius: 0.25em;background-color: #f0f8ff;}#sk-container-id-12 input.sk-toggleable__control:checked~div.sk-toggleable__content {max-height: 200px;max-width: 100%;overflow: auto;}#sk-container-id-12 input.sk-toggleable__control:checked~label.sk-toggleable__label-arrow:before {content: \"▾\";}#sk-container-id-12 div.sk-estimator input.sk-toggleable__control:checked~label.sk-toggleable__label {background-color: #d4ebff;}#sk-container-id-12 div.sk-label input.sk-toggleable__control:checked~label.sk-toggleable__label {background-color: #d4ebff;}#sk-container-id-12 input.sk-hidden--visually {border: 0;clip: rect(1px 1px 1px 1px);clip: rect(1px, 1px, 1px, 1px);height: 1px;margin: -1px;overflow: hidden;padding: 0;position: absolute;width: 1px;}#sk-container-id-12 div.sk-estimator {font-family: monospace;background-color: #f0f8ff;border: 1px dotted black;border-radius: 0.25em;box-sizing: border-box;margin-bottom: 0.5em;}#sk-container-id-12 div.sk-estimator:hover {background-color: #d4ebff;}#sk-container-id-12 div.sk-parallel-item::after {content: \"\";width: 100%;border-bottom: 1px solid gray;flex-grow: 1;}#sk-container-id-12 div.sk-label:hover label.sk-toggleable__label {background-color: #d4ebff;}#sk-container-id-12 div.sk-serial::before {content: \"\";position: absolute;border-left: 1px solid gray;box-sizing: border-box;top: 0;bottom: 0;left: 50%;z-index: 0;}#sk-container-id-12 div.sk-serial {display: flex;flex-direction: column;align-items: center;background-color: white;padding-right: 0.2em;padding-left: 0.2em;position: relative;}#sk-container-id-12 div.sk-item {position: relative;z-index: 1;}#sk-container-id-12 div.sk-parallel {display: flex;align-items: stretch;justify-content: center;background-color: white;position: relative;}#sk-container-id-12 div.sk-item::before, #sk-container-id-12 div.sk-parallel-item::before {content: \"\";position: absolute;border-left: 1px solid gray;box-sizing: border-box;top: 0;bottom: 0;left: 50%;z-index: -1;}#sk-container-id-12 div.sk-parallel-item {display: flex;flex-direction: column;z-index: 1;position: relative;background-color: white;}#sk-container-id-12 div.sk-parallel-item:first-child::after {align-self: flex-end;width: 50%;}#sk-container-id-12 div.sk-parallel-item:last-child::after {align-self: flex-start;width: 50%;}#sk-container-id-12 div.sk-parallel-item:only-child::after {width: 0;}#sk-container-id-12 div.sk-dashed-wrapped {border: 1px dashed gray;margin: 0 0.4em 0.5em 0.4em;box-sizing: border-box;padding-bottom: 0.4em;background-color: white;}#sk-container-id-12 div.sk-label label {font-family: monospace;font-weight: bold;display: inline-block;line-height: 1.2em;}#sk-container-id-12 div.sk-label-container {text-align: center;}#sk-container-id-12 div.sk-container {/* jupyter's `normalize.less` sets `[hidden] { display: none; }` but bootstrap.min.css set `[hidden] { display: none !important; }` so we also need the `!important` here to be able to override the default hidden behavior on the sphinx rendered scikit-learn.org. See: https://github.com/scikit-learn/scikit-learn/issues/21755 */display: inline-block !important;position: relative;}#sk-container-id-12 div.sk-text-repr-fallback {display: none;}</style><div id=\"sk-container-id-12\" class=\"sk-top-container\"><div class=\"sk-text-repr-fallback\"><pre>SVC(kernel=&lt;bound method QuantumKernel.evaluate of &lt;qiskit_machine_learning.kernels.quantum_kernel.QuantumKernel object at 0x7fd284b43b50&gt;&gt;)</pre><b>In a Jupyter environment, please rerun this cell to show the HTML representation or trust the notebook. <br />On GitHub, the HTML representation is unable to render, please try loading this page with nbviewer.org.</b></div><div class=\"sk-container\" hidden><div class=\"sk-item\"><div class=\"sk-estimator sk-toggleable\"><input class=\"sk-toggleable__control sk-hidden--visually\" id=\"sk-estimator-id-12\" type=\"checkbox\" checked><label for=\"sk-estimator-id-12\" class=\"sk-toggleable__label sk-toggleable__label-arrow\">SVC</label><div class=\"sk-toggleable__content\"><pre>SVC(kernel=&lt;bound method QuantumKernel.evaluate of &lt;qiskit_machine_learning.kernels.quantum_kernel.QuantumKernel object at 0x7fd284b43b50&gt;&gt;)</pre></div></div></div></div></div>"
            ],
            "text/plain": [
              "SVC(kernel=<bound method QuantumKernel.evaluate of <qiskit_machine_learning.kernels.quantum_kernel.QuantumKernel object at 0x7fd284b43b50>>)"
            ]
          },
          "execution_count": 201,
          "metadata": {},
          "output_type": "execute_result"
        }
      ],
      "source": [
        "%%time\n",
        "quantum_svc2 = SVC(kernel=quantum_kernel2.evaluate)\n",
        "quantum_svc2.fit(train_features_rbf, y_train)"
      ]
    },
    {
      "cell_type": "code",
      "execution_count": null,
      "id": "f3f87898-1f1b-4cf3-8483-84d297aba289",
      "metadata": {
        "id": "f3f87898-1f1b-4cf3-8483-84d297aba289",
        "outputId": "ee2fe43d-8112-485b-a18e-57f3b78cbd6a"
      },
      "outputs": [
        {
          "name": "stdout",
          "output_type": "stream",
          "text": [
            " Callable quantum kernel classification test score: 0.7142857142857143\n"
          ]
        }
      ],
      "source": [
        "quantum_score2 = quantum_svc2.score(test_features_rbf, y_test)\n",
        "print(f\" Callable quantum kernel classification test score: {quantum_score2}\")"
      ]
    },
    {
      "cell_type": "code",
      "execution_count": null,
      "id": "8160daef-62c5-478c-ae6b-415c8121e82d",
      "metadata": {
        "id": "8160daef-62c5-478c-ae6b-415c8121e82d",
        "outputId": "4494a95e-19c8-40fc-d165-db2eb5ee8cf6"
      },
      "outputs": [
        {
          "name": "stdout",
          "output_type": "stream",
          "text": [
            " Callable quantum kernel classification train score: 0.625\n"
          ]
        }
      ],
      "source": [
        "quantum_score2 = quantum_svc2.score(train_features_rbf, y_train)\n",
        "print(f\" Callable quantum kernel classification train score: {quantum_score2}\")"
      ]
    },
    {
      "cell_type": "markdown",
      "id": "aae6a5d8-e4b7-4841-a0bf-e0448809d5f8",
      "metadata": {
        "id": "aae6a5d8-e4b7-4841-a0bf-e0448809d5f8"
      },
      "source": [
        "QSVM"
      ]
    },
    {
      "cell_type": "code",
      "execution_count": null,
      "id": "514c52f3-c33e-4768-bfa8-c5b4b3010e7a",
      "metadata": {
        "tags": [],
        "id": "514c52f3-c33e-4768-bfa8-c5b4b3010e7a"
      },
      "outputs": [],
      "source": [
        "from qiskit_machine_learning.algorithms import QSVC"
      ]
    },
    {
      "cell_type": "code",
      "execution_count": null,
      "id": "759fc7af-9b0f-4d68-b83d-3f42532f95c4",
      "metadata": {
        "tags": [],
        "id": "759fc7af-9b0f-4d68-b83d-3f42532f95c4",
        "outputId": "ed89fe5c-6965-4651-8f40-475a58bc9186"
      },
      "outputs": [
        {
          "name": "stdout",
          "output_type": "stream",
          "text": [
            "CPU times: user 6.37 s, sys: 490 ms, total: 6.86 s\n",
            "Wall time: 6.36 s\n"
          ]
        },
        {
          "data": {
            "text/html": [
              "<style>#sk-container-id-13 {color: black;background-color: white;}#sk-container-id-13 pre{padding: 0;}#sk-container-id-13 div.sk-toggleable {background-color: white;}#sk-container-id-13 label.sk-toggleable__label {cursor: pointer;display: block;width: 100%;margin-bottom: 0;padding: 0.3em;box-sizing: border-box;text-align: center;}#sk-container-id-13 label.sk-toggleable__label-arrow:before {content: \"▸\";float: left;margin-right: 0.25em;color: #696969;}#sk-container-id-13 label.sk-toggleable__label-arrow:hover:before {color: black;}#sk-container-id-13 div.sk-estimator:hover label.sk-toggleable__label-arrow:before {color: black;}#sk-container-id-13 div.sk-toggleable__content {max-height: 0;max-width: 0;overflow: hidden;text-align: left;background-color: #f0f8ff;}#sk-container-id-13 div.sk-toggleable__content pre {margin: 0.2em;color: black;border-radius: 0.25em;background-color: #f0f8ff;}#sk-container-id-13 input.sk-toggleable__control:checked~div.sk-toggleable__content {max-height: 200px;max-width: 100%;overflow: auto;}#sk-container-id-13 input.sk-toggleable__control:checked~label.sk-toggleable__label-arrow:before {content: \"▾\";}#sk-container-id-13 div.sk-estimator input.sk-toggleable__control:checked~label.sk-toggleable__label {background-color: #d4ebff;}#sk-container-id-13 div.sk-label input.sk-toggleable__control:checked~label.sk-toggleable__label {background-color: #d4ebff;}#sk-container-id-13 input.sk-hidden--visually {border: 0;clip: rect(1px 1px 1px 1px);clip: rect(1px, 1px, 1px, 1px);height: 1px;margin: -1px;overflow: hidden;padding: 0;position: absolute;width: 1px;}#sk-container-id-13 div.sk-estimator {font-family: monospace;background-color: #f0f8ff;border: 1px dotted black;border-radius: 0.25em;box-sizing: border-box;margin-bottom: 0.5em;}#sk-container-id-13 div.sk-estimator:hover {background-color: #d4ebff;}#sk-container-id-13 div.sk-parallel-item::after {content: \"\";width: 100%;border-bottom: 1px solid gray;flex-grow: 1;}#sk-container-id-13 div.sk-label:hover label.sk-toggleable__label {background-color: #d4ebff;}#sk-container-id-13 div.sk-serial::before {content: \"\";position: absolute;border-left: 1px solid gray;box-sizing: border-box;top: 0;bottom: 0;left: 50%;z-index: 0;}#sk-container-id-13 div.sk-serial {display: flex;flex-direction: column;align-items: center;background-color: white;padding-right: 0.2em;padding-left: 0.2em;position: relative;}#sk-container-id-13 div.sk-item {position: relative;z-index: 1;}#sk-container-id-13 div.sk-parallel {display: flex;align-items: stretch;justify-content: center;background-color: white;position: relative;}#sk-container-id-13 div.sk-item::before, #sk-container-id-13 div.sk-parallel-item::before {content: \"\";position: absolute;border-left: 1px solid gray;box-sizing: border-box;top: 0;bottom: 0;left: 50%;z-index: -1;}#sk-container-id-13 div.sk-parallel-item {display: flex;flex-direction: column;z-index: 1;position: relative;background-color: white;}#sk-container-id-13 div.sk-parallel-item:first-child::after {align-self: flex-end;width: 50%;}#sk-container-id-13 div.sk-parallel-item:last-child::after {align-self: flex-start;width: 50%;}#sk-container-id-13 div.sk-parallel-item:only-child::after {width: 0;}#sk-container-id-13 div.sk-dashed-wrapped {border: 1px dashed gray;margin: 0 0.4em 0.5em 0.4em;box-sizing: border-box;padding-bottom: 0.4em;background-color: white;}#sk-container-id-13 div.sk-label label {font-family: monospace;font-weight: bold;display: inline-block;line-height: 1.2em;}#sk-container-id-13 div.sk-label-container {text-align: center;}#sk-container-id-13 div.sk-container {/* jupyter's `normalize.less` sets `[hidden] { display: none; }` but bootstrap.min.css set `[hidden] { display: none !important; }` so we also need the `!important` here to be able to override the default hidden behavior on the sphinx rendered scikit-learn.org. See: https://github.com/scikit-learn/scikit-learn/issues/21755 */display: inline-block !important;position: relative;}#sk-container-id-13 div.sk-text-repr-fallback {display: none;}</style><div id=\"sk-container-id-13\" class=\"sk-top-container\"><div class=\"sk-text-repr-fallback\"><pre>QSVC(C=1.0, break_ties=False, cache_size=200, class_weight=None, coef0=0.0,\n",
              "     decision_function_shape=&#x27;ovr&#x27;, degree=3, gamma=&#x27;scale&#x27;, max_iter=-1,\n",
              "     probability=False,\n",
              "     quantum_kernel=&lt;qiskit_machine_learning.kernels.quantum_kernel.QuantumKernel object at 0x7fd282ea3a00&gt;,\n",
              "     random_state=None, shrinking=True, tol=0.001, verbose=False)</pre><b>In a Jupyter environment, please rerun this cell to show the HTML representation or trust the notebook. <br />On GitHub, the HTML representation is unable to render, please try loading this page with nbviewer.org.</b></div><div class=\"sk-container\" hidden><div class=\"sk-item\"><div class=\"sk-estimator sk-toggleable\"><input class=\"sk-toggleable__control sk-hidden--visually\" id=\"sk-estimator-id-13\" type=\"checkbox\" checked><label for=\"sk-estimator-id-13\" class=\"sk-toggleable__label sk-toggleable__label-arrow\">QSVC</label><div class=\"sk-toggleable__content\"><pre>QSVC(C=1.0, break_ties=False, cache_size=200, class_weight=None, coef0=0.0,\n",
              "     decision_function_shape=&#x27;ovr&#x27;, degree=3, gamma=&#x27;scale&#x27;, max_iter=-1,\n",
              "     probability=False,\n",
              "     quantum_kernel=&lt;qiskit_machine_learning.kernels.quantum_kernel.QuantumKernel object at 0x7fd282ea3a00&gt;,\n",
              "     random_state=None, shrinking=True, tol=0.001, verbose=False)</pre></div></div></div></div></div>"
            ],
            "text/plain": [
              "QSVC(C=1.0, break_ties=False, cache_size=200, class_weight=None, coef0=0.0,\n",
              "     decision_function_shape='ovr', degree=3, gamma='scale', max_iter=-1,\n",
              "     probability=False,\n",
              "     quantum_kernel=<qiskit_machine_learning.kernels.quantum_kernel.QuantumKernel object at 0x7fd282ea3a00>,\n",
              "     random_state=None, shrinking=True, tol=0.001, verbose=False)"
            ]
          },
          "execution_count": 204,
          "metadata": {},
          "output_type": "execute_result"
        }
      ],
      "source": [
        "%%time\n",
        "\n",
        "qsvc = QSVC(quantum_kernel=quantum_kernel)\n",
        "qsvc.fit(train_features_rbf,y_train)"
      ]
    },
    {
      "cell_type": "code",
      "execution_count": null,
      "id": "bc57eb6f-d560-443d-a425-e1cb36731859",
      "metadata": {
        "tags": [],
        "id": "bc57eb6f-d560-443d-a425-e1cb36731859",
        "outputId": "286f7285-ba6b-44d8-a1f0-81b4c97e2cfb"
      },
      "outputs": [
        {
          "name": "stdout",
          "output_type": "stream",
          "text": [
            " Callable quantum kernel classification test score: 0.7142857142857143\n"
          ]
        }
      ],
      "source": [
        "quantum_score2 = qsvc.score(test_features_rbf, y_test)\n",
        "print(f\" Callable quantum kernel classification test score: {quantum_score2}\")"
      ]
    },
    {
      "cell_type": "code",
      "execution_count": null,
      "id": "98877945-6bd9-471e-a91d-67f81b99d7c9",
      "metadata": {
        "tags": [],
        "id": "98877945-6bd9-471e-a91d-67f81b99d7c9",
        "outputId": "b580fe05-0db5-4abc-c6fc-79ffb4322371"
      },
      "outputs": [
        {
          "name": "stdout",
          "output_type": "stream",
          "text": [
            " Callable quantum kernel classification train score: 0.625\n"
          ]
        }
      ],
      "source": [
        "quantum_score2 = qsvc.score(train_features_rbf, y_train)\n",
        "print(f\" Callable quantum kernel classification train score: {quantum_score2}\")"
      ]
    },
    {
      "cell_type": "markdown",
      "id": "e2159c90-685c-450c-8ef1-9b20fdb7c26c",
      "metadata": {
        "id": "e2159c90-685c-450c-8ef1-9b20fdb7c26c"
      },
      "source": [
        "QSVM with Pauli Features Map"
      ]
    },
    {
      "cell_type": "code",
      "execution_count": null,
      "id": "8bf3f12b-389e-41e3-beca-9abffb975230",
      "metadata": {
        "tags": [],
        "id": "8bf3f12b-389e-41e3-beca-9abffb975230"
      },
      "outputs": [],
      "source": [
        "%%time\n",
        "qsvc = QSVC(quantum_kernel=quantum_kernel2)\n",
        "qsvc.fit(train_features_rbf,y_train)"
      ]
    },
    {
      "cell_type": "code",
      "execution_count": null,
      "id": "7907f333-1d15-425a-b6f3-39bee9356be9",
      "metadata": {
        "tags": [],
        "id": "7907f333-1d15-425a-b6f3-39bee9356be9"
      },
      "outputs": [],
      "source": [
        "quantum_score2 = qsvc.score(test_features_rbf, y_test)\n",
        "print(f\" Callable quantum kernel classification test score: {quantum_score2}\")"
      ]
    },
    {
      "cell_type": "code",
      "execution_count": null,
      "id": "819e878f-df71-4c76-aff6-b54f27bc4bc6",
      "metadata": {
        "tags": [],
        "id": "819e878f-df71-4c76-aff6-b54f27bc4bc6"
      },
      "outputs": [],
      "source": [
        "quantum_score2 = qsvc.score(train_features_rbf, y_train)\n",
        "print(f\" Callable quantum kernel classification train score: {quantum_score2}\")"
      ]
    },
    {
      "cell_type": "markdown",
      "id": "c6e8630b-faa5-4b38-acb6-89c5ea9c2f1f",
      "metadata": {
        "id": "c6e8630b-faa5-4b38-acb6-89c5ea9c2f1f"
      },
      "source": [
        "VQC"
      ]
    },
    {
      "cell_type": "code",
      "execution_count": null,
      "id": "7040426b-809b-4780-92e4-f24bce3514b1",
      "metadata": {
        "tags": [],
        "id": "7040426b-809b-4780-92e4-f24bce3514b1",
        "outputId": "7943a4ce-e652-4270-dda0-fe5c3bbfdf5f"
      },
      "outputs": [
        {
          "name": "stdout",
          "output_type": "stream",
          "text": [
            "Requirement already satisfied: qiskit_machine_learning in /opt/conda/lib/python3.10/site-packages (0.6.1)\n",
            "Requirement already satisfied: scikit-learn>=0.20.0 in /opt/conda/lib/python3.10/site-packages (from qiskit_machine_learning) (1.2.2)\n",
            "Requirement already satisfied: scipy>=1.4 in /opt/conda/lib/python3.10/site-packages (from qiskit_machine_learning) (1.9.3)\n",
            "Requirement already satisfied: setuptools>=40.1.0 in /opt/conda/lib/python3.10/site-packages (from qiskit_machine_learning) (67.7.2)\n",
            "Requirement already satisfied: qiskit-terra>=0.22.2 in /opt/conda/lib/python3.10/site-packages (from qiskit_machine_learning) (0.24.1)\n",
            "Requirement already satisfied: numpy>=1.17 in /opt/conda/lib/python3.10/site-packages (from qiskit_machine_learning) (1.23.5)\n",
            "Requirement already satisfied: fastdtw in /opt/conda/lib/python3.10/site-packages (from qiskit_machine_learning) (0.3.4)\n",
            "Requirement already satisfied: psutil>=5 in /opt/conda/lib/python3.10/site-packages (from qiskit_machine_learning) (5.9.4)\n",
            "Requirement already satisfied: dill>=0.3.4 in /opt/conda/lib/python3.10/site-packages (from qiskit_machine_learning) (0.3.6)\n",
            "Requirement already satisfied: rustworkx>=0.12.0 in /opt/conda/lib/python3.10/site-packages (from qiskit-terra>=0.22.2->qiskit_machine_learning) (0.12.1)\n",
            "Requirement already satisfied: python-dateutil>=2.8.0 in /opt/conda/lib/python3.10/site-packages (from qiskit-terra>=0.22.2->qiskit_machine_learning) (2.8.2)\n",
            "Requirement already satisfied: sympy>=1.3 in /opt/conda/lib/python3.10/site-packages (from qiskit-terra>=0.22.2->qiskit_machine_learning) (1.11.1)\n",
            "Requirement already satisfied: stevedore>=3.0.0 in /opt/conda/lib/python3.10/site-packages (from qiskit-terra>=0.22.2->qiskit_machine_learning) (4.1.1)\n",
            "Requirement already satisfied: ply>=3.10 in /opt/conda/lib/python3.10/site-packages (from qiskit-terra>=0.22.2->qiskit_machine_learning) (3.11)\n",
            "Requirement already satisfied: symengine<0.10,>=0.9 in /opt/conda/lib/python3.10/site-packages (from qiskit-terra>=0.22.2->qiskit_machine_learning) (0.9.2)\n",
            "Requirement already satisfied: threadpoolctl>=2.0.0 in /opt/conda/lib/python3.10/site-packages (from scikit-learn>=0.20.0->qiskit_machine_learning) (3.1.0)\n",
            "Requirement already satisfied: joblib>=1.1.1 in /opt/conda/lib/python3.10/site-packages (from scikit-learn>=0.20.0->qiskit_machine_learning) (1.2.0)\n",
            "Requirement already satisfied: six>=1.5 in /opt/conda/lib/python3.10/site-packages (from python-dateutil>=2.8.0->qiskit-terra>=0.22.2->qiskit_machine_learning) (1.16.0)\n",
            "Requirement already satisfied: pbr!=2.1.0,>=2.0.0 in /opt/conda/lib/python3.10/site-packages (from stevedore>=3.0.0->qiskit-terra>=0.22.2->qiskit_machine_learning) (5.11.1)\n",
            "Requirement already satisfied: mpmath>=0.19 in /opt/conda/lib/python3.10/site-packages (from sympy>=1.3->qiskit-terra>=0.22.2->qiskit_machine_learning) (1.2.1)\n",
            "\n",
            "\u001b[1m[\u001b[0m\u001b[34;49mnotice\u001b[0m\u001b[1;39;49m]\u001b[0m\u001b[39;49m A new release of pip available: \u001b[0m\u001b[31;49m23.1.1\u001b[0m\u001b[39;49m -> \u001b[0m\u001b[32;49m23.1.2\u001b[0m\n",
            "\u001b[1m[\u001b[0m\u001b[34;49mnotice\u001b[0m\u001b[1;39;49m]\u001b[0m\u001b[39;49m To update, run: \u001b[0m\u001b[32;49mpip install --upgrade pip\u001b[0m\n",
            "Collecting nlopt\n",
            "  Using cached nlopt-2.7.1-cp310-cp310-manylinux_2_17_x86_64.manylinux2014_x86_64.whl (423 kB)\n",
            "Requirement already satisfied: numpy>=1.14 in /opt/conda/lib/python3.10/site-packages (from nlopt) (1.23.5)\n",
            "Installing collected packages: nlopt\n",
            "Successfully installed nlopt-2.7.1\n",
            "\n",
            "\u001b[1m[\u001b[0m\u001b[34;49mnotice\u001b[0m\u001b[1;39;49m]\u001b[0m\u001b[39;49m A new release of pip available: \u001b[0m\u001b[31;49m23.1.1\u001b[0m\u001b[39;49m -> \u001b[0m\u001b[32;49m23.1.2\u001b[0m\n",
            "\u001b[1m[\u001b[0m\u001b[34;49mnotice\u001b[0m\u001b[1;39;49m]\u001b[0m\u001b[39;49m To update, run: \u001b[0m\u001b[32;49mpip install --upgrade pip\u001b[0m\n"
          ]
        }
      ],
      "source": [
        "!python3.10 -m pip install qiskit_machine_learning\n",
        "!pip install nlopt --no-clean"
      ]
    },
    {
      "cell_type": "code",
      "execution_count": null,
      "id": "635ffb40-9e07-44a7-84ef-70fc69068f37",
      "metadata": {
        "tags": [],
        "id": "635ffb40-9e07-44a7-84ef-70fc69068f37",
        "outputId": "72f57786-4318-4603-e458-e72efdb69e39"
      },
      "outputs": [
        {
          "data": {
            "image/png": "[encoded data removed]",
            "text/plain": [
              "<Figure size 705.552x535.111 with 1 Axes>"
            ]
          },
          "execution_count": 52,
          "metadata": {},
          "output_type": "execute_result"
        }
      ],
      "source": [
        "from qiskit.circuit.library import RealAmplitudes\n",
        "ansatz = RealAmplitudes(num_qubits=num_features, reps=1)\n",
        "ansatz.decompose().draw(output=\"mpl\", fold=20)"
      ]
    },
    {
      "cell_type": "code",
      "execution_count": null,
      "id": "67532609-8c1f-451e-960c-6596ed6ec765",
      "metadata": {
        "tags": [],
        "id": "67532609-8c1f-451e-960c-6596ed6ec765"
      },
      "outputs": [],
      "source": [
        "from matplotlib import pyplot as plt\n",
        "from IPython.display import clear_output\n",
        "\n",
        "objective_func_vals = []\n",
        "plt.rcParams[\"figure.figsize\"] = (12, 6)\n",
        "\n",
        "count = 0\n",
        "def callback_graph(weights, obj_func_eval):\n",
        "    global count\n",
        "    count+=1\n",
        "    print(count)\n",
        "    # clear_output(wait=True)\n",
        "    # objective_func_vals.append(obj_func_eval)\n",
        "    # plt.title(\"Objective function value against iteration\")\n",
        "    # plt.xlabel(\"Iteration\")\n",
        "    # plt.ylabel(\"Objective function value\")\n",
        "    # plt.plot(range(len(objective_func_vals)), objective_func_vals)\n",
        "    # plt.show()"
      ]
    },
    {
      "cell_type": "code",
      "execution_count": null,
      "id": "b11e1a97-bec1-42bc-8737-726410c7becb",
      "metadata": {
        "tags": [],
        "id": "b11e1a97-bec1-42bc-8737-726410c7becb"
      },
      "outputs": [],
      "source": [
        "\n",
        "from qiskit_machine_learning.algorithms.classifiers import VQC\n",
        "from qiskit.algorithms.optimizers import ISRES, ADAM\n",
        "from qiskit.primitives import Sampler\n",
        "\n",
        "sampler = Sampler()\n",
        "#optimizer = optimizer = ADAM(maxiter = 100)\n",
        "optimizer = ISRES(max_evals=100)"
      ]
    },
    {
      "cell_type": "code",
      "execution_count": null,
      "id": "bed89f32-dc86-4bbc-b7a0-de40c38c8e9d",
      "metadata": {
        "tags": [],
        "id": "bed89f32-dc86-4bbc-b7a0-de40c38c8e9d",
        "outputId": "55fba292-bb37-4804-cf31-c1f9456004c4"
      },
      "outputs": [
        {
          "name": "stderr",
          "output_type": "stream",
          "text": [
            "/opt/conda/lib/python3.10/site-packages/sklearn/preprocessing/_encoders.py:828: FutureWarning: `sparse` was renamed to `sparse_output` in version 1.2 and will be removed in 1.4. `sparse_output` is ignored unless you leave `sparse` to its default value.\n",
            "  warnings.warn(\n"
          ]
        },
        {
          "name": "stdout",
          "output_type": "stream",
          "text": [
            "1\n",
            "2\n",
            "3\n",
            "4\n",
            "5\n",
            "6\n",
            "7\n",
            "8\n",
            "9\n",
            "10\n",
            "11\n",
            "12\n",
            "13\n",
            "14\n",
            "15\n",
            "16\n",
            "17\n",
            "18\n",
            "19\n",
            "20\n",
            "21\n",
            "22\n",
            "23\n",
            "24\n",
            "25\n",
            "26\n",
            "27\n",
            "28\n",
            "29\n",
            "30\n",
            "31\n",
            "32\n",
            "33\n",
            "34\n",
            "35\n",
            "36\n",
            "37\n",
            "38\n",
            "39\n",
            "40\n",
            "41\n",
            "42\n",
            "43\n",
            "44\n",
            "45\n",
            "46\n",
            "47\n",
            "48\n",
            "49\n",
            "50\n",
            "51\n",
            "52\n",
            "53\n",
            "54\n",
            "55\n",
            "56\n",
            "57\n",
            "58\n",
            "59\n",
            "60\n",
            "61\n",
            "62\n",
            "63\n",
            "64\n",
            "65\n",
            "66\n",
            "67\n",
            "68\n",
            "69\n",
            "70\n",
            "71\n",
            "72\n",
            "73\n",
            "74\n",
            "75\n",
            "76\n",
            "77\n",
            "78\n",
            "79\n",
            "80\n",
            "81\n",
            "82\n",
            "83\n",
            "84\n",
            "85\n",
            "86\n",
            "87\n",
            "88\n",
            "89\n",
            "90\n",
            "91\n",
            "92\n",
            "93\n",
            "94\n",
            "95\n",
            "96\n",
            "97\n",
            "98\n",
            "99\n",
            "100\n",
            "CPU times: user 16.6 s, sys: 76.4 ms, total: 16.7 s\n",
            "Wall time: 16.9 s\n"
          ]
        },
        {
          "data": {
            "text/plain": [
              "<qiskit_machine_learning.algorithms.classifiers.vqc.VQC at 0x7fd283e3a5c0>"
            ]
          },
          "execution_count": 209,
          "metadata": {},
          "output_type": "execute_result"
        }
      ],
      "source": [
        "%%time\n",
        "\n",
        "\n",
        "vqc = VQC(\n",
        "    sampler=sampler,\n",
        "    feature_map=feature_map,\n",
        "    ansatz=ansatz,\n",
        "    optimizer=optimizer,\n",
        "    callback=callback_graph,\n",
        ")\n",
        "\n",
        "# clear objective value history\n",
        "objective_func_vals = []\n",
        "vqc.fit(train_features_rbf, y_train.values.reshape(-1,1))"
      ]
    },
    {
      "cell_type": "code",
      "execution_count": null,
      "id": "2c4bb5a4-0c74-43b7-a246-12b99d3b3188",
      "metadata": {
        "tags": [],
        "id": "2c4bb5a4-0c74-43b7-a246-12b99d3b3188",
        "outputId": "8b93db81-c124-4488-92bf-538f624eff38"
      },
      "outputs": [
        {
          "name": "stdout",
          "output_type": "stream",
          "text": [
            "Quantum VQC on the training dataset: 0.59\n",
            "Quantum VQC on the test dataset:     0.52\n"
          ]
        }
      ],
      "source": [
        "train_score_q4 = vqc.score(train_features_rbf, y_train)\n",
        "test_score_q4 = vqc.score(test_features_rbf, y_test)\n",
        "print(f\"Quantum VQC on the training dataset: {train_score_q4:.2f}\")\n",
        "print(f\"Quantum VQC on the test dataset:     {test_score_q4:.2f}\")"
      ]
    },
    {
      "cell_type": "markdown",
      "id": "4e224e2a-5818-4edb-96c6-22dcd40cb14d",
      "metadata": {
        "id": "4e224e2a-5818-4edb-96c6-22dcd40cb14d"
      },
      "source": [
        "VQC wit Pauli Featurres Map"
      ]
    },
    {
      "cell_type": "code",
      "execution_count": null,
      "id": "5757fefd-1efc-422c-9736-bab2ae775a78",
      "metadata": {
        "tags": [],
        "id": "5757fefd-1efc-422c-9736-bab2ae775a78",
        "outputId": "04b0a189-4d41-473b-f46a-1446cf3020a2"
      },
      "outputs": [
        {
          "name": "stderr",
          "output_type": "stream",
          "text": [
            "/opt/conda/lib/python3.10/site-packages/sklearn/preprocessing/_encoders.py:828: FutureWarning: `sparse` was renamed to `sparse_output` in version 1.2 and will be removed in 1.4. `sparse_output` is ignored unless you leave `sparse` to its default value.\n",
            "  warnings.warn(\n"
          ]
        },
        {
          "name": "stdout",
          "output_type": "stream",
          "text": [
            "1\n",
            "2\n",
            "3\n",
            "4\n",
            "5\n",
            "6\n",
            "7\n",
            "8\n",
            "9\n",
            "10\n",
            "11\n",
            "12\n",
            "13\n",
            "14\n",
            "15\n",
            "16\n",
            "17\n",
            "18\n",
            "19\n",
            "20\n",
            "21\n",
            "22\n",
            "23\n",
            "24\n",
            "25\n",
            "26\n",
            "27\n",
            "28\n",
            "29\n",
            "30\n",
            "31\n",
            "32\n",
            "33\n",
            "34\n",
            "35\n",
            "36\n",
            "37\n",
            "38\n",
            "39\n",
            "40\n",
            "41\n",
            "42\n",
            "43\n",
            "44\n",
            "45\n",
            "46\n",
            "47\n",
            "48\n",
            "49\n",
            "50\n",
            "51\n",
            "52\n",
            "53\n",
            "54\n",
            "55\n",
            "56\n",
            "57\n",
            "58\n",
            "59\n",
            "60\n",
            "61\n",
            "62\n",
            "63\n",
            "64\n",
            "65\n",
            "66\n",
            "67\n",
            "68\n",
            "69\n",
            "70\n",
            "71\n",
            "72\n",
            "73\n",
            "74\n",
            "75\n",
            "76\n",
            "77\n",
            "78\n",
            "79\n",
            "80\n",
            "81\n",
            "82\n",
            "83\n",
            "84\n",
            "85\n",
            "86\n",
            "87\n",
            "88\n",
            "89\n",
            "90\n",
            "91\n",
            "92\n",
            "93\n",
            "94\n",
            "95\n",
            "96\n",
            "97\n",
            "98\n",
            "99\n",
            "100\n",
            "CPU times: user 1h 5min 20s, sys: 43.5 s, total: 1h 6min 4s\n",
            "Wall time: 1h 6min 25s\n"
          ]
        },
        {
          "data": {
            "text/plain": [
              "<qiskit_machine_learning.algorithms.classifiers.vqc.VQC at 0x7fd806d3bc70>"
            ]
          },
          "execution_count": 55,
          "metadata": {},
          "output_type": "execute_result"
        }
      ],
      "source": [
        "%%time\n",
        "vqc = VQC(\n",
        "    sampler=sampler,\n",
        "    feature_map=feature_map2,\n",
        "    ansatz=ansatz,\n",
        "    optimizer=optimizer,\n",
        "    callback=callback_graph,\n",
        ")\n",
        "\n",
        "# clear objective value history\n",
        "objective_func_vals = []\n",
        "vqc.fit(train_features_rbf, y_train.values.reshape(-1,1))"
      ]
    },
    {
      "cell_type": "code",
      "execution_count": null,
      "id": "103c8832-41ae-4f24-a6db-0a4ce7086b16",
      "metadata": {
        "tags": [],
        "id": "103c8832-41ae-4f24-a6db-0a4ce7086b16",
        "outputId": "d11d020e-ea04-4c4d-b616-ce6ce389941e"
      },
      "outputs": [
        {
          "name": "stdout",
          "output_type": "stream",
          "text": [
            "Quantum VQC on the training dataset: 0.68\n",
            "Quantum VQC on the test dataset:     0.72\n"
          ]
        }
      ],
      "source": [
        "train_score_q4 = vqc.score(train_features_rbf, y_train)\n",
        "test_score_q4 = vqc.score(test_features_rbf, y_test)\n",
        "print(f\"Quantum VQC on the training dataset: {train_score_q4:.2f}\")\n",
        "print(f\"Quantum VQC on the test dataset:     {test_score_q4:.2f}\")"
      ]
    },
    {
      "cell_type": "code",
      "execution_count": null,
      "id": "85e5999c-022f-4f56-a283-a98589be9ddb",
      "metadata": {
        "id": "85e5999c-022f-4f56-a283-a98589be9ddb"
      },
      "outputs": [],
      "source": []
    }
  ],
  "metadata": {
    "kernelspec": {
      "display_name": "Python 3 (ipykernel)",
      "language": "python",
      "name": "python3"
    },
    "language_info": {
      "codemirror_mode": {
        "name": "ipython",
        "version": 3
      },
      "file_extension": ".py",
      "mimetype": "text/x-python",
      "name": "python",
      "nbconvert_exporter": "python",
      "pygments_lexer": "ipython3",
      "version": "3.10.8"
    },
    "colab": {
      "provenance": [],
      "include_colab_link": true
    }
  },
  "nbformat": 4,
  "nbformat_minor": 5
}